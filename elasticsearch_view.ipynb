{
 "cells": [
  {
   "cell_type": "markdown",
   "id": "efe8aac9",
   "metadata": {},
   "source": [
    "<center>\n",
    "    <img src='./img/elasticsearch.png' width='480px'>\n",
    "</center>"
   ]
  },
  {
   "cell_type": "markdown",
   "id": "1e36f4aa",
   "metadata": {},
   "source": [
    "# 简介"
   ]
  },
  {
   "cell_type": "markdown",
   "id": "f63f598c",
   "metadata": {},
   "source": [
    "`Elasticsearch`是一个基于`Lucene`搜索引擎构建的分布式全文搜索和分析引擎。它提供了一个简单易用的`RESTful API`，可用于搜索、聚合和分析大量的结构化和非结构化数据。`Elasticsearch`在大数据场景下非常有用，它能够快速地处理海量数据，支持实时搜索和分析，并能够自动扩展以支持更大的数据集。\n",
    "\n",
    "> `Elasticsearch`的主要特点：\n",
    "\n",
    "1. 分布式：`Elasticsearch`是一个分布式系统，可以在多台服务器上运行。它能够自动将数据分配到多个节点上，从而提高了系统的可扩展性和鲁棒性。\n",
    "\n",
    "1. 实时搜索：`Elasticsearch`能够在几乎实时的速度下搜索和分析数据。它使用了一些高效的数据结构和算法来加速搜索和过滤操作，使得用户能够以非常短的时间内获得结果。\n",
    "\n",
    "1. 多种查询方式：`Elasticsearch`支持多种查询方式，包括全文搜索、精确匹配、范围查询、模糊查询、聚合查询等，能够满足不同的数据分析需求。\n",
    "\n",
    "1. 易于安装和使用：`Elasticsearch`提供了一个简单易用的`RESTful API`，使得开发者可以轻松地与系统进行交互。此外，它还提供了一些方便的工具和插件，例如`Kibana`、`Logstash`等，可以帮助用户更好地管理和分析数据。\n",
    "\n",
    "1. 可扩展性：`Elasticsearch`能够自动扩展以支持更大的数据集。它使用了一些智能分片和副本机制来保证数据安全性和高可用性。\n",
    "\n",
    "> `Elasticsearch`的主要用途：\n",
    "\n",
    "1. 搜索引擎：`Elasticsearch`最初就是作为搜索引擎而开发的。它可以轻松地搜索和索引大量的文本数据，包括结构化和非结构化的数据。它可以快速地提供相关性搜索、自动完成、矫正拼写等功能，使得用户能够轻松地找到他们需要的信息。\n",
    "\n",
    "2. 数据分析、数据挖掘：`Elasticsearch`可以用于大数据分析。它支持实时聚合和分析数据，包括对数据进行过滤、排序、统计等操作。此外也可以进行一定的自然语言处理分析，如文本的向量搜索等。\n",
    "\n",
    "3. 日志管理：`Elasticsearch`可以用于收集和管理大量的日志数据。它支持实时数据处理和搜索，可以快速地找到系统中的问题和错误。\n",
    "\n",
    "4. 业务智能：`Elasticsearch`可以用于构建业务智能系统。它可以将不同的数据源进行整合，并从中提取有用的信息。 "
   ]
  },
  {
   "cell_type": "markdown",
   "id": "10498c0a",
   "metadata": {},
   "source": [
    "# 本系内容的要点\n",
    "\n",
    "1. 了解ES数据库如何使用\n",
    "2. 主要使用`Python`进行实战\n",
    "3. 服务于自然语言处理"
   ]
  },
  {
   "cell_type": "markdown",
   "id": "36abd94b",
   "metadata": {},
   "source": [
    "# 目录"
   ]
  },
  {
   "cell_type": "markdown",
   "id": "00da3d64",
   "metadata": {},
   "source": [
    "1. 基本介绍：[elasticsearch_view.ipynb](./elasticsearch_view.ipynb)\n",
    "1. 安装说明：[elasticsearch_install.ipynb](./elasticsearch_install.ipynb)\n",
    "1. Py链接ES：[elasticsearch_dsl_connections.ipynb](./elasticsearch_dsl_connections.ipynb)\n",
    "1. Index介绍：[elasticsearch_dsl_index_01.ipynb](./elasticsearch_dsl_index_01.ipynb)\n",
    "1. Document介绍：[elasticsearch_dsl_document_01.ipynb](./elasticsearch_dsl_document_01.ipynb)\n",
    "1. Kibana介绍：[elasticsearch_dsl_kibana.ipynb](./elasticsearch_dsl_kibana.ipynb)\n",
    "1. Search搜索：[elasticsearch_dsl_search.ipynb](./elasticsearch_dsl_search.ipynb)\n",
    "1. Match匹配：[elasticsearch_dsl_match.ipynb](./elasticsearch_dsl_match.ipynb)\n",
    "1. 正则表达式：[elasticsearch_dsl_regexp.ipynb](./elasticsearch_dsl_regexp.ipynb)\n",
    "1. Fuzzy查询：[elasticsearch_dsl_fuzzy.ipynb](./elasticsearch_dsl_fuzzy.ipynb)\n",
    "1. Query匹配：[elasticsearch_dsl_query.ipynb](./elasticsearch_dsl_query.ipynb)\n",
    "1. Filters查询：[elasticsearch_dsl_filter.ipynb](./elasticsearch_dsl_filter.ipynb)\n",
    "1. 分词（word cut）：[elasticsearch_dsl_word_cut.ipynb](./elasticsearch_dsl_word_cut.ipynb)\n",
    "1. 相似度索引：[elasticsearch_dsl_sim.ipynb](./elasticsearch_dsl_sim.ipynb)\n",
    "\n",
    "----\n",
    "\n",
    "\n",
    "\n",
    "----\n",
    "\n"
   ]
  },
  {
   "cell_type": "markdown",
   "id": "2fbb4745",
   "metadata": {},
   "source": [
    "```python\n",
    "!pip install elasticsearch\n",
    "!pip install elasticsearch-dsl\n",
    "```"
   ]
  },
  {
   "cell_type": "markdown",
   "id": "ac9d41fc",
   "metadata": {},
   "source": [
    "----\n",
    "> 以下为待开发项目：\n",
    "\n",
    "- prefix查询\n",
    "- wildcard查询\n",
    "- 同义词[synonym](https://www.elastic.co/guide/en/elasticsearch/reference/current/analysis-synonym-tokenfilter.html#analysis-synonym-tokenfilter)\n",
    "- 拼音`PinYin`\n",
    "\n",
    "\n",
    "1. [elasticsearch_dsl_py.ipynb](./elasticsearch_dsl_py.ipynb)"
   ]
  },
  {
   "cell_type": "markdown",
   "id": "d983bda6",
   "metadata": {},
   "source": [
    "----"
   ]
  }
 ],
 "metadata": {
  "kernelspec": {
   "display_name": "Python 3 (ipykernel)",
   "language": "python",
   "name": "python3"
  },
  "language_info": {
   "codemirror_mode": {
    "name": "ipython",
    "version": 3
   },
   "file_extension": ".py",
   "mimetype": "text/x-python",
   "name": "python",
   "nbconvert_exporter": "python",
   "pygments_lexer": "ipython3",
   "version": "3.10.11"
  },
  "nbTranslate": {
   "displayLangs": [
    "*"
   ],
   "hotkey": "alt-t",
   "langInMainMenu": true,
   "sourceLang": "en",
   "targetLang": "fr",
   "useGoogleTranslate": true
  },
  "toc": {
   "base_numbering": 1,
   "nav_menu": {},
   "number_sections": true,
   "sideBar": true,
   "skip_h1_title": false,
   "title_cell": "Table of Contents",
   "title_sidebar": "Contents",
   "toc_cell": false,
   "toc_position": {},
   "toc_section_display": true,
   "toc_window_display": false
  }
 },
 "nbformat": 4,
 "nbformat_minor": 5
}
