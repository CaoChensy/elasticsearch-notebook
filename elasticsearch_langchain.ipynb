{
 "cells": [
  {
   "cell_type": "markdown",
   "id": "73288d22",
   "metadata": {},
   "source": [
    "# ElasticSearch"
   ]
  },
  {
   "cell_type": "markdown",
   "id": "683953b3",
   "metadata": {
    "id": "683953b3",
    "lang": "en"
   },
   "source": [
    ">[Elasticsearch](https://www.elastic.co/elasticsearch/) 是一个分布式的 RESTful 搜索和分析引擎。它提供了一个分布式的、支持多租户的全文搜索引擎，带有 HTTP Web 界面和 `schema-free` 的 JSON 文档。\n",
    "\n",
    "这个 Notebook 展示了如何使用与`Elasticsearch`数据库相关的功能。"
   ]
  },
  {
   "cell_type": "markdown",
   "id": "tKSYjyTBtSLc",
   "metadata": {
    "id": "tKSYjyTBtSLc"
   },
   "source": [
    "# ElasticVectorSearch class"
   ]
  },
  {
   "cell_type": "markdown",
   "id": "b66c12b2-2a07-4136-ac77-ce1c9fa7a409",
   "metadata": {
    "id": "b66c12b2-2a07-4136-ac77-ce1c9fa7a409",
    "tags": []
   },
   "source": [
    "## 安装"
   ]
  },
  {
   "cell_type": "markdown",
   "id": "81f43794-f002-477c-9b68-4975df30e718",
   "metadata": {
    "id": "81f43794-f002-477c-9b68-4975df30e718",
    "lang": "en"
   },
   "source": [
    "查看 [Elasticsearch 安装说明](https://www.elastic.co/guide/en/elasticsearch/reference/current/install-elasticsearch.html).\n",
    "\n",
    "通过指定`Elasticsearch URL/index name/embedding`获取不需要密码登录的 Elasticsearch 实例。\n",
    "\n",
    "示例:\n",
    "```python\n",
    "        from langchain import ElasticVectorSearch\n",
    "        from langchain.embeddings import OpenAIEmbeddings\n",
    "\n",
    "        embedding = OpenAIEmbeddings()\n",
    "        elastic_vector_search = ElasticVectorSearch(\n",
    "            elasticsearch_url=\"http://localhost:9200\",\n",
    "            index_name=\"test_index\",\n",
    "            embedding=embedding\n",
    "        )\n",
    "```\n",
    "\n",
    "要连接到需要登录凭据的 Elasticsearch 实例，\n",
    "如 `Elastic Cloud`, 使用 Elasticsearch URL 格式\n",
    "(`https://username:password@es_host:9243`)。\n",
    "\n",
    "示例:\n",
    "```python\n",
    "        from langchain import ElasticVectorSearch\n",
    "        from langchain.embeddings import OpenAIEmbeddings\n",
    "\n",
    "        embedding = OpenAIEmbeddings()\n",
    "\n",
    "        elastic_host = \"cluster_id.region_id.gcp.cloud.es.io\"\n",
    "        elasticsearch_url = f\"https://username:password@{elastic_host}:9243\"\n",
    "        elastic_vector_search = ElasticVectorSearch(\n",
    "            elasticsearch_url=elasticsearch_url,\n",
    "            index_name=\"test_index\",\n",
    "            embedding=embedding\n",
    "        )\n",
    "```"
   ]
  },
  {
   "cell_type": "markdown",
   "id": "f6030187-0bd7-4798-8372-a265036af5e0",
   "metadata": {
    "id": "f6030187-0bd7-4798-8372-a265036af5e0",
    "tags": []
   },
   "source": [
    "## Example"
   ]
  },
  {
   "cell_type": "code",
   "execution_count": 2,
   "id": "aac9563e",
   "metadata": {
    "id": "aac9563e",
    "tags": []
   },
   "outputs": [],
   "source": [
    "from langchain.embeddings.openai import OpenAIEmbeddings\n",
    "from langchain.text_splitter import CharacterTextSplitter\n",
    "from langchain.vectorstores import ElasticVectorSearch\n",
    "from langchain.document_loaders import TextLoader"
   ]
  },
  {
   "cell_type": "code",
   "execution_count": 5,
   "id": "87e8c1e8",
   "metadata": {},
   "outputs": [
    {
     "name": "stderr",
     "output_type": "stream",
     "text": [
      "Created a chunk of size 167, which is longer than the specified 50\n",
      "Created a chunk of size 281, which is longer than the specified 50\n",
      "Created a chunk of size 202, which is longer than the specified 50\n",
      "Created a chunk of size 219, which is longer than the specified 50\n",
      "Created a chunk of size 213, which is longer than the specified 50\n",
      "Created a chunk of size 619, which is longer than the specified 50\n",
      "Created a chunk of size 195, which is longer than the specified 50\n",
      "Created a chunk of size 815, which is longer than the specified 50\n",
      "Created a chunk of size 126, which is longer than the specified 50\n",
      "Created a chunk of size 868, which is longer than the specified 50\n"
     ]
    }
   ],
   "source": [
    "from langchain.document_loaders import TextLoader\n",
    "loader = TextLoader('/data/项目/01-产业链图谱-节点识别/knowledge/氢能源/氢能源知识文档.md', encoding='utf-8')\n",
    "documents = loader.load()\n",
    "text_splitter = CharacterTextSplitter(chunk_size=50, chunk_overlap=0)\n",
    "docs = text_splitter.split_documents(documents)"
   ]
  },
  {
   "cell_type": "code",
   "execution_count": 7,
   "id": "a3c3999a",
   "metadata": {
    "id": "a3c3999a",
    "tags": []
   },
   "outputs": [
    {
     "name": "stderr",
     "output_type": "stream",
     "text": [
      "No sentence-transformers model found with name /data/models/ernie-3.0-nano-zh. Creating a new one with MEAN pooling.\n",
      "Some weights of ErnieModel were not initialized from the model checkpoint at /data/models/ernie-3.0-nano-zh and are newly initialized: ['ernie.pooler.dense.weight', 'ernie.pooler.dense.bias']\n",
      "You should probably TRAIN this model on a down-stream task to be able to use it for predictions and inference.\n"
     ]
    }
   ],
   "source": [
    "from langchain.embeddings.huggingface import HuggingFaceEmbeddings\n",
    "path = \"/data/models/ernie-3.0-nano-zh\"\n",
    "embeddings = HuggingFaceEmbeddings(model_name=path)"
   ]
  },
  {
   "cell_type": "code",
   "execution_count": 19,
   "id": "99d6701f",
   "metadata": {},
   "outputs": [
    {
     "data": {
      "text/plain": [
       "10"
      ]
     },
     "execution_count": 19,
     "metadata": {},
     "output_type": "execute_result"
    }
   ],
   "source": [
    "len(docs)"
   ]
  },
  {
   "cell_type": "code",
   "execution_count": 21,
   "id": "f8e08413",
   "metadata": {},
   "outputs": [],
   "source": [
    "ElasticVectorSearch.from_documents??"
   ]
  },
  {
   "cell_type": "code",
   "execution_count": 27,
   "id": "2082c7ee",
   "metadata": {},
   "outputs": [],
   "source": [
    "db = ElasticVectorSearch(elasticsearch_url=\"http://localhost:9200\", index_name='my_docs', embedding=embeddings)"
   ]
  },
  {
   "cell_type": "code",
   "execution_count": 28,
   "id": "f7d710f8",
   "metadata": {
    "collapsed": true
   },
   "outputs": [
    {
     "ename": "ValueError",
     "evalue": "Did not find elasticsearch_url, please add an environment variable `ELASTICSEARCH_URL` which contains it, or pass  `elasticsearch_url` as a named parameter.",
     "output_type": "error",
     "traceback": [
      "\u001b[1;31m---------------------------------------------------------------------------\u001b[0m",
      "\u001b[1;31mValueError\u001b[0m                                Traceback (most recent call last)",
      "Cell \u001b[1;32mIn[28], line 1\u001b[0m\n\u001b[1;32m----> 1\u001b[0m \u001b[43mdb\u001b[49m\u001b[38;5;241;43m.\u001b[39;49m\u001b[43mfrom_documents\u001b[49m\u001b[43m(\u001b[49m\u001b[43mdocs\u001b[49m\u001b[43m,\u001b[49m\u001b[43m \u001b[49m\u001b[43membedding\u001b[49m\u001b[38;5;241;43m=\u001b[39;49m\u001b[43membeddings\u001b[49m\u001b[43m)\u001b[49m\n",
      "File \u001b[1;32m~\\AppData\\Local\\Programs\\Python\\Python310\\lib\\site-packages\\langchain\\vectorstores\\base.py:272\u001b[0m, in \u001b[0;36mVectorStore.from_documents\u001b[1;34m(cls, documents, embedding, **kwargs)\u001b[0m\n\u001b[0;32m    270\u001b[0m texts \u001b[38;5;241m=\u001b[39m [d\u001b[38;5;241m.\u001b[39mpage_content \u001b[38;5;28;01mfor\u001b[39;00m d \u001b[38;5;129;01min\u001b[39;00m documents]\n\u001b[0;32m    271\u001b[0m metadatas \u001b[38;5;241m=\u001b[39m [d\u001b[38;5;241m.\u001b[39mmetadata \u001b[38;5;28;01mfor\u001b[39;00m d \u001b[38;5;129;01min\u001b[39;00m documents]\n\u001b[1;32m--> 272\u001b[0m \u001b[38;5;28;01mreturn\u001b[39;00m \u001b[38;5;28mcls\u001b[39m\u001b[38;5;241m.\u001b[39mfrom_texts(texts, embedding, metadatas\u001b[38;5;241m=\u001b[39mmetadatas, \u001b[38;5;241m*\u001b[39m\u001b[38;5;241m*\u001b[39mkwargs)\n",
      "File \u001b[1;32m~\\AppData\\Local\\Programs\\Python\\Python310\\lib\\site-packages\\langchain\\vectorstores\\elastic_vector_search.py:265\u001b[0m, in \u001b[0;36mElasticVectorSearch.from_texts\u001b[1;34m(cls, texts, embedding, metadatas, **kwargs)\u001b[0m\n\u001b[0;32m    236\u001b[0m \u001b[38;5;129m@classmethod\u001b[39m\n\u001b[0;32m    237\u001b[0m \u001b[38;5;28;01mdef\u001b[39;00m \u001b[38;5;21mfrom_texts\u001b[39m(\n\u001b[0;32m    238\u001b[0m     \u001b[38;5;28mcls\u001b[39m,\n\u001b[1;32m   (...)\u001b[0m\n\u001b[0;32m    242\u001b[0m     \u001b[38;5;241m*\u001b[39m\u001b[38;5;241m*\u001b[39mkwargs: Any,\n\u001b[0;32m    243\u001b[0m ) \u001b[38;5;241m-\u001b[39m\u001b[38;5;241m>\u001b[39m ElasticVectorSearch:\n\u001b[0;32m    244\u001b[0m     \u001b[38;5;124;03m\"\"\"Construct ElasticVectorSearch wrapper from raw documents.\u001b[39;00m\n\u001b[0;32m    245\u001b[0m \n\u001b[0;32m    246\u001b[0m \u001b[38;5;124;03m    This is a user-friendly interface that:\u001b[39;00m\n\u001b[1;32m   (...)\u001b[0m\n\u001b[0;32m    263\u001b[0m \u001b[38;5;124;03m            )\u001b[39;00m\n\u001b[0;32m    264\u001b[0m \u001b[38;5;124;03m    \"\"\"\u001b[39;00m\n\u001b[1;32m--> 265\u001b[0m     elasticsearch_url \u001b[38;5;241m=\u001b[39m \u001b[43mget_from_dict_or_env\u001b[49m\u001b[43m(\u001b[49m\n\u001b[0;32m    266\u001b[0m \u001b[43m        \u001b[49m\u001b[43mkwargs\u001b[49m\u001b[43m,\u001b[49m\u001b[43m \u001b[49m\u001b[38;5;124;43m\"\u001b[39;49m\u001b[38;5;124;43melasticsearch_url\u001b[39;49m\u001b[38;5;124;43m\"\u001b[39;49m\u001b[43m,\u001b[49m\u001b[43m \u001b[49m\u001b[38;5;124;43m\"\u001b[39;49m\u001b[38;5;124;43mELASTICSEARCH_URL\u001b[39;49m\u001b[38;5;124;43m\"\u001b[39;49m\n\u001b[0;32m    267\u001b[0m \u001b[43m    \u001b[49m\u001b[43m)\u001b[49m\n\u001b[0;32m    268\u001b[0m     \u001b[38;5;28;01mtry\u001b[39;00m:\n\u001b[0;32m    269\u001b[0m         \u001b[38;5;28;01mimport\u001b[39;00m \u001b[38;5;21;01melasticsearch\u001b[39;00m\n",
      "File \u001b[1;32m~\\AppData\\Local\\Programs\\Python\\Python310\\lib\\site-packages\\langchain\\utils.py:15\u001b[0m, in \u001b[0;36mget_from_dict_or_env\u001b[1;34m(data, key, env_key, default)\u001b[0m\n\u001b[0;32m     13\u001b[0m     \u001b[38;5;28;01mreturn\u001b[39;00m data[key]\n\u001b[0;32m     14\u001b[0m \u001b[38;5;28;01melse\u001b[39;00m:\n\u001b[1;32m---> 15\u001b[0m     \u001b[38;5;28;01mreturn\u001b[39;00m \u001b[43mget_from_env\u001b[49m\u001b[43m(\u001b[49m\u001b[43mkey\u001b[49m\u001b[43m,\u001b[49m\u001b[43m \u001b[49m\u001b[43menv_key\u001b[49m\u001b[43m,\u001b[49m\u001b[43m \u001b[49m\u001b[43mdefault\u001b[49m\u001b[38;5;241;43m=\u001b[39;49m\u001b[43mdefault\u001b[49m\u001b[43m)\u001b[49m\n",
      "File \u001b[1;32m~\\AppData\\Local\\Programs\\Python\\Python310\\lib\\site-packages\\langchain\\utils.py:25\u001b[0m, in \u001b[0;36mget_from_env\u001b[1;34m(key, env_key, default)\u001b[0m\n\u001b[0;32m     23\u001b[0m     \u001b[38;5;28;01mreturn\u001b[39;00m default\n\u001b[0;32m     24\u001b[0m \u001b[38;5;28;01melse\u001b[39;00m:\n\u001b[1;32m---> 25\u001b[0m     \u001b[38;5;28;01mraise\u001b[39;00m \u001b[38;5;167;01mValueError\u001b[39;00m(\n\u001b[0;32m     26\u001b[0m         \u001b[38;5;124mf\u001b[39m\u001b[38;5;124m\"\u001b[39m\u001b[38;5;124mDid not find \u001b[39m\u001b[38;5;132;01m{\u001b[39;00mkey\u001b[38;5;132;01m}\u001b[39;00m\u001b[38;5;124m, please add an environment variable\u001b[39m\u001b[38;5;124m\"\u001b[39m\n\u001b[0;32m     27\u001b[0m         \u001b[38;5;124mf\u001b[39m\u001b[38;5;124m\"\u001b[39m\u001b[38;5;124m `\u001b[39m\u001b[38;5;132;01m{\u001b[39;00menv_key\u001b[38;5;132;01m}\u001b[39;00m\u001b[38;5;124m` which contains it, or pass\u001b[39m\u001b[38;5;124m\"\u001b[39m\n\u001b[0;32m     28\u001b[0m         \u001b[38;5;124mf\u001b[39m\u001b[38;5;124m\"\u001b[39m\u001b[38;5;124m  `\u001b[39m\u001b[38;5;132;01m{\u001b[39;00mkey\u001b[38;5;132;01m}\u001b[39;00m\u001b[38;5;124m` as a named parameter.\u001b[39m\u001b[38;5;124m\"\u001b[39m\n\u001b[0;32m     29\u001b[0m     )\n",
      "\u001b[1;31mValueError\u001b[0m: Did not find elasticsearch_url, please add an environment variable `ELASTICSEARCH_URL` which contains it, or pass  `elasticsearch_url` as a named parameter."
     ]
    }
   ],
   "source": [
    "db.from_documents(docs, embedding=embeddings)"
   ]
  },
  {
   "cell_type": "code",
   "execution_count": 29,
   "id": "4a423394",
   "metadata": {},
   "outputs": [],
   "source": [
    "db = ElasticVectorSearch.from_documents(\n",
    "    docs, embeddings, elasticsearch_url=\"http://localhost:9200\",index_name='my_docs')"
   ]
  },
  {
   "cell_type": "code",
   "execution_count": 22,
   "id": "7df793c0",
   "metadata": {},
   "outputs": [],
   "source": [
    "ElasticVectorSearch??"
   ]
  },
  {
   "cell_type": "code",
   "execution_count": 30,
   "id": "eb17d2d6",
   "metadata": {},
   "outputs": [
    {
     "data": {
      "text/plain": [
       "'my_docs'"
      ]
     },
     "execution_count": 30,
     "metadata": {},
     "output_type": "execute_result"
    }
   ],
   "source": [
    "db.index_name"
   ]
  },
  {
   "cell_type": "code",
   "execution_count": 13,
   "id": "12eb86d8",
   "metadata": {
    "id": "12eb86d8",
    "tags": []
   },
   "outputs": [],
   "source": [
    "query = \"上游\"\n",
    "docs = db.similarity_search(query, k=10)"
   ]
  },
  {
   "cell_type": "code",
   "execution_count": 16,
   "id": "4b172de8",
   "metadata": {
    "id": "4b172de8",
    "outputId": "ca05a209-4514-4b5c-f6cb-2348f58c19a2"
   },
   "outputs": [
    {
     "name": "stdout",
     "output_type": "stream",
     "text": [
      "<split>\n",
      "\n",
      "> 上游产业链划分：能源端\n",
      "<split>\n",
      "\n",
      "> 下游产业链划分：应用端\n",
      "**氢能源总体产业链划分**：\n",
      "<split>\n",
      "\n",
      "> 国际产业链所属发展阶段\n",
      "\n",
      "### 1.3 氢能源技术原理\n",
      "<split>\n",
      "\n",
      "### 1.2 产业链发展\n",
      "\n",
      "> 我国产业链所属发展阶段\n",
      "<split>\n",
      "\n",
      "> 中游产业链划分：中游氢燃料电池关键零部件端\n",
      "<split>\n",
      "\n",
      "## 2. 氢能源产业链划分\n",
      "\n",
      "> 产业链总体划分\n",
      "**氢能源上游产业链划分**：制氢、存储、运输、加氢。\n",
      "# 氢能源知识文档\n",
      "\n",
      "## 1. 氢能源简介\n",
      "\n",
      "### 1.1 制氢能力\n",
      "<split>\n",
      "\n",
      "## 3. 其他\n",
      "\n",
      "## 4. 参考文件\n",
      "\n",
      "1. \n",
      "\n",
      "<split>\n"
     ]
    }
   ],
   "source": [
    "for doc in docs:\n",
    "    print(doc.page_content)"
   ]
  },
  {
   "cell_type": "markdown",
   "id": "FheGPztJsrRB",
   "metadata": {
    "id": "FheGPztJsrRB"
   },
   "source": [
    "# ElasticKnnSearch Class\n",
    "The `ElasticKnnSearch` implements features allowing storing vectors and documents in Elasticsearch for use with approximate [kNN search](https://www.elastic.co/guide/en/elasticsearch/reference/current/knn-search.html)"
   ]
  },
  {
   "cell_type": "code",
   "execution_count": null,
   "id": "gRVcbh5zqCJQ",
   "metadata": {
    "id": "gRVcbh5zqCJQ"
   },
   "outputs": [],
   "source": [
    "!pip install langchain elasticsearch"
   ]
  },
  {
   "cell_type": "code",
   "execution_count": null,
   "id": "TJtqiw5AqBp8",
   "metadata": {
    "id": "TJtqiw5AqBp8"
   },
   "outputs": [],
   "source": [
    "from langchain.vectorstores.elastic_vector_search import ElasticKnnSearch\n",
    "from langchain.embeddings import ElasticsearchEmbeddings\n",
    "import elasticsearch"
   ]
  },
  {
   "cell_type": "code",
   "execution_count": null,
   "id": "XHfC0As6qN3T",
   "metadata": {
    "id": "XHfC0As6qN3T"
   },
   "outputs": [],
   "source": [
    "# Initialize ElasticsearchEmbeddings\n",
    "model_id = \"<model_id_from_es>\" \n",
    "dims = dim_count\n",
    "es_cloud_id = \"ESS_CLOUD_ID\"\n",
    "es_user = \"es_user\"\n",
    "es_password = \"es_pass\"\n",
    "test_index = \"<index_name>\"\n",
    "#input_field = \"your_input_field\" # if different from 'text_field'"
   ]
  },
  {
   "cell_type": "code",
   "execution_count": null,
   "id": "UkTipx1lqc3h",
   "metadata": {
    "id": "UkTipx1lqc3h"
   },
   "outputs": [],
   "source": [
    "# Generate embedding object\n",
    "embeddings = ElasticsearchEmbeddings.from_credentials(\n",
    "    model_id,\n",
    "    #input_field=input_field,\n",
    "    es_cloud_id=es_cloud_id,\n",
    "    es_user=es_user,\n",
    "    es_password=es_password,\n",
    ")"
   ]
  },
  {
   "cell_type": "code",
   "execution_count": null,
   "id": "74psgD0oqjYK",
   "metadata": {
    "id": "74psgD0oqjYK"
   },
   "outputs": [],
   "source": [
    "# Initialize ElasticKnnSearch\n",
    "knn_search = ElasticKnnSearch(\n",
    "\tes_cloud_id=es_cloud_id, \n",
    "\tes_user=es_user, \n",
    "\tes_password=es_password, \n",
    "\tindex_name= test_index, \n",
    "\tembedding= embeddings\n",
    ")"
   ]
  },
  {
   "cell_type": "markdown",
   "id": "7AfgIKLWqnQl",
   "metadata": {
    "id": "7AfgIKLWqnQl"
   },
   "source": [
    "## Test adding vectors"
   ]
  },
  {
   "cell_type": "code",
   "execution_count": null,
   "id": "yNUUIaL9qmze",
   "metadata": {
    "id": "yNUUIaL9qmze"
   },
   "outputs": [],
   "source": [
    "# Test `add_texts` method\n",
    "texts = [\"Hello, world!\", \"Machine learning is fun.\", \"I love Python.\"]\n",
    "knn_search.add_texts(texts)\n",
    "\n",
    "# Test `from_texts` method\n",
    "new_texts = [\"This is a new text.\", \"Elasticsearch is powerful.\", \"Python is great for data analysis.\"]\n",
    "knn_search.from_texts(new_texts, dims=dims)"
   ]
  },
  {
   "cell_type": "markdown",
   "id": "0zdR-Iubquov",
   "metadata": {
    "id": "0zdR-Iubquov"
   },
   "source": [
    "## Test knn search using query vector builder "
   ]
  },
  {
   "cell_type": "code",
   "execution_count": null,
   "id": "bwR4jYvqqxTo",
   "metadata": {
    "id": "bwR4jYvqqxTo"
   },
   "outputs": [],
   "source": [
    "# Test `knn_search` method with model_id and query_text\n",
    "query = \"Hello\"\n",
    "knn_result = knn_search.knn_search(query = query, model_id= model_id, k=2)\n",
    "print(f\"kNN search results for query '{query}': {knn_result}\")\n",
    "print(f\"The 'text' field value from the top hit is: '{knn_result['hits']['hits'][0]['_source']['text']}'\")\n",
    "\n",
    "# Test `hybrid_search` method\n",
    "query = \"Hello\"\n",
    "hybrid_result = knn_search.knn_hybrid_search(query = query, model_id= model_id, k=2)\n",
    "print(f\"Hybrid search results for query '{query}': {hybrid_result}\")\n",
    "print(f\"The 'text' field value from the top hit is: '{hybrid_result['hits']['hits'][0]['_source']['text']}'\")"
   ]
  },
  {
   "cell_type": "markdown",
   "id": "ltXYqp0qqz7R",
   "metadata": {
    "id": "ltXYqp0qqz7R"
   },
   "source": [
    "## Test knn search using pre generated vector \n"
   ]
  },
  {
   "cell_type": "code",
   "execution_count": null,
   "id": "O5COtpTqq23t",
   "metadata": {
    "id": "O5COtpTqq23t"
   },
   "outputs": [],
   "source": [
    "# Generate embedding for tests\n",
    "query_text = 'Hello'\n",
    "query_embedding = embeddings.embed_query(query_text)\n",
    "print(f\"Length of embedding: {len(query_embedding)}\\nFirst two items in embedding: {query_embedding[:2]}\")\n",
    "\n",
    "# Test knn Search\n",
    "knn_result = knn_search.knn_search(query_vector = query_embedding, k=2)\n",
    "print(f\"The 'text' field value from the top hit is: '{knn_result['hits']['hits'][0]['_source']['text']}'\")\n",
    "\n",
    "# Test hybrid search - Requires both query_text and query_vector\n",
    "knn_result = knn_search.knn_hybrid_search(query_vector = query_embedding, query=query_text, k=2)\n",
    "print(f\"The 'text' field value from the top hit is: '{knn_result['hits']['hits'][0]['_source']['text']}'\")"
   ]
  },
  {
   "cell_type": "markdown",
   "id": "0dnmimcJq42C",
   "metadata": {
    "id": "0dnmimcJq42C"
   },
   "source": [
    "## Test source option"
   ]
  },
  {
   "cell_type": "code",
   "execution_count": null,
   "id": "v4_B72nHq7g1",
   "metadata": {
    "id": "v4_B72nHq7g1"
   },
   "outputs": [],
   "source": [
    "# Test `knn_search` method with model_id and query_text\n",
    "query = \"Hello\"\n",
    "knn_result = knn_search.knn_search(query = query, model_id= model_id, k=2, source=False)\n",
    "assert not '_source' in knn_result['hits']['hits'][0].keys()\n",
    "\n",
    "# Test `hybrid_search` method\n",
    "query = \"Hello\"\n",
    "hybrid_result = knn_search.knn_hybrid_search(query = query, model_id= model_id, k=2, source=False)\n",
    "assert not '_source' in hybrid_result['hits']['hits'][0].keys()"
   ]
  },
  {
   "cell_type": "markdown",
   "id": "teHgJgrlq-Jb",
   "metadata": {
    "id": "teHgJgrlq-Jb"
   },
   "source": [
    "## Test fields option "
   ]
  },
  {
   "cell_type": "code",
   "execution_count": null,
   "id": "utNBbpZYrAYW",
   "metadata": {
    "id": "utNBbpZYrAYW"
   },
   "outputs": [],
   "source": [
    "# Test `knn_search` method with model_id and query_text\n",
    "query = \"Hello\"\n",
    "knn_result = knn_search.knn_search(query = query, model_id= model_id, k=2, fields=['text'])\n",
    "assert 'text' in knn_result['hits']['hits'][0]['fields'].keys()\n",
    "\n",
    "# Test `hybrid_search` method\n",
    "query = \"Hello\"\n",
    "hybrid_result = knn_search.knn_hybrid_search(query = query, model_id= model_id, k=2, fields=['text'])\n",
    "assert 'text' in hybrid_result['hits']['hits'][0]['fields'].keys()"
   ]
  },
  {
   "cell_type": "markdown",
   "id": "hddsIFferBy1",
   "metadata": {
    "id": "hddsIFferBy1"
   },
   "source": [
    "### Test with es client connection rather than cloud_id "
   ]
  },
  {
   "cell_type": "code",
   "execution_count": null,
   "id": "bXqrUnoirFia",
   "metadata": {
    "id": "bXqrUnoirFia"
   },
   "outputs": [],
   "source": [
    "# Create Elasticsearch connection\n",
    "es_connection = Elasticsearch(\n",
    "    hosts=['https://es_cluster_url:port'], \n",
    "    basic_auth=('user', 'password')\n",
    ")"
   ]
  },
  {
   "cell_type": "code",
   "execution_count": null,
   "id": "TIM__Hm8rSEW",
   "metadata": {
    "id": "TIM__Hm8rSEW"
   },
   "outputs": [],
   "source": [
    "# Instantiate ElasticsearchEmbeddings using es_connection\n",
    "embeddings = ElasticsearchEmbeddings.from_es_connection(\n",
    "    model_id,\n",
    "    es_connection,\n",
    ")"
   ]
  },
  {
   "cell_type": "code",
   "execution_count": null,
   "id": "1-CdnOrArVc_",
   "metadata": {
    "id": "1-CdnOrArVc_"
   },
   "outputs": [],
   "source": [
    "# Initialize ElasticKnnSearch\n",
    "knn_search = ElasticKnnSearch(\n",
    "\tes_connection = es_connection,\n",
    "\tindex_name= test_index, \n",
    "\tembedding= embeddings\n",
    ")"
   ]
  },
  {
   "cell_type": "code",
   "execution_count": null,
   "id": "0kgyaL6QrYVF",
   "metadata": {
    "id": "0kgyaL6QrYVF"
   },
   "outputs": [],
   "source": [
    "# Test `knn_search` method with model_id and query_text\n",
    "query = \"Hello\"\n",
    "knn_result = knn_search.knn_search(query = query, model_id= model_id, k=2)\n",
    "print(f\"kNN search results for query '{query}': {knn_result}\")\n",
    "print(f\"The 'text' field value from the top hit is: '{knn_result['hits']['hits'][0]['_source']['text']}'\")\n"
   ]
  }
 ],
 "metadata": {
  "colab": {
   "provenance": []
  },
  "kernelspec": {
   "display_name": "Python 3 (ipykernel)",
   "language": "python",
   "name": "python3"
  },
  "language_info": {
   "codemirror_mode": {
    "name": "ipython",
    "version": 3
   },
   "file_extension": ".py",
   "mimetype": "text/x-python",
   "name": "python",
   "nbconvert_exporter": "python",
   "pygments_lexer": "ipython3",
   "version": "3.10.11"
  },
  "nbTranslate": {
   "displayLangs": [
    "zh-cn"
   ],
   "hotkey": "alt-t",
   "langInMainMenu": true,
   "sourceLang": "en",
   "targetLang": "zh-cn",
   "useGoogleTranslate": true
  },
  "toc": {
   "base_numbering": 1,
   "nav_menu": {},
   "number_sections": true,
   "sideBar": true,
   "skip_h1_title": false,
   "title_cell": "Table of Contents",
   "title_sidebar": "Contents",
   "toc_cell": false,
   "toc_position": {},
   "toc_section_display": true,
   "toc_window_display": false
  }
 },
 "nbformat": 4,
 "nbformat_minor": 5
}
