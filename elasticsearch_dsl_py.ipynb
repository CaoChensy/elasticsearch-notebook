{
 "cells": [
  {
   "cell_type": "markdown",
   "id": "3bb652df",
   "metadata": {},
   "source": [
    "# 具体使用"
   ]
  },
  {
   "cell_type": "markdown",
   "id": "004d2ca7",
   "metadata": {},
   "source": [
    "elasticsearch的官方文档介绍一共包括六个部分，分别是：search dsl、persistence、update by query、API document。"
   ]
  },
  {
   "cell_type": "markdown",
   "id": "b994fd85",
   "metadata": {},
   "source": [
    "## Search DSL"
   ]
  },
  {
   "cell_type": "markdown",
   "id": "3dfd9857",
   "metadata": {},
   "source": [
    "### The search object"
   ]
  },
  {
   "cell_type": "markdown",
   "id": "31092506",
   "metadata": {},
   "source": [
    "`search`对象代表整个搜索请求，包括：`queries、filters、aggregations、sort、pagination、additional parameters、associated client`。\n",
    "\n",
    "`API`被设置为可链接的。`search`对象是不可变的，除了聚合，对对象的所有更改都将导致创建包含该更改的浅表副本。\n",
    "\n",
    "当初始化Search对象时，你可以传递`low-level elasticsearch`客户端作为参数。"
   ]
  },
  {
   "cell_type": "markdown",
   "id": "0dcc0222",
   "metadata": {},
   "source": [
    "### Aggregations"
   ]
  },
  {
   "cell_type": "markdown",
   "id": "e550c66b",
   "metadata": {},
   "source": [
    "你可以是使用`A`快捷方式来定义一个聚合。"
   ]
  },
  {
   "cell_type": "code",
   "execution_count": 149,
   "id": "1f57b71e",
   "metadata": {},
   "outputs": [],
   "source": [
    "from elasticsearch_dsl import A"
   ]
  },
  {
   "cell_type": "code",
   "execution_count": 152,
   "id": "2ef7ccd8",
   "metadata": {},
   "outputs": [
    {
     "data": {
      "text/plain": [
       "Terms(field='category')"
      ]
     },
     "execution_count": 152,
     "metadata": {},
     "output_type": "execute_result"
    }
   ],
   "source": [
    "A('terms', field='category')"
   ]
  },
  {
   "cell_type": "markdown",
   "id": "1a536c2f",
   "metadata": {},
   "source": [
    "为了实现聚合嵌套，你可以使用.bucket()、.metirc()以及.pipeline()方法。"
   ]
  },
  {
   "cell_type": "code",
   "execution_count": 154,
   "id": "7cc5a323",
   "metadata": {},
   "outputs": [
    {
     "data": {
      "text/plain": [
       "Terms(field='tags')"
      ]
     },
     "execution_count": 154,
     "metadata": {},
     "output_type": "execute_result"
    }
   ],
   "source": [
    "a = A('terms', field='category')\n",
    "\n",
    "a.metric('clicks_per_category', 'sum', field='clicks')\\\n",
    "    .bucket('tags_per_category', 'terms', field='tags')"
   ]
  },
  {
   "cell_type": "code",
   "execution_count": 155,
   "id": "6cdf0980",
   "metadata": {},
   "outputs": [
    {
     "data": {
      "text/plain": [
       "{'terms': {'field': 'category'},\n",
       " 'aggs': {'clicks_per_category': {'sum': {'field': 'clicks'}},\n",
       "  'tags_per_category': {'terms': {'field': 'tags'}}}}"
      ]
     },
     "execution_count": 155,
     "metadata": {},
     "output_type": "execute_result"
    }
   ],
   "source": [
    "a.to_dict()"
   ]
  },
  {
   "cell_type": "code",
   "execution_count": null,
   "id": "6250a8c6",
   "metadata": {},
   "outputs": [],
   "source": [
    "为了将聚合添加到Search对象中，使用.aggs属性，它是作为一个top-level聚合的。"
   ]
  },
  {
   "cell_type": "code",
   "execution_count": null,
   "id": "317484e5",
   "metadata": {},
   "outputs": [],
   "source": [
    "s = Search()\n",
    "a = A('terms', field='category')\n",
    "s.aggs.bucket('category_terms', a)\n",
    "# {\n",
    "#   'aggs': {\n",
    "#     'category_terms': {\n",
    "#       'terms': {\n",
    "#         'field': 'category'\n",
    "#       }\n",
    "#     }\n",
    "#   }\n",
    "# }"
   ]
  },
  {
   "cell_type": "code",
   "execution_count": null,
   "id": "bc837ee3",
   "metadata": {},
   "outputs": [],
   "source": [
    "或者："
   ]
  },
  {
   "cell_type": "code",
   "execution_count": null,
   "id": "071d4cab",
   "metadata": {},
   "outputs": [],
   "source": [
    "s = Search()\n",
    "s.aggs.bucket('articles_per_day', 'date_histogram', field='publish_date', interval='day')\\\n",
    "    .metric('clicks_per_day', 'sum', field='clicks')\\\n",
    "    .pipeline('moving_click_average', 'moving_avg', buckets_path='clicks_per_day')\\\n",
    "    .bucket('tags_per_day', 'terms', field='tags')\n",
    "\n",
    "s.to_dict()\n",
    "# {\n",
    "#   \"aggs\": {\n",
    "#     \"articles_per_day\": {\n",
    "#       \"date_histogram\": { \"interval\": \"day\", \"field\": \"publish_date\" },\n",
    "#       \"aggs\": {\n",
    "#         \"clicks_per_day\": { \"sum\": { \"field\": \"clicks\" } },\n",
    "#         \"moving_click_average\": { \"moving_avg\": { \"buckets_path\": \"clicks_per_day\" } },\n",
    "#         \"tags_per_day\": { \"terms\": { \"field\": \"tags\" } }\n",
    "#       }\n",
    "#     }\n",
    "#   }\n",
    "# }"
   ]
  },
  {
   "cell_type": "code",
   "execution_count": null,
   "id": "c9684516",
   "metadata": {},
   "outputs": [],
   "source": [
    "你可以通过名字来访问一个存在的桶。\n",
    "\n",
    "s = Search()\n",
    "\n",
    "s.aggs.bucket('per_category', 'terms', field='category')\n",
    "s.aggs['per_category'].metric('clicks_per_category', 'sum', field='clicks')\n",
    "s.aggs['per_category'].bucket('tags_per_category', 'terms', field='tags')"
   ]
  },
  {
   "cell_type": "markdown",
   "id": "79a18848",
   "metadata": {},
   "source": [
    "### Sorting"
   ]
  },
  {
   "cell_type": "code",
   "execution_count": null,
   "id": "06bea69a",
   "metadata": {},
   "outputs": [],
   "source": [
    "要指定排序顺序，可以使用.order()方法。"
   ]
  },
  {
   "cell_type": "code",
   "execution_count": null,
   "id": "08eafb86",
   "metadata": {},
   "outputs": [],
   "source": [
    "s = Search().sort(\n",
    "    'category',\n",
    "    '-title',\n",
    "    {\"lines\" : {\"order\" : \"asc\", \"mode\" : \"avg\"}}\n",
    ")"
   ]
  },
  {
   "cell_type": "code",
   "execution_count": null,
   "id": "9880eba5",
   "metadata": {},
   "outputs": [],
   "source": [
    "可以通过不传任何参数调用sort()函数来重置排序。"
   ]
  },
  {
   "cell_type": "markdown",
   "id": "ba7296cd",
   "metadata": {},
   "source": [
    "### Pagination"
   ]
  },
  {
   "cell_type": "code",
   "execution_count": null,
   "id": "fac32238",
   "metadata": {},
   "outputs": [],
   "source": [
    "要指定from、size，使用slicing API：\n",
    "\n",
    "s = s[10:20]\n",
    "# {\"from\": 10, \"size\": 10}\n",
    "要访问匹配的所有文档，可以使用scan()函数，scan()函数使用scan、scroll elasticsearch API："
   ]
  },
  {
   "cell_type": "code",
   "execution_count": null,
   "id": "6e875f43",
   "metadata": {},
   "outputs": [],
   "source": [
    "\n",
    "\n",
    "for hit in s.scan():\n",
    "    print(hit.title)\n",
    "需要注意的是这种情况下结果是不会被排序的。"
   ]
  },
  {
   "cell_type": "code",
   "execution_count": null,
   "id": "61cdb9a5",
   "metadata": {},
   "outputs": [],
   "source": [
    "2.2.1.7 Highlighting\n",
    "要指定高亮的通用属性，可以使用highlight_options()方法：\n",
    "\n",
    "s = s.highlight_options(order='score')\n",
    "可以通过highlight()方法来为了每个单独的字段设置高亮："
   ]
  },
  {
   "cell_type": "code",
   "execution_count": null,
   "id": "d913e3b1",
   "metadata": {},
   "outputs": [],
   "source": [
    "s = s.highlight('title')\n",
    "# or, including parameters:\n",
    "s = s.highlight('title', fragment_size=50)"
   ]
  },
  {
   "cell_type": "code",
   "execution_count": null,
   "id": "47752711",
   "metadata": {},
   "outputs": [],
   "source": [
    "然后，响应中的分段将在每个结果对象上以.meta.highlight.FIELD形式提供，其中将包含分段列表："
   ]
  },
  {
   "cell_type": "code",
   "execution_count": null,
   "id": "0c46c8ec",
   "metadata": {},
   "outputs": [],
   "source": [
    "response = s.execute()\n",
    "for hit in response:\n",
    "    for fragment in hit.meta.highlight.title:\n",
    "        print(fragment)"
   ]
  },
  {
   "cell_type": "code",
   "execution_count": null,
   "id": "ae496843",
   "metadata": {},
   "outputs": [],
   "source": [
    "2.2.1.8 Suggestions"
   ]
  },
  {
   "cell_type": "code",
   "execution_count": null,
   "id": "4b3833b9",
   "metadata": {},
   "outputs": [],
   "source": [
    "要指定一个suggest请求在你的search对象上，可以使用suggest()方法：\n",
    "\n",
    "# check for correct spelling\n",
    "s = s.suggest('my_suggestion', 'pyhton', term={'field': 'title'})"
   ]
  },
  {
   "cell_type": "code",
   "execution_count": null,
   "id": "a4f8f3ab",
   "metadata": {},
   "outputs": [],
   "source": [
    "2.2.1.9 Extra properties and parameters"
   ]
  },
  {
   "cell_type": "code",
   "execution_count": null,
   "id": "974ab18b",
   "metadata": {},
   "outputs": [],
   "source": [
    "要为search对象设置额外的属性，可以使用.extra()方法。可以用来定义body中的key，\n",
    "那些不能通过指定API方法来设置的，例如explain、search_filter。\n",
    "\n",
    "s = s.extra(explain=True)\n",
    "要设置查询参数，可以使用.params()方法：\n",
    "\n",
    "s = s.params(routing=\"42\")\n",
    "如果要限制elasticsearch返回的字段，可以使用source()方法：\n",
    "\n",
    "# only return the selected fields\n",
    "s = s.source(['title', 'body'])\n",
    "# don't return any fields, just the metadata\n",
    "s = s.source(False)\n",
    "# explicitly include/exclude fields\n",
    "s = s.source(includes=[\"title\"], excludes=[\"user.*\"])\n",
    "# reset the field selection\n",
    "s = s.source(None)"
   ]
  },
  {
   "cell_type": "code",
   "execution_count": null,
   "id": "b638da7d",
   "metadata": {},
   "outputs": [],
   "source": [
    "2.2.1.10 Serialization and Deserialization\n",
    "查询对象可以通过使用.to_dict()方法被序列化为一个字典。\n",
    "\n",
    "你也可以使用类方法from_dict从一个dict创建一个Search对象。这会创建一个新的Search对象并使用字典中的数据填充它。\n",
    "\n",
    "s = Search.from_dict({\"query\": {\"match\": {\"title\": \"python\"}}})\n",
    "如果你希望修改现有的Search对象，并覆盖其属性，则可以使用update_from_dict()方法就地更改实例。\n",
    "\n",
    "s = Search(index='i')\n",
    "s.update_from_dict({\"query\": {\"match\": {\"title\": \"python\"}}, \"size\": 42})\n",
    "2.2.2 Response\n",
    "你可以通过调用execute方法来执行你的搜索，它会返回一个Response对象，Response对象允许你通过属性的方式访问返回结果字典中的任何key。\n",
    "\n",
    "\n",
    "print(response.success())\n",
    "# True\n",
    "\n",
    "print(response.took)\n",
    "# 12\n",
    "\n",
    "print(response.hits.total.relation)\n",
    "# eq\n",
    "print(response.hits.total.value)\n",
    "# 142\n",
    "\n",
    "print(response.suggest.my_suggestions)\n",
    "\n",
    "如果想要检查response对象的内容，可以通过to_dict方法访问原始数据。"
   ]
  },
  {
   "cell_type": "code",
   "execution_count": null,
   "id": "ce2f713c",
   "metadata": {},
   "outputs": [],
   "source": [
    "2.2.2.1 Hits\n",
    "可以通过hits属性访问返回的匹配结果，或者遍历Response对象。\n",
    "\n",
    "response = s.execute()\n",
    "print('Total %d hits found.' % response.hits.total)\n",
    "for h in response:\n",
    "    print(h.title, h.body)\n",
    "2.2.2.2 Result\n",
    "每个匹配项被封装到一个类中，可以方便通过类属性来访问返回结果字典中的key，所有的元数据存储在meta属性中。\n",
    "\n",
    "response = s.execute()\n",
    "h = response.hits[0]\n",
    "print('/%s/%s/%s returned with score %f' % (\n",
    "    h.meta.index, h.meta.doc_type, h.meta.id, h.meta.score))\n",
    "2.2.2.3 Aggregations\n",
    "可以通过aggregations属性来访问聚合结果：\n",
    "\n",
    "for tag in response.aggregations.per_tag.buckets:\n",
    "    print(tag.key, tag.max_lines.value)\n"
   ]
  },
  {
   "cell_type": "code",
   "execution_count": null,
   "id": "2a871bb8",
   "metadata": {},
   "outputs": [],
   "source": [
    "2.3 Persistence\n",
    "你可以使用dsl库来定义你的mappings和一个基本的持久化层为你的应用程序。"
   ]
  },
  {
   "cell_type": "code",
   "execution_count": null,
   "id": "e005abb2",
   "metadata": {},
   "outputs": [],
   "source": [
    "2.3.1 Document\n",
    "如果你要为你的文档创建一个model-like的封装，可以使用Document类。它可以被用作创建在elasticsearch中所有需要的mappings和settings。\n",
    "\n",
    "\n",
    "from datetime import datetime\n",
    "from elasticsearch_dsl import Document, Date, Nested, Boolean, \\\n",
    "    analyzer, InnerDoc, Completion, Keyword, Text\n",
    "\n",
    "html_strip = analyzer('html_strip',\n",
    "    tokenizer=\"standard\",\n",
    "    filter=[\"standard\", \"lowercase\", \"stop\", \"snowball\"],\n",
    "    char_filter=[\"html_strip\"]\n",
    ")\n",
    "\n",
    "class Comment(InnerDoc):\n",
    "    author = Text(fields={'raw': Keyword()})\n",
    "    content = Text(analyzer='snowball')\n",
    "    created_at = Date()\n",
    "\n",
    "    def age(self):\n",
    "        return datetime.now() - self.created_at\n",
    "\n",
    "class Post(Document):\n",
    "    title = Text()\n",
    "    title_suggest = Completion()\n",
    "    created_at = Date()\n",
    "    published = Boolean()\n",
    "    category = Text(\n",
    "        analyzer=html_strip,\n",
    "        fields={'raw': Keyword()}\n",
    "    )\n",
    "\n",
    "    comments = Nested(Comment)\n",
    "\n",
    "     class Index:\n",
    "        name = 'blog'\n",
    "\n",
    "    def add_comment(self, author, content):\n",
    "        self.comments.append(\n",
    "          Comment(author=author, content=content, created_at=datetime.now()))\n",
    "\n",
    "    def save(self, ** kwargs):\n",
    "        self.created_at = datetime.now()\n",
    "        return super().save(** kwargs)\n",
    "\n"
   ]
  },
  {
   "cell_type": "markdown",
   "id": "b638b371",
   "metadata": {},
   "source": [
    "## Data types"
   ]
  },
  {
   "cell_type": "markdown",
   "id": "3dae6a82",
   "metadata": {},
   "source": [
    "定义Document实例时，除了可以使用python类型，还可以使用InnerDoc、Range等类型来表示非简单类型的数据。"
   ]
  },
  {
   "cell_type": "code",
   "execution_count": 8,
   "id": "f57ec5ac",
   "metadata": {},
   "outputs": [],
   "source": [
    "from datetime import datetime\n",
    "from elasticsearch_dsl import *"
   ]
  },
  {
   "cell_type": "code",
   "execution_count": 5,
   "id": "e732d03c",
   "metadata": {},
   "outputs": [],
   "source": [
    "class RoomBooking(Document):\n",
    "    room = Keyword()\n",
    "    dates = DateRange()"
   ]
  },
  {
   "cell_type": "code",
   "execution_count": 6,
   "id": "7a398619",
   "metadata": {},
   "outputs": [],
   "source": [
    "rb = RoomBooking(\n",
    "  room='Conference Room II',\n",
    "  dates=Range(\n",
    "    gte=datetime(2018, 11, 17, 9, 0, 0),\n",
    "    lt=datetime(2018, 11, 17, 10, 0, 0)\n",
    "  )\n",
    ")"
   ]
  },
  {
   "cell_type": "code",
   "execution_count": 12,
   "id": "e3479868",
   "metadata": {},
   "outputs": [
    {
     "data": {
      "text/plain": [
       "Range(gte=datetime.datetime(2018, 11, 17, 9, 0), lt=datetime.datetime(2018, 11, 17, 10, 0))"
      ]
     },
     "execution_count": 12,
     "metadata": {},
     "output_type": "execute_result"
    }
   ],
   "source": [
    "Range(\n",
    "    gte=datetime(2018, 11, 17, 9, 0, 0),\n",
    "    lt=datetime(2018, 11, 17, 10, 0, 0)\n",
    "  )"
   ]
  },
  {
   "cell_type": "code",
   "execution_count": null,
   "id": "3ea6556f",
   "metadata": {},
   "outputs": [],
   "source": [
    "# Range supports the in operator correctly:\n",
    "datetime(2018, 11, 17, 9, 30, 0) in rb.dates # True\n",
    "\n",
    "# you can also get the limits and whether they are inclusive or exclusive:\n",
    "rb.dates.lower # datetime(2018, 11, 17, 9, 0, 0), True\n",
    "rb.dates.upper # datetime(2018, 11, 17, 10, 0, 0), False\n",
    "\n",
    "# empty range is unbounded\n",
    "Range().lower # None, False"
   ]
  },
  {
   "cell_type": "code",
   "execution_count": null,
   "id": "367e5018",
   "metadata": {},
   "outputs": [],
   "source": [
    "2.3.1.2 Note on dates\n",
    "当实例化一个Date字段时，可以通过设置default_timezone参数来明确指定时区。\n",
    "\n",
    "class Post(Document):\n",
    "    created_at = Date(default_timezone='UTC')"
   ]
  },
  {
   "cell_type": "code",
   "execution_count": null,
   "id": "1d665c33",
   "metadata": {},
   "outputs": [],
   "source": [
    "2.3.1.3 Document life cycle\n",
    "在你第一次使用Post文档类型前，你需要在elasticsearch中创建mappings。可以通过Index对象或者调用init()方法直接创建mappings。\n",
    "\n",
    "# create the mappings in Elasticsearch\n",
    "Post.init()\n",
    "所有metadata字段，可以通过meta属性访问。\n",
    "\n",
    "\n",
    "post = Post(meta={'id': 42})\n",
    "\n",
    "# prints 42\n",
    "print(post.meta.id)\n",
    "\n",
    "# override default index\n",
    "post.meta.index = 'my-blog'\n",
    "\n",
    "可以通过get()方法来检索一个存在的文档：\n",
    "\n",
    "\n",
    "# retrieve the document\n",
    "first = Post.get(id=42)\n",
    "# now we can call methods, change fields, ...\n",
    "first.add_comment('me', 'This is nice!')\n",
    "# and save the changes into the cluster again\n",
    "first.save()\n",
    "\n",
    "要删除一个文档，直接调用delete()方法即可：\n",
    "\n",
    "first = Post.get(id=42)\n",
    "first.delete()\n",
    "2.3.1.4 Analysis\n",
    "要为text字段指定analyzer，你只需要使用analyze的名字，使用已有的analyze或者自己定义。"
   ]
  },
  {
   "cell_type": "code",
   "execution_count": null,
   "id": "85a8dfa8",
   "metadata": {},
   "outputs": [],
   "source": [
    "2.3.1.5 Search\n",
    "为了在该文档类型上搜索，使用search方法即可。\n",
    "\n",
    "\n",
    "# by calling .search we get back a standard Search object\n",
    "s = Post.search()\n",
    "# the search is already limited to the index and doc_type of our document\n",
    "s = s.filter('term', published=True).query('match', title='first')\n",
    "\n",
    "\n",
    "results = s.execute()\n",
    "\n",
    "# when you execute the search the results are wrapped in your document class (Post)\n",
    "for post in results:\n",
    "    print(post.meta.score, post.title)\n",
    "\n",
    "2.3.1.6 class Meta options\n",
    "在Meta类中定义了多个你可以为你的文档定义的metadata，例如mapping。\n",
    "\n",
    "2.3.1.7 class Index options\n",
    "Index类中定义了该索引的信息，它的名字、settings和其他属性。"
   ]
  },
  {
   "cell_type": "code",
   "execution_count": null,
   "id": "595f5829",
   "metadata": {},
   "outputs": [],
   "source": [
    "2.3.1.8 Document Inheritance"
   ]
  },
  {
   "cell_type": "markdown",
   "id": "ef0fac7b",
   "metadata": {},
   "source": [
    "### Index"
   ]
  },
  {
   "cell_type": "markdown",
   "id": "64f534ec",
   "metadata": {},
   "source": [
    "在典型情况下，在Document类上使用Index类足够处理任何操作的。在少量case下，直接操作Index对象可能更有用。\n",
    "\n",
    "Index是一个类，负责保存一个索引在elasticsearch中的所有关联元数据，例如mapping和settings。\n",
    "由于它允许方便的同时创建多个mapping，所以当定义mapping的时候它是最有用的。当在迁移elasticsearch对象的时候是特别有用的。"
   ]
  },
  {
   "cell_type": "code",
   "execution_count": 7,
   "id": "414c688c",
   "metadata": {},
   "outputs": [],
   "source": [
    "from elasticsearch_dsl import Index, Document, Text, analyzer"
   ]
  },
  {
   "cell_type": "code",
   "execution_count": null,
   "id": "eac2c250",
   "metadata": {},
   "outputs": [],
   "source": [
    "blogs = Index('blogs')\n",
    "\n",
    "# define custom settings\n",
    "blogs.settings(\n",
    "    number_of_shards=1,\n",
    "    number_of_replicas=0\n",
    ")"
   ]
  },
  {
   "cell_type": "code",
   "execution_count": null,
   "id": "6814b42a",
   "metadata": {},
   "outputs": [],
   "source": [
    "# define aliases\n",
    "blogs.aliases(\n",
    "    old_blogs={}\n",
    ")\n",
    "\n",
    "# register a document with the index\n",
    "blogs.document(Post)\n",
    "\n",
    "# can also be used as class decorator when defining the Document\n",
    "@blogs.document\n",
    "class Post(Document):\n",
    "    title = Text()\n",
    "\n",
    "# You can attach custom analyzers to the index\n",
    "\n",
    "html_strip = analyzer('html_strip',\n",
    "    tokenizer=\"standard\",\n",
    "    filter=[\"standard\", \"lowercase\", \"stop\", \"snowball\"],\n",
    "    char_filter=[\"html_strip\"]\n",
    ")\n",
    "\n",
    "blogs.analyzer(html_strip)\n",
    "\n",
    "# delete the index, ignore if it doesn't exist\n",
    "blogs.delete(ignore=404)\n",
    "\n",
    "# create the index in elasticsearch\n",
    "blogs.create()\n",
    "\n",
    "你可以为你的索引设置模板，并使用clone()方法创建一个指定的拷贝：\n",
    "\n",
    "\n",
    "blogs = Index('blogs', using='production')\n",
    "blogs.settings(number_of_shards=2)\n",
    "blogs.document(Post)\n",
    "\n",
    "# create a copy of the index with different name\n",
    "company_blogs = blogs.clone('company-blogs')\n",
    "\n",
    "# create a different copy on different cluster\n",
    "dev_blogs = blogs.clone('blogs', using='dev')\n",
    "# and change its settings\n",
    "dev_blogs.setting(number_of_shards=1)"
   ]
  },
  {
   "cell_type": "code",
   "execution_count": null,
   "id": "36287b30",
   "metadata": {},
   "outputs": [],
   "source": [
    "2.3.2.1 Index Template\n",
    "elasticsearch-dsl还提供了使用IndexTemplate类在elasticsearch中来管理索引模板的选项，该类与Index的API非常相似。\n",
    "\n",
    "一旦一个索引模板被保存到elasticsearch，他的内容将会自动应用到匹配模式的新索引上（已存在的索引不会受影响），即使索引是当索引一个文档时自动创建的。\n",
    "\n",
    "\n",
    "from datetime import datetime\n",
    "\n",
    "from elasticsearch_dsl import Document, Date, Text\n",
    "\n",
    "\n",
    "class Log(Document):\n",
    "    content = Text()\n",
    "    timestamp = Date()\n",
    "\n",
    "    class Index:\n",
    "        name = \"logs-*\"\n",
    "        settings = {\n",
    "          \"number_of_shards\": 2\n",
    "        }\n",
    "\n",
    "    def save(self, **kwargs):\n",
    "        # assign now if no timestamp given\n",
    "        if not self.timestamp:\n",
    "            self.timestamp = datetime.now()\n",
    "\n",
    "        # override the index to go to the proper timeslot\n",
    "        kwargs['index'] = self.timestamp.strftime('logs-%Y%m%d')\n",
    "        return super().save(**kwargs)\n",
    "\n",
    "# once, as part of application setup, during deploy/migrations:\n",
    "logs = Log._index.as_template('logs', order=0)\n",
    "logs.save()\n",
    "\n",
    "# to perform search across all logs:\n",
    "search = Log.search()"
   ]
  },
  {
   "cell_type": "code",
   "execution_count": null,
   "id": "da1b47a6",
   "metadata": {},
   "outputs": [],
   "source": [
    "2.4 Faceted Search\n",
    "该API是实验性的，并且也没有用到，所以先跳过。"
   ]
  },
  {
   "cell_type": "code",
   "execution_count": null,
   "id": "c25b81af",
   "metadata": {},
   "outputs": [],
   "source": [
    "2.5 Update By Query\n",
    "2.5.1 The Update By Query object\n",
    "Update By Query对象允许使用_update_by_query实现在一个匹配过程中更新一个文档。\n",
    "\n",
    "2.5.1.1 Serialization and Deserialization\n",
    "该查询对象可以通过.to_dict()方法序列化为一个字典，也可以通过类方法from_dict()从一个字典构建一个对象。\n",
    "\n",
    "ubq = UpdateByQuery.from_dict({\"query\": {\"match\": {\"title\": \"python\"}}})\n"
   ]
  },
  {
   "cell_type": "markdown",
   "id": "67661178",
   "metadata": {},
   "source": [
    "### 2.5.1.2 Extra properties and parameters"
   ]
  },
  {
   "cell_type": "code",
   "execution_count": null,
   "id": "f993606e",
   "metadata": {},
   "outputs": [],
   "source": [
    "\n",
    "可以通过.extra()方法设置额外的属性：\n",
    "\n",
    "ubq = ubq.extra(explain=True)\n",
    "可以通过.params()方法设置查询参数：\n",
    "\n",
    "ubq = ubq.params(routing=\"42\")"
   ]
  },
  {
   "cell_type": "code",
   "execution_count": null,
   "id": "57b26ddf",
   "metadata": {},
   "outputs": [],
   "source": [
    "2.5.2 Response\n",
    "你可以调用.execute()方法执行查询，它会返回一个Response对象。Response对象允许通过属性访问结果字典中的任何key。\n",
    "\n",
    "\n",
    "response = ubq.execute()\n",
    "\n",
    "print(response.success())\n",
    "# True\n",
    "\n",
    "print(response.took)\n",
    "# 12\n",
    "\n",
    "如果需要查看response对象的内容，使用to_dic()方法获取它的原始数据即可。"
   ]
  },
  {
   "cell_type": "markdown",
   "id": "32c6935e",
   "metadata": {},
   "source": [
    "# End"
   ]
  },
  {
   "cell_type": "markdown",
   "id": "e6544b41",
   "metadata": {},
   "source": [
    "------"
   ]
  }
 ],
 "metadata": {
  "kernelspec": {
   "display_name": "Python 3 (ipykernel)",
   "language": "python",
   "name": "python3"
  },
  "language_info": {
   "codemirror_mode": {
    "name": "ipython",
    "version": 3
   },
   "file_extension": ".py",
   "mimetype": "text/x-python",
   "name": "python",
   "nbconvert_exporter": "python",
   "pygments_lexer": "ipython3",
   "version": "3.10.11"
  },
  "nbTranslate": {
   "displayLangs": [
    "*"
   ],
   "hotkey": "alt-t",
   "langInMainMenu": true,
   "sourceLang": "en",
   "targetLang": "fr",
   "useGoogleTranslate": true
  },
  "toc": {
   "base_numbering": 1,
   "nav_menu": {},
   "number_sections": true,
   "sideBar": true,
   "skip_h1_title": false,
   "title_cell": "Table of Contents",
   "title_sidebar": "Contents",
   "toc_cell": false,
   "toc_position": {
    "height": "calc(100% - 180px)",
    "left": "10px",
    "top": "150px",
    "width": "165px"
   },
   "toc_section_display": true,
   "toc_window_display": false
  }
 },
 "nbformat": 4,
 "nbformat_minor": 5
}
