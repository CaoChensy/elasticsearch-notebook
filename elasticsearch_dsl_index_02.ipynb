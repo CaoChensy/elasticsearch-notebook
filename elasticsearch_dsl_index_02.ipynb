{
 "cells": [
  {
   "cell_type": "markdown",
   "id": "9ed9650e",
   "metadata": {},
   "source": [
    "# Index"
   ]
  },
  {
   "cell_type": "markdown",
   "id": "fd28a84d",
   "metadata": {},
   "source": [
    "**Elasticsearch中的index可以理解为类似于数据库中的表的概念，但是两者并不完全相同。**"
   ]
  },
  {
   "cell_type": "markdown",
   "id": "86305155",
   "metadata": {},
   "source": [
    "1. 在`Elasticsearch`中，`Index`是指一个包含了相关文档的逻辑容器。这些文档具有相同的数据结构，例如相同的字段和数据类型。每个文档都有一个唯一的`ID`来标识它。`Elasticsearch`使用`index`来组织、存储和检索文档数据。\n",
    "2. 与数据库中的表不同，Elasticsearch中的index可以跨越多个物理节点进行分布式存储和处理。此外，Elasticsearch中的index还具有高可用性、易于扩展和自动分片等特性，这些特性使得Elasticsearch非常适合处理大规模数据和高并发访问的场景。\n",
    "3. 另外，Elasticsearch中的index也可以看作是一种搜索引擎的概念，每个index可以包含多个document，每个document有多个field，可以使用Elasticsearch提供的搜索API进行全文搜索、聚合、过滤等操作。因此，Elasticsearch中的index不仅仅是一个数据容器，更是一个强大的搜索引擎。"
   ]
  },
  {
   "cell_type": "markdown",
   "id": "d3426352",
   "metadata": {},
   "source": [
    "在创建`Index`时，需要指定`Index`的名称，并且可以定义一些`Index`的配置参数，例如分片数、副本数、分词器等等。创建`Index`后，可以向其中添加文档，也可以对其中的文档进行搜索、更新或删除操作。\n",
    "\n",
    "**`Elasticsearch`的`Index`具有以下特点：**\n",
    "\n",
    "1. 可以包含多个类型的文档，但是在7.0版本中已经移除了多类型的支持。\n",
    "1. 可以包含多个分片和副本，以实现水平扩展和高可用性。\n",
    "1. 可以定义`Mappings`来指定文档结构和字段类型。\n",
    "1. 可以使用不同的分词器对文档进行分词。\n",
    "1. 可以使用复杂的查询语句进行搜索，例如布尔查询、范围查询、模糊查询等等。\n",
    "1. 可以使用聚合来对搜索结果进行统计和分组。\n",
    "\n",
    "**在`Elasticsearch`中，Index是非常重要的概念，它直接决定了数据的组织方式和查询方式。正确地设计和使用Index可以大大提高搜索性能和用户体验。**"
   ]
  },
  {
   "cell_type": "markdown",
   "id": "b5e924f5",
   "metadata": {},
   "source": [
    "# `Python-ElasticSearch`"
   ]
  },
  {
   "cell_type": "markdown",
   "id": "80bc4d37",
   "metadata": {},
   "source": [
    "    ```python\n",
    "    !pip install elasticsearch\n",
    "    !pip install elasticsearch-dsl\n",
    "    ```"
   ]
  },
  {
   "cell_type": "markdown",
   "id": "1dd3ffc7",
   "metadata": {},
   "source": [
    "# 操作`Index`"
   ]
  },
  {
   "cell_type": "code",
   "execution_count": null,
   "id": "333d974f",
   "metadata": {},
   "outputs": [],
   "source": [
    "from elasticsearch_dsl import connections, Index\n",
    "\n",
    "# 连接到 Elasticsearch\n",
    "connection = connections.create_connection(hosts=[\"localhost\"])"
   ]
  },
  {
   "cell_type": "code",
   "execution_count": null,
   "id": "9601fd60",
   "metadata": {},
   "outputs": [],
   "source": [
    "index = Index('books')"
   ]
  },
  {
   "cell_type": "markdown",
   "id": "97e1f6af",
   "metadata": {
    "heading_collapsed": true
   },
   "source": [
    "## `.create()`"
   ]
  },
  {
   "cell_type": "code",
   "execution_count": null,
   "id": "c64a0a74",
   "metadata": {
    "hidden": true
   },
   "outputs": [],
   "source": [
    "index.create()"
   ]
  },
  {
   "cell_type": "markdown",
   "id": "f127fd14",
   "metadata": {
    "hidden": true
   },
   "source": [
    "> 打开: [http://localhost:9200/books/](http://localhost:9200/books/)，显示以下内容：\n",
    "\n",
    "```json\n",
    "        {\n",
    "            books: {\n",
    "            aliases: { },\n",
    "            mappings: { },\n",
    "            settings: {\n",
    "                index: {\n",
    "                routing: {\n",
    "                allocation: {\n",
    "                include: {\n",
    "                        _tier_preference: \"data_content\"\n",
    "                    }\n",
    "                }\n",
    "            },\n",
    "            number_of_shards: \"1\",\n",
    "            provided_name: \"books\",\n",
    "            creation_date: \"1686734038157\",\n",
    "            number_of_replicas: \"1\",\n",
    "            uuid: \"llCS-mrfRbu8TMuBMVdqcg\",\n",
    "            version: {\n",
    "                    created: \"8070099\"\n",
    "                        }\n",
    "                    }\n",
    "                }\n",
    "            }\n",
    "        }\n",
    "```"
   ]
  },
  {
   "cell_type": "markdown",
   "id": "4d20bf54",
   "metadata": {
    "heading_collapsed": true
   },
   "source": [
    "## `.exists()`"
   ]
  },
  {
   "cell_type": "code",
   "execution_count": null,
   "id": "abca4fbc",
   "metadata": {
    "hidden": true
   },
   "outputs": [],
   "source": [
    "# 查询index是否存在\n",
    "index.exists()"
   ]
  },
  {
   "cell_type": "markdown",
   "id": "42e20e60",
   "metadata": {
    "heading_collapsed": true
   },
   "source": [
    "## `.delete()`"
   ]
  },
  {
   "cell_type": "code",
   "execution_count": null,
   "id": "fd5d32f8",
   "metadata": {
    "hidden": true
   },
   "outputs": [],
   "source": [
    "# 删除index\n",
    "index.delete()"
   ]
  },
  {
   "cell_type": "markdown",
   "id": "6af15512",
   "metadata": {
    "heading_collapsed": true
   },
   "source": [
    "## 查看参数"
   ]
  },
  {
   "cell_type": "markdown",
   "id": "dd66511c",
   "metadata": {
    "heading_collapsed": true,
    "hidden": true
   },
   "source": [
    "### 字段信息"
   ]
  },
  {
   "cell_type": "code",
   "execution_count": null,
   "id": "e6f86528",
   "metadata": {
    "hidden": true
   },
   "outputs": [],
   "source": [
    "index.get_mapping()"
   ]
  },
  {
   "cell_type": "markdown",
   "id": "178dd6a3",
   "metadata": {
    "heading_collapsed": true,
    "hidden": true
   },
   "source": [
    "### 设置信息"
   ]
  },
  {
   "cell_type": "code",
   "execution_count": null,
   "id": "363cd542",
   "metadata": {
    "hidden": true
   },
   "outputs": [],
   "source": [
    "index.get_settings()"
   ]
  },
  {
   "cell_type": "markdown",
   "id": "1a903271",
   "metadata": {},
   "source": [
    "# 设定`Index`参数"
   ]
  },
  {
   "cell_type": "markdown",
   "id": "4c00f8fd",
   "metadata": {},
   "source": [
    "## elasticsearch"
   ]
  },
  {
   "cell_type": "code",
   "execution_count": null,
   "id": "24ad3a30",
   "metadata": {},
   "outputs": [],
   "source": [
    "from elasticsearch import Elasticsearch\n",
    "\n",
    "# 创建 Elasticsearch 客户端\n",
    "host = 'http://localhost:9200'\n",
    "es = Elasticsearch(host, verify_certs=False)"
   ]
  },
  {
   "cell_type": "code",
   "execution_count": null,
   "id": "3b5779c8",
   "metadata": {},
   "outputs": [],
   "source": [
    "# 定义要创建的索引名称\n",
    "index_name = \"ik_index\"\n",
    "\n",
    "if es.indices.exists(index=index_name):\n",
    "    es.indices.delete(index=index_name)"
   ]
  },
  {
   "cell_type": "markdown",
   "id": "30311323",
   "metadata": {},
   "source": [
    "### settings"
   ]
  },
  {
   "cell_type": "code",
   "execution_count": null,
   "id": "ad7deda1",
   "metadata": {},
   "outputs": [],
   "source": [
    "# 定义要应用于索引的设置\n",
    "my_settings = {\n",
    "    \"analysis\": {\n",
    "        \"analyzer\": {\n",
    "            \"ik_smart\": {\n",
    "                \"tokenizer\": \"ik_smart\"\n",
    "            }\n",
    "        },\n",
    "        \"search_analyzer\": {\n",
    "            \"ik_smart\": {\n",
    "                \"tokenizer\": \"ik_smart\"\n",
    "            }\n",
    "        },\n",
    "    }\n",
    "}\n",
    "# 创建索引，并应用设置\n",
    "es.indices.create(index=index_name, settings=my_settings)"
   ]
  },
  {
   "cell_type": "code",
   "execution_count": null,
   "id": "02bc04ea",
   "metadata": {},
   "outputs": [],
   "source": [
    "# 查看设定的settings\n",
    "es.indices.get_settings(index=index_name)"
   ]
  },
  {
   "cell_type": "markdown",
   "id": "fe649785",
   "metadata": {},
   "source": [
    "### `.indices.put_mapping`"
   ]
  },
  {
   "cell_type": "code",
   "execution_count": null,
   "id": "82c667d3",
   "metadata": {},
   "outputs": [],
   "source": [
    "# 定义新的映射\n",
    "new_mapping = {\n",
    "    \"properties\": {\n",
    "        \"title\": {\n",
    "            \"type\": \"text\",\n",
    "            \"analyzer\": \"standard\"\n",
    "        },\n",
    "        \"content\": {\n",
    "            \"type\": \"text\",\n",
    "            \"analyzer\": \"english\"\n",
    "        }\n",
    "    }\n",
    "}\n",
    "es.indices.put_mapping(index=index_name, body=new_mapping)"
   ]
  },
  {
   "cell_type": "code",
   "execution_count": null,
   "id": "0738bafd",
   "metadata": {},
   "outputs": [],
   "source": [
    "# 查看映射\n",
    "es.indices.get_mapping(index=index_name)"
   ]
  },
  {
   "cell_type": "markdown",
   "id": "4ac08697",
   "metadata": {},
   "source": [
    "## elasticsearch_dsl"
   ]
  },
  {
   "cell_type": "markdown",
   "id": "228f044e",
   "metadata": {},
   "source": [
    "### 通过`.settings`设置"
   ]
  },
  {
   "cell_type": "code",
   "execution_count": null,
   "id": "aedebe62",
   "metadata": {},
   "outputs": [],
   "source": [
    "from elasticsearch_dsl import Index, analyzer, tokenizer, connections\n",
    "\n",
    "# 连接到 Elasticsearch\n",
    "connection = connections.create_connection(hosts=[\"localhost\"])"
   ]
  },
  {
   "cell_type": "code",
   "execution_count": null,
   "id": "ad00f75a",
   "metadata": {
    "code_folding": []
   },
   "outputs": [],
   "source": [
    "# 定义分析器和分词器\n",
    "tokenizer_ik = tokenizer('ik_smart')\n",
    "analyzer_ik = analyzer('ik_smart', tokenizer=tokenizer_ik)\n",
    "\n",
    "# 定义索引\n",
    "index_name = 'ik_index'\n",
    "ik_index = Index(index_name)\n",
    "\n",
    "# 如果存在则删除已经创建的索引\n",
    "if Index(index_name).exists():\n",
    "    Index(index_name).delete()\n",
    "\n",
    "# 定义设置\n",
    "my_settings = {\n",
    "    \"analysis\": {\n",
    "        \"analyzer\": {\n",
    "            \"ik_smart\": {\n",
    "                \"tokenizer\": \"ik_smart\"\n",
    "            }\n",
    "        },\n",
    "        \"search_analyzer\": {\n",
    "            \"ik_smart\": {\n",
    "                \"tokenizer\": \"ik_smart\"\n",
    "            }\n",
    "        },\n",
    "    }\n",
    "}\n",
    "# 设置索引设置\n",
    "ik_index.settings(**my_settings)\n",
    "\n",
    "# 创建索引\n",
    "ik_index.create()"
   ]
  },
  {
   "cell_type": "code",
   "execution_count": null,
   "id": "3037f6b6",
   "metadata": {},
   "outputs": [],
   "source": [
    "# 查看设定的settings\n",
    "ik_index.get_settings()"
   ]
  },
  {
   "cell_type": "markdown",
   "id": "c2d03b82",
   "metadata": {},
   "source": [
    "#### 设定`analyzer`"
   ]
  },
  {
   "cell_type": "code",
   "execution_count": null,
   "id": "f6014581",
   "metadata": {},
   "outputs": [],
   "source": [
    "# 指定要创建的索引名称\n",
    "index_name = \"books_ik\"\n",
    "\n",
    "if Index(index_name).exists():\n",
    "    Index(index_name).delete()\n",
    "\n",
    "# 定义分析器和分词器\n",
    "ik_tokenizer = tokenizer('ik_smart')\n",
    "ik_analyzer = analyzer('ik_smart', tokenizer=ik_tokenizer)\n",
    "\n",
    "# 创建索引\n",
    "ik_index = Index(index_name)\n",
    "ik_index.analyzer(ik_analyzer)\n",
    "ik_index.create()"
   ]
  },
  {
   "cell_type": "code",
   "execution_count": null,
   "id": "62f31c5a",
   "metadata": {},
   "outputs": [],
   "source": [
    "ik_index.get_settings()"
   ]
  },
  {
   "cell_type": "markdown",
   "id": "3f2500a6",
   "metadata": {
    "heading_collapsed": true
   },
   "source": [
    "### `Document` 中创建 `mapping`"
   ]
  },
  {
   "cell_type": "code",
   "execution_count": null,
   "id": "9e71133b",
   "metadata": {
    "hidden": true
   },
   "outputs": [],
   "source": [
    "from elasticsearch_dsl import Document, Index, Text, analyzer\n",
    "\n",
    "# 定义索引\n",
    "index_name = 'ik_index'\n",
    "ik_index = Index(index_name)\n",
    "\n",
    "@ik_index.document\n",
    "class MyDocument(Document):\n",
    "    \"\"\"在这里设定mappings\"\"\"\n",
    "    title = Text(analyzer=analyzer(\"ik_max_word\"))\n",
    "    content = Text(analyzer=analyzer(\"ik_max_word\"))\n",
    "    class Index:\n",
    "        name = index_name\n",
    "        \n",
    "# 如果存在则删除已经创建的索引\n",
    "if Index(index_name).exists():\n",
    "    Index(index_name).delete()\n",
    "\n",
    "ik_index.create()"
   ]
  },
  {
   "cell_type": "code",
   "execution_count": null,
   "id": "40298931",
   "metadata": {
    "hidden": true
   },
   "outputs": [],
   "source": [
    "# 查看映射\n",
    "ik_index.get_mapping()"
   ]
  },
  {
   "cell_type": "markdown",
   "id": "2e3063fc",
   "metadata": {},
   "source": [
    "# 定义分词器"
   ]
  },
  {
   "cell_type": "code",
   "execution_count": null,
   "id": "7d65951e",
   "metadata": {},
   "outputs": [],
   "source": [
    "from elasticsearch_dsl import Index, analyzer, tokenizer"
   ]
  },
  {
   "cell_type": "code",
   "execution_count": null,
   "id": "2e0bba2d",
   "metadata": {},
   "outputs": [],
   "source": [
    "index_name = 'books'\n",
    "\n",
    "# 定义分析器和分词器\n",
    "tokenizer_ik = tokenizer('ik_smart')\n",
    "analyzer_ik = analyzer('ik_smart', tokenizer=tokenizer_ik)\n",
    "\n",
    "# 创建索引\n",
    "index = Index(index_name)\n",
    "index.analyzer(analyzer_ik)\n",
    "\n",
    "# 如果存在则删除已经创建的索引\n",
    "if Index(index_name).exists():\n",
    "    Index(index_name).delete()\n",
    "    \n",
    "# 创建索引\n",
    "index.create()"
   ]
  },
  {
   "cell_type": "code",
   "execution_count": null,
   "id": "a42cb5b0",
   "metadata": {
    "scrolled": true
   },
   "outputs": [],
   "source": [
    "chinese_field_config = {\n",
    "            \"type\": \"string\",\n",
    "            \"store\": \"no\",\n",
    "            \"term_vector\": \"with_positions_offsets\",\n",
    "            \"analyzer\": \"ik_max_word\",\n",
    "            \"search_analyzer\": \"ik_max_word\",\n",
    "            \"include_in_all\": \"true\",\n",
    "            \"boost\": 8\n",
    "        }\n",
    "new_mapping = {\n",
    "    \"properties\": {\n",
    "        \"content\": {\n",
    "            \"type\": \"text\",\n",
    "#             \"store\": \"no\",\n",
    "            \"term_vector\": \"with_positions_offsets\",\n",
    "            \"analyzer\": \"ik_smart\",\n",
    "            \"search_analyzer\": \"ik_smart\",\n",
    "        }\n",
    "    }\n",
    "}\n",
    "\n",
    "# index.index\n",
    "index.put_mapping(body=new_mapping)"
   ]
  },
  {
   "cell_type": "code",
   "execution_count": null,
   "id": "39fce283",
   "metadata": {},
   "outputs": [],
   "source": [
    "setting = {\"analysis\": {\n",
    "    \"analyzer\": {\n",
    "        \"ik_smart\": {\n",
    "            \"type\": \"custom\",\n",
    "            \"tokenizer\": \"ik_smart\"\n",
    "        }\n",
    "    }\n",
    "}}\n",
    "\n",
    "index.put_settings(body=setting)"
   ]
  },
  {
   "cell_type": "code",
   "execution_count": null,
   "id": "29339638",
   "metadata": {},
   "outputs": [],
   "source": [
    "index.get_settings()"
   ]
  },
  {
   "cell_type": "code",
   "execution_count": null,
   "id": "3040a03e",
   "metadata": {},
   "outputs": [],
   "source": [
    "# -*- coding: utf-8 -*-\n",
    "\n",
    "import elasticsearch\n",
    "\n",
    "\n",
    "class ElasticSearchClient(object):\n",
    "    @staticmethod\n",
    "    def get_es_servers():\n",
    "        es_servers = [{\n",
    "            \"host\": \"localhost\",\n",
    "            \"port\": \"9200\"\n",
    "        }]\n",
    "        es_client = elasticsearch.Elasticsearch(hosts=es_servers)\n",
    "        return es_client\n",
    "\n",
    "\n",
    "class LoadElasticSearch(object):\n",
    "    def __init__(self):\n",
    "        self.index = \"hz\"\n",
    "        self.doc_type = \"text\"\n",
    "        self.es_client = ElasticSearchClient.get_es_servers()\n",
    "        self.set_mapping()\n",
    "\n",
    "    def set_mapping(self):\n",
    "        \"\"\"\n",
    "        设置mapping\n",
    "        \"\"\"\n",
    "        chinese_field_config = {\n",
    "            \"type\": \"string\",\n",
    "            \"store\": \"no\",\n",
    "            \"term_vector\": \"with_positions_offsets\",\n",
    "            \"analyzer\": \"ik_max_word\",\n",
    "            \"search_analyzer\": \"ik_max_word\",\n",
    "            \"include_in_all\": \"true\",\n",
    "            \"boost\": 8\n",
    "        }\n",
    "\n",
    "        mapping = {\n",
    "            self.doc_type: {\n",
    "                \"_all\": {\"enabled\": False},\n",
    "\n",
    "                \"properties\": {\n",
    "                    \"document_id\": {\n",
    "                        \"type\": \"integer\"\n",
    "                    },\n",
    "                    \"content\": chinese_field_config\n",
    "                }\n",
    "            }\n",
    "        }\n",
    "\n",
    "        if not self.es_client.indices.exists(index=self.index):\n",
    "            # 创建Index和mapping\n",
    "            self.es_client.indices.create(index=self.index, ignore=400)\n",
    "            self.es_client.indices.put_mapping(index=self.index, doc_type=self.doc_type, body=mapping)\n",
    "\n",
    "    def add_date(self, row_obj):\n",
    "        \"\"\"\n",
    "        单条插入ES\n",
    "        \"\"\"\n",
    "        _id = row_obj.get(\"_id\", 1)\n",
    "        row_obj.pop(\"_id\")\n",
    "        self.es_client.index(index=self.index, doc_type=self.doc_type, body=row_obj, id=_id)\n",
    "\n",
    "\n",
    "if __name__ == '__main__':\n",
    "\n",
    "    content_ls = [\n",
    "        u\"美国留给伊拉克的是个烂摊子吗\",\n",
    "        u\"公安部：各地校车将享最高路权\",\n",
    "        u\"中韩渔警冲突调查：韩警平均每天扣1艘中国渔船\",\n",
    "        u\"中国驻洛杉矶领事馆遭亚裔男子枪击 嫌犯已自首\"\n",
    "    ]\n",
    "\n",
    "    load_es = LoadElasticSearch()\n",
    "    # 插入单条数据测试\n",
    "    for index, content in enumerate(content_ls):\n",
    "        write_obj = {\n",
    "            \"_id\": index,\n",
    "            \"document_id\": index,\n",
    "            \"content\": content\n",
    "        }\n",
    "        load_es.add_date(write_obj)\n"
   ]
  },
  {
   "cell_type": "markdown",
   "id": "aadd3bea",
   "metadata": {},
   "source": [
    "> *其他功能后续再补充*"
   ]
  },
  {
   "cell_type": "markdown",
   "id": "c4abe83a",
   "metadata": {},
   "source": [
    "-----"
   ]
  }
 ],
 "metadata": {
  "kernelspec": {
   "display_name": "Python 3 (ipykernel)",
   "language": "python",
   "name": "python3"
  },
  "language_info": {
   "codemirror_mode": {
    "name": "ipython",
    "version": 3
   },
   "file_extension": ".py",
   "mimetype": "text/x-python",
   "name": "python",
   "nbconvert_exporter": "python",
   "pygments_lexer": "ipython3",
   "version": "3.10.11"
  },
  "nbTranslate": {
   "displayLangs": [
    "*"
   ],
   "hotkey": "alt-t",
   "langInMainMenu": true,
   "sourceLang": "en",
   "targetLang": "fr",
   "useGoogleTranslate": true
  },
  "toc": {
   "base_numbering": 1,
   "nav_menu": {},
   "number_sections": true,
   "sideBar": true,
   "skip_h1_title": false,
   "title_cell": "Table of Contents",
   "title_sidebar": "Contents",
   "toc_cell": false,
   "toc_position": {},
   "toc_section_display": true,
   "toc_window_display": false
  }
 },
 "nbformat": 4,
 "nbformat_minor": 5
}
