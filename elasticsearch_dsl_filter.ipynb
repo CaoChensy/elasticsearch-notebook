{
 "cells": [
  {
   "cell_type": "markdown",
   "id": "2537a948",
   "metadata": {},
   "source": [
    "# Filters"
   ]
  },
  {
   "cell_type": "markdown",
   "id": "a10a8fbc",
   "metadata": {},
   "source": [
    "> 在`elasticsearch_dsl`中，`Filter`是一种用于限制搜索结果的查询类型。\n",
    "\n",
    "与`Query`不同，`Filter`不会影响搜索结果的得分，而只是用于过滤文档。这使得`Filter`比`Query`更加高效，特别是对于大型数据集和高并发搜索。此外，elasticsearch_dsl还支持多种其他的Filter类型，例如`Term、Terms、Range、Exists、GeoDistance、Bool`等。可以根据实际需求选择不同的Filter类型进行搜索。\n",
    "\n",
    "以下是一个简单的例子，展示如何使用`Filter`进行搜索："
   ]
  },
  {
   "cell_type": "code",
   "execution_count": 1,
   "id": "6d5d97af",
   "metadata": {
    "ExecuteTime": {
     "end_time": "2023-07-02T09:37:38.988817Z",
     "start_time": "2023-07-02T09:37:38.764613Z"
    }
   },
   "outputs": [],
   "source": [
    "from elasticsearch_dsl import Search, Q, connections\n",
    "from elasticsearch_dsl.query import Term, Terms, Range, ScoreFunction\n",
    "\n",
    "# 连接到 Elasticsearch\n",
    "connections.create_connection(hosts=['localhost'])\n",
    "\n",
    "# 创建一个查询对象\n",
    "search = Search(index='books')"
   ]
  },
  {
   "cell_type": "code",
   "execution_count": 2,
   "id": "80f7e5d8",
   "metadata": {
    "ExecuteTime": {
     "end_time": "2023-07-02T09:39:09.815363Z",
     "start_time": "2023-07-02T09:39:09.812361Z"
    }
   },
   "outputs": [],
   "source": [
    "def search_term(search, term, columns):\n",
    "    \"\"\"该函数将按照 Query 进行检索并打印出指定字段\"\"\"\n",
    "    s = search.filter(term)\n",
    "    response = s.execute()\n",
    "\n",
    "    for hit in response.hits:\n",
    "        for col in columns:\n",
    "            print(f\"{col}: {hit.to_dict().get(col)}\")"
   ]
  },
  {
   "cell_type": "markdown",
   "id": "d7ce4be9",
   "metadata": {},
   "source": [
    "## Term"
   ]
  },
  {
   "cell_type": "code",
   "execution_count": 3,
   "id": "df44fe7f",
   "metadata": {
    "ExecuteTime": {
     "end_time": "2023-07-02T09:39:19.939145Z",
     "start_time": "2023-07-02T09:39:19.922130Z"
    }
   },
   "outputs": [
    {
     "name": "stdout",
     "output_type": "stream",
     "text": [
      "title: Term\n",
      "price: 5\n"
     ]
    }
   ],
   "source": [
    "term = Term(category='test')\n",
    "search_term(search, term, columns=['title', 'price'])"
   ]
  },
  {
   "cell_type": "code",
   "execution_count": 6,
   "id": "95e21cfc",
   "metadata": {
    "ExecuteTime": {
     "end_time": "2023-07-02T09:40:25.386402Z",
     "start_time": "2023-07-02T09:40:25.379397Z"
    }
   },
   "outputs": [
    {
     "name": "stdout",
     "output_type": "stream",
     "text": [
      "title: 西游记\n",
      "price: 10\n",
      "category: 小说\n",
      "title: 红楼梦\n",
      "price: 20\n",
      "category: 小说\n",
      "title: 水浒传\n",
      "price: 45\n",
      "category: 小说\n",
      "title: 三国演义\n",
      "price: 30\n",
      "category: 小说\n"
     ]
    }
   ],
   "source": [
    "term = Term(category='小')\n",
    "search_term(search, term, columns=['title', 'price', 'category'])"
   ]
  },
  {
   "cell_type": "code",
   "execution_count": 8,
   "id": "dbb10f33",
   "metadata": {
    "ExecuteTime": {
     "end_time": "2023-07-02T09:41:07.050089Z",
     "start_time": "2023-07-02T09:41:07.042081Z"
    }
   },
   "outputs": [
    {
     "name": "stdout",
     "output_type": "stream",
     "text": [
      "title: 西游记\n",
      "price: 10\n",
      "title: 创意者的突破\n",
      "price: 10\n"
     ]
    }
   ],
   "source": [
    "term = Term(price=10)\n",
    "search_term(search, term, columns=['title', 'price'])"
   ]
  },
  {
   "cell_type": "markdown",
   "id": "ecfff0b9",
   "metadata": {},
   "source": [
    "### 分词效果"
   ]
  },
  {
   "cell_type": "code",
   "execution_count": 10,
   "id": "b924927f",
   "metadata": {
    "ExecuteTime": {
     "end_time": "2023-07-02T09:41:27.785273Z",
     "start_time": "2023-07-02T09:41:27.779268Z"
    }
   },
   "outputs": [],
   "source": [
    "search = Search(index='books')\n",
    "term = Term(category='小说')\n",
    "search_term(search, term, columns=['title', 'price'])"
   ]
  },
  {
   "cell_type": "code",
   "execution_count": 11,
   "id": "46ce5e8e",
   "metadata": {
    "ExecuteTime": {
     "end_time": "2023-07-02T09:41:44.938471Z",
     "start_time": "2023-07-02T09:41:44.931465Z"
    }
   },
   "outputs": [
    {
     "name": "stdout",
     "output_type": "stream",
     "text": [
      "title: 西游记\n",
      "price: 10\n",
      "title: 红楼梦\n",
      "price: 20\n",
      "title: 水浒传\n",
      "price: 45\n",
      "title: 三国演义\n",
      "price: 30\n"
     ]
    }
   ],
   "source": [
    "search = Search(index='books_ik')\n",
    "\n",
    "term = Term(category='小说')\n",
    "search_term(search, term, columns=['title', 'price'])"
   ]
  },
  {
   "cell_type": "markdown",
   "id": "34be216f",
   "metadata": {},
   "source": [
    "*其他写法，示例：*\n",
    "\n",
    "\n",
    "```python\n",
    "        Q(\"term\", category=\"books\")\n",
    "```"
   ]
  },
  {
   "cell_type": "markdown",
   "id": "7d65f3db",
   "metadata": {},
   "source": [
    "## Terms"
   ]
  },
  {
   "cell_type": "code",
   "execution_count": 13,
   "id": "38255955",
   "metadata": {
    "ExecuteTime": {
     "end_time": "2023-07-02T09:42:24.314524Z",
     "start_time": "2023-07-02T09:42:24.306516Z"
    }
   },
   "outputs": [
    {
     "name": "stdout",
     "output_type": "stream",
     "text": [
      "title: 西游记\n",
      "price: 10\n",
      "title: 红楼梦\n",
      "price: 20\n",
      "title: 水浒传\n",
      "price: 45\n",
      "title: 三国演义\n",
      "price: 30\n",
      "title: 创意者的突破\n",
      "price: 10\n",
      "title: 追风筝的人\n",
      "price: 20\n",
      "title: 马拉拉的故事\n",
      "price: 45\n",
      "title: 爱因斯坦传\n",
      "price: 35\n"
     ]
    }
   ],
   "source": [
    "terms = Terms(category=['小说', '传记'])\n",
    "search_term(search, terms, columns=['title', 'price'])"
   ]
  },
  {
   "cell_type": "markdown",
   "id": "9c10d6db",
   "metadata": {
    "ExecuteTime": {
     "end_time": "2023-06-25T07:45:30.898698Z",
     "start_time": "2023-06-25T07:45:30.887776Z"
    }
   },
   "source": [
    "*其他写法，示例：*\n",
    "\n",
    "```python\n",
    "        Q('terms', tags=['search', 'python'])\n",
    "```"
   ]
  },
  {
   "cell_type": "markdown",
   "id": "ed72251e",
   "metadata": {},
   "source": [
    "## Range"
   ]
  },
  {
   "cell_type": "code",
   "execution_count": 14,
   "id": "99d2cfb1",
   "metadata": {
    "ExecuteTime": {
     "end_time": "2023-07-02T09:42:40.637083Z",
     "start_time": "2023-07-02T09:42:40.627075Z"
    }
   },
   "outputs": [
    {
     "name": "stdout",
     "output_type": "stream",
     "text": [
      "title: 红楼梦\n",
      "price: 20\n",
      "title: 水浒传\n",
      "price: 45\n",
      "title: 三国演义\n",
      "price: 30\n",
      "title: 追风筝的人\n",
      "price: 20\n",
      "title: 马拉拉的故事\n",
      "price: 45\n",
      "title: 爱因斯坦传\n",
      "price: 35\n",
      "title: Python\n",
      "price: 47\n"
     ]
    }
   ],
   "source": [
    "term = Range(price={\"gte\": 20, \"lte\": 100})\n",
    "search_term(search, term, columns=['title', 'price'])"
   ]
  },
  {
   "cell_type": "markdown",
   "id": "32c2e271",
   "metadata": {
    "ExecuteTime": {
     "end_time": "2023-06-25T07:23:59.172222Z",
     "start_time": "2023-06-25T07:23:59.143228Z"
    }
   },
   "source": [
    "*其他写法，示例：*\n",
    "\n",
    "```python\n",
    "        Q(\"range\", price={\"gte\": 20, \"lte\": 100})\n",
    "```"
   ]
  },
  {
   "cell_type": "markdown",
   "id": "28a399b1",
   "metadata": {},
   "source": [
    "## 多个字段"
   ]
  },
  {
   "cell_type": "code",
   "execution_count": null,
   "id": "86cb793f",
   "metadata": {
    "ExecuteTime": {
     "end_time": "2023-06-25T07:47:40.034131Z",
     "start_time": "2023-06-25T07:47:40.002239Z"
    }
   },
   "outputs": [],
   "source": [
    "ranges = Range(price={\"gte\": 20, \"lte\": 100})\n",
    "terms = Terms(category=['小说', '传记'])\n",
    "\n",
    "query = ranges & terms\n",
    "\n",
    "search_term(search, query, columns=['title', 'price'])"
   ]
  },
  {
   "cell_type": "markdown",
   "id": "2a25bac7",
   "metadata": {},
   "source": [
    "在这个例子中，我们使用Filter来过滤搜索结果。\n",
    "\n",
    "我们创建两个`Filter`，\n",
    "\n",
    "1. 一个用于匹配`category`字段为`[\"小说\", \"传记\"]`的文档，\n",
    "2. 另一个用于匹配`price`字段在20到100之间的文档。\n",
    "\n",
    "最后，我们将`term`对象组合起来，并执行搜索。"
   ]
  },
  {
   "cell_type": "markdown",
   "id": "d68e9631",
   "metadata": {},
   "source": [
    "## `post_filter`"
   ]
  },
  {
   "cell_type": "markdown",
   "id": "def52637",
   "metadata": {},
   "source": [
    "总体说来，我们可以使用如下的两个方法来过滤搜索的结果：\n",
    "\n",
    "- 使用带有 `filter` 子句的布尔查询。搜索请求将布尔过滤器应用于搜索命中和聚合。\n",
    "- 使用搜索 `API` 的 `post_filter` 参数。搜索请求仅将 `post_filters` 应用于搜索命中的结果中。"
   ]
  },
  {
   "cell_type": "code",
   "execution_count": null,
   "id": "424bcb0f",
   "metadata": {
    "ExecuteTime": {
     "end_time": "2023-06-25T07:52:58.288315Z",
     "start_time": "2023-06-25T07:52:58.263769Z"
    }
   },
   "outputs": [],
   "source": [
    "q = Q('match', title='python')\n",
    "ranges = Range(price={\"gte\": 20, \"lte\": 100})\n",
    "\n",
    "s = search.query(q).post_filter(ranges)\n",
    "\n",
    "res = s.execute()\n",
    "res.hits"
   ]
  },
  {
   "cell_type": "markdown",
   "id": "efd4c52e",
   "metadata": {},
   "source": [
    "# End"
   ]
  },
  {
   "cell_type": "markdown",
   "id": "ac73ca83",
   "metadata": {},
   "source": [
    "- [Elasticsearch：过滤搜索结果 - filter 及 post_filter](https://juejin.cn/post/7114169318669025316)"
   ]
  },
  {
   "cell_type": "markdown",
   "id": "5f252e02",
   "metadata": {},
   "source": [
    "-----"
   ]
  }
 ],
 "metadata": {
  "kernelspec": {
   "display_name": "Python 3 (ipykernel)",
   "language": "python",
   "name": "python3"
  },
  "language_info": {
   "codemirror_mode": {
    "name": "ipython",
    "version": 3
   },
   "file_extension": ".py",
   "mimetype": "text/x-python",
   "name": "python",
   "nbconvert_exporter": "python",
   "pygments_lexer": "ipython3",
   "version": "3.10.11"
  },
  "nbTranslate": {
   "displayLangs": [
    "*"
   ],
   "hotkey": "alt-t",
   "langInMainMenu": true,
   "sourceLang": "en",
   "targetLang": "fr",
   "useGoogleTranslate": true
  },
  "toc": {
   "base_numbering": 1,
   "nav_menu": {},
   "number_sections": true,
   "sideBar": true,
   "skip_h1_title": false,
   "title_cell": "Table of Contents",
   "title_sidebar": "Contents",
   "toc_cell": false,
   "toc_position": {},
   "toc_section_display": true,
   "toc_window_display": false
  }
 },
 "nbformat": 4,
 "nbformat_minor": 5
}
