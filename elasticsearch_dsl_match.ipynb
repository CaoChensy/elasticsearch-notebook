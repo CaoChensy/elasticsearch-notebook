{
 "cells": [
  {
   "cell_type": "markdown",
   "id": "0708cae4",
   "metadata": {},
   "source": [
    "# 文本内容在ES中的存储形式"
   ]
  },
  {
   "cell_type": "markdown",
   "id": "05f0e751",
   "metadata": {},
   "source": [
    "<center>\n",
    "    <img src='./img/match_01.png' width='680px'>\n",
    "</center>"
   ]
  },
  {
   "cell_type": "markdown",
   "id": "f0b76511",
   "metadata": {},
   "source": [
    "# Match"
   ]
  },
  {
   "cell_type": "markdown",
   "id": "dec35ad0",
   "metadata": {},
   "source": [
    "其中`Match`是`elasticsearch_dsl`中的一个查询类型，它用于在指定字段中搜索包含特定单词或短语的文档。\n",
    "\n",
    "`Match`查询可以接受一个参数，即要搜索的文本。可以将文本作为字符串传递给`Match`查询的构造函数，也可以使用一个名为`query`的属性来设置文本。`Match`查询还可以设置其他参数，例如字段名称、操作符（默认为OR）、前缀长度、最小相似度等，以更精确地控制查询。\n",
    "\n",
    "以下是一个使用`Match`查询的示例代码："
   ]
  },
  {
   "cell_type": "code",
   "execution_count": 1,
   "id": "3226d92f",
   "metadata": {
    "ExecuteTime": {
     "end_time": "2023-07-02T09:16:40.094137Z",
     "start_time": "2023-07-02T09:16:39.860926Z"
    }
   },
   "outputs": [
    {
     "data": {
      "text/plain": [
       "<Elasticsearch([{'host': 'localhost'}])>"
      ]
     },
     "execution_count": 1,
     "metadata": {},
     "output_type": "execute_result"
    }
   ],
   "source": [
    "from elasticsearch_dsl import Search, connections\n",
    "from elasticsearch_dsl.query import Match\n",
    "\n",
    "# 连接到 Elasticsearch\n",
    "connections.create_connection(hosts=['localhost'])"
   ]
  },
  {
   "cell_type": "code",
   "execution_count": 2,
   "id": "d22098f3",
   "metadata": {
    "ExecuteTime": {
     "end_time": "2023-07-02T09:17:15.563348Z",
     "start_time": "2023-07-02T09:17:15.549335Z"
    }
   },
   "outputs": [],
   "source": [
    "def search_query(search, query, columns):\n",
    "    \"\"\"该函数将按照 Query 进行检索并打印出指定字段\"\"\"\n",
    "    s = search.query(query)\n",
    "    response = s.execute()\n",
    "\n",
    "    for hit in response.hits:\n",
    "        for col in columns:\n",
    "            print(f\"{col}: {hit.to_dict().get(col)}\")"
   ]
  },
  {
   "cell_type": "code",
   "execution_count": 3,
   "id": "77990123",
   "metadata": {
    "ExecuteTime": {
     "end_time": "2023-07-02T09:18:07.867595Z",
     "start_time": "2023-07-02T09:18:07.851580Z"
    }
   },
   "outputs": [
    {
     "name": "stdout",
     "output_type": "stream",
     "text": [
      "title: 西游记\n"
     ]
    }
   ],
   "source": [
    "# 创建一个查询对象\n",
    "search = Search(index='books')\n",
    "\n",
    "# 创建一个Match查询\n",
    "query = Match(title='西游')\n",
    "search_query(search, query, columns=['title'])"
   ]
  },
  {
   "cell_type": "markdown",
   "id": "429f5ebe",
   "metadata": {},
   "source": [
    "在上面的示例中，我们使用`Match`查询在`title`字段中搜索包含“西游”的文档。我们将查询添加到查询对象中，并执行查询，然后遍历结果并打印匹配的文档标题。"
   ]
  },
  {
   "cell_type": "markdown",
   "id": "e8f35958",
   "metadata": {},
   "source": [
    "# MatchAll"
   ]
  },
  {
   "cell_type": "markdown",
   "id": "e62f9914",
   "metadata": {},
   "source": [
    "> 匹配出全部的数据，可以使用`MatchAll`查询来匹配所有文档。`MatchAll`查询不需要指定任何条件，只需将其作为查询对象即可。\n",
    "\n",
    "以下是一个简单的例子，展示如何使用`elasticsearch_dsl`中的`MatchAll`查询："
   ]
  },
  {
   "cell_type": "code",
   "execution_count": 4,
   "id": "6b0a7d04",
   "metadata": {
    "ExecuteTime": {
     "end_time": "2023-07-02T09:18:19.702073Z",
     "start_time": "2023-07-02T09:18:19.700072Z"
    }
   },
   "outputs": [],
   "source": [
    "from elasticsearch_dsl.query import MatchAll"
   ]
  },
  {
   "cell_type": "code",
   "execution_count": 5,
   "id": "b170cee4",
   "metadata": {
    "ExecuteTime": {
     "end_time": "2023-07-02T09:18:28.893479Z",
     "start_time": "2023-07-02T09:18:28.883468Z"
    }
   },
   "outputs": [
    {
     "name": "stdout",
     "output_type": "stream",
     "text": [
      "title: 西游记\n",
      "title: 红楼梦\n",
      "title: 水浒传\n",
      "title: 三国演义\n",
      "title: 创意者的突破\n",
      "title: 追风筝的人\n",
      "title: 马拉拉的故事\n",
      "title: 爱因斯坦传\n",
      "title: Python\n",
      "title: Term\n"
     ]
    }
   ],
   "source": [
    "query = MatchAll()\n",
    "search_query(search, query, columns=['title'])"
   ]
  },
  {
   "cell_type": "markdown",
   "id": "df952404",
   "metadata": {},
   "source": [
    "使用MatchAll查询可能会返回大量的文档，因此在实际应用中应该谨慎使用。\n",
    "通常情况下，需要使用其他查询条件来限制搜索结果，以提高搜索效率。"
   ]
  },
  {
   "cell_type": "markdown",
   "id": "b6b81a2b",
   "metadata": {},
   "source": [
    "# MatchPhrase"
   ]
  },
  {
   "cell_type": "markdown",
   "id": "25c080ad",
   "metadata": {},
   "source": [
    "> `MatchPhrase`查询可以用来搜索包含给定短语的文档。与Match查询不同的是，`MatchPhrase`查询不会将查询短语分成单个词项，并只匹配包含短语的文档。"
   ]
  },
  {
   "cell_type": "code",
   "execution_count": 6,
   "id": "7595b442",
   "metadata": {
    "ExecuteTime": {
     "end_time": "2023-07-02T09:18:52.573252Z",
     "start_time": "2023-07-02T09:18:52.571251Z"
    }
   },
   "outputs": [],
   "source": [
    "from elasticsearch_dsl.query import MatchPhrase"
   ]
  },
  {
   "cell_type": "code",
   "execution_count": 7,
   "id": "70dd049b",
   "metadata": {
    "ExecuteTime": {
     "end_time": "2023-07-02T09:19:05.177442Z",
     "start_time": "2023-07-02T09:19:05.165430Z"
    }
   },
   "outputs": [
    {
     "name": "stdout",
     "output_type": "stream",
     "text": [
      "title: 西游记\n"
     ]
    }
   ],
   "source": [
    "# 创建一个 MatchPhrase 查询\n",
    "query = MatchPhrase(title='西游')\n",
    "search_query(search, query, columns=['title'])"
   ]
  },
  {
   "cell_type": "code",
   "execution_count": 9,
   "id": "3ca61eb3",
   "metadata": {
    "ExecuteTime": {
     "end_time": "2023-07-02T09:20:17.570306Z",
     "start_time": "2023-07-02T09:20:17.563300Z"
    }
   },
   "outputs": [],
   "source": [
    "# 创建一个 MatchPhrase 查询，\n",
    "# 这段话中不存在 “西游” 这个词所以什么也没匹配出来\n",
    "query = MatchPhrase(description='西游')\n",
    "search_query(search, query, columns=['title'])"
   ]
  },
  {
   "cell_type": "markdown",
   "id": "584928a1",
   "metadata": {},
   "source": [
    "# MatchPhrasePrefix"
   ]
  },
  {
   "cell_type": "markdown",
   "id": "656e9aad",
   "metadata": {},
   "source": [
    "> `MatchPhrasePrefix`查询可以用来搜索包含给定词项前缀的文档。与`MatchPhrase`查询类似，`MatchPhrasePrefix`查询会将查询短语作为一个整体来匹配文档，但是它允许查询短语的前缀匹配文档中的词项。\n",
    "\n",
    "例如，如果我们使用`MatchPhrase`查询搜索短语“Python Elasticsearch”，它只会匹配包含完整短语的文档，而不会匹配包含“Python”或“Elasticsearch”的单独词项的文档。而`MatchPhrasePrefix`查询则可以匹配包含“Py”或“Elastic”前缀的词项的文档。\n",
    "\n",
    "以下是一个使用MatchPhrasePrefix查询的示例代码："
   ]
  },
  {
   "cell_type": "code",
   "execution_count": 10,
   "id": "13dbca62",
   "metadata": {
    "ExecuteTime": {
     "end_time": "2023-07-02T09:20:37.126102Z",
     "start_time": "2023-07-02T09:20:37.124100Z"
    }
   },
   "outputs": [],
   "source": [
    "from elasticsearch_dsl.query import MatchPhrasePrefix"
   ]
  },
  {
   "cell_type": "code",
   "execution_count": 11,
   "id": "ee9f26a1",
   "metadata": {
    "ExecuteTime": {
     "end_time": "2023-07-02T09:20:47.574499Z",
     "start_time": "2023-07-02T09:20:47.564490Z"
    }
   },
   "outputs": [
    {
     "name": "stdout",
     "output_type": "stream",
     "text": [
      "description: 由明朝作家吴承恩创作，讲述了孙悟空、猪八戒、沙僧等人与唐僧师徒四人西天取经的故事。小说通过描绘师徒四人在取经路上所遭遇的种种艰难险阻，反映了人性的善恶、道德观念和宽容精神，成为中国文学的经典之作。\n"
     ]
    }
   ],
   "source": [
    "# 中文是以字为分割的，不太有作用\n",
    "query = MatchPhrasePrefix(description='吴承恩')\n",
    "search_query(search, query, columns=['description'])"
   ]
  },
  {
   "cell_type": "code",
   "execution_count": 12,
   "id": "0ab2230b",
   "metadata": {
    "ExecuteTime": {
     "end_time": "2023-07-02T09:20:57.764888Z",
     "start_time": "2023-07-02T09:20:57.755880Z"
    }
   },
   "outputs": [
    {
     "name": "stdout",
     "output_type": "stream",
     "text": [
      "description: Python elastic search\n"
     ]
    }
   ],
   "source": [
    "# 英文则可以根据前缀进行查询\n",
    "query = MatchPhrasePrefix(description='Py')\n",
    "search_query(search, query, columns=['description'])"
   ]
  },
  {
   "cell_type": "markdown",
   "id": "cd73da70",
   "metadata": {},
   "source": [
    "# MatchBoolPrefix"
   ]
  },
  {
   "cell_type": "markdown",
   "id": "5f58de5e",
   "metadata": {},
   "source": [
    "> `MatchBoolPrefix`查询是`Elasticsearch`中的一种组合查询，它将`Match`和`Bool`查询结合在一起，用于搜索包含给定前缀和满足指定条件的文档。在查询的过程中，`MatchBoolPrefix`会将查询短语分成单个词项，并将它们与查询的字段中的词项进行匹配。\n",
    "\n",
    "以下是一个使用`MatchBoolPrefix`查询的示例代码："
   ]
  },
  {
   "cell_type": "code",
   "execution_count": 14,
   "id": "790861fb",
   "metadata": {
    "ExecuteTime": {
     "end_time": "2023-07-02T09:22:15.005567Z",
     "start_time": "2023-07-02T09:22:14.996558Z"
    },
    "scrolled": true
   },
   "outputs": [
    {
     "name": "stdout",
     "output_type": "stream",
     "text": [
      "description: Python elastic search\n"
     ]
    }
   ],
   "source": [
    "from elasticsearch_dsl.query import MatchBoolPrefix\n",
    "\n",
    "# 创建一个MatchBoolPrefix查询\n",
    "query = MatchBoolPrefix(title='Py')\n",
    "query = query & Match(category='工具')\n",
    "\n",
    "search_query(search, query, columns=['description'])"
   ]
  },
  {
   "cell_type": "markdown",
   "id": "a5410f05",
   "metadata": {},
   "source": [
    "在上面的示例中，我们使用`MatchBoolPrefix`查询在`title`字段中搜索以`Py`开头的词项，并且满足`category='工具'`的文档。我们将查询添加到查询对象中，并执行查询，然后遍历结果并打印匹配的文档标题。"
   ]
  },
  {
   "cell_type": "markdown",
   "id": "fd45d71b",
   "metadata": {},
   "source": [
    "# MatchNone"
   ]
  },
  {
   "cell_type": "markdown",
   "id": "485c00b2",
   "metadata": {},
   "source": [
    "> `MatchNone`查询是`Elasticsearch`中的一种查询方式，它用于查找不包含任何文档的索引。在某些情况下，我们可能需要检查索引是否为空，或者需要在查询结果为空时采取特定的行动，这时`MatchNone`查询就非常有用了。\n",
    "\n",
    "以下是一个使用`MatchNone`查询的示例代码："
   ]
  },
  {
   "cell_type": "code",
   "execution_count": 15,
   "id": "0d6b98d2",
   "metadata": {
    "ExecuteTime": {
     "end_time": "2023-07-02T09:22:22.638065Z",
     "start_time": "2023-07-02T09:22:22.635063Z"
    }
   },
   "outputs": [],
   "source": [
    "from elasticsearch_dsl.query import MatchNone"
   ]
  },
  {
   "cell_type": "code",
   "execution_count": 16,
   "id": "158177f5",
   "metadata": {
    "ExecuteTime": {
     "end_time": "2023-07-02T09:22:39.723316Z",
     "start_time": "2023-07-02T09:22:39.715310Z"
    }
   },
   "outputs": [
    {
     "name": "stdout",
     "output_type": "stream",
     "text": [
      "Index is empty\n"
     ]
    }
   ],
   "source": [
    "# 创建一个MatchNone查询\n",
    "query = MatchNone()\n",
    "\n",
    "# 将MatchNone查询添加到查询对象中\n",
    "s = search.query(query)\n",
    "\n",
    "# 执行查询\n",
    "response = s.execute()\n",
    "\n",
    "# 检查查询结果是否为空\n",
    "if response.hits.total.value == 0:\n",
    "    print(\"Index is empty\")"
   ]
  },
  {
   "cell_type": "markdown",
   "id": "45c4c292",
   "metadata": {},
   "source": [
    "检查查询结果中是否包含任何文档。如果查询结果为空，则说明查询索引是空的。\n",
    "\n",
    "`MatchNone`查询没有任何参数，因为它的目的只是返回一个空的查询结果。"
   ]
  },
  {
   "cell_type": "markdown",
   "id": "47443ac1",
   "metadata": {},
   "source": [
    "# MultiMatch"
   ]
  },
  {
   "cell_type": "markdown",
   "id": "ba445fef",
   "metadata": {},
   "source": [
    "> `MultiMatch`查询支持在多个字段中搜索。\n",
    "\n",
    "1. `fields`参数指定要搜索的字段列表。\n",
    "1. `query`用于指定搜索的文本。\n",
    "1. `minimum_should_match`用于指定最小相似度。"
   ]
  },
  {
   "cell_type": "code",
   "execution_count": 17,
   "id": "7e3f8742",
   "metadata": {
    "ExecuteTime": {
     "end_time": "2023-07-02T09:22:53.534505Z",
     "start_time": "2023-07-02T09:22:53.531502Z"
    }
   },
   "outputs": [],
   "source": [
    "from elasticsearch_dsl.query import MultiMatch"
   ]
  },
  {
   "cell_type": "code",
   "execution_count": 18,
   "id": "24305b10",
   "metadata": {
    "ExecuteTime": {
     "end_time": "2023-07-02T09:22:56.922218Z",
     "start_time": "2023-07-02T09:22:56.907203Z"
    }
   },
   "outputs": [
    {
     "name": "stdout",
     "output_type": "stream",
     "text": [
      "title: 西游记\n",
      "description: 由明朝作家吴承恩创作，讲述了孙悟空、猪八戒、沙僧等人与唐僧师徒四人西天取经的故事。小说通过描绘师徒四人在取经路上所遭遇的种种艰难险阻，反映了人性的善恶、道德观念和宽容精神，成为中国文学的经典之作。\n"
     ]
    }
   ],
   "source": [
    "query = MultiMatch(query='西游记', fields=['title', 'description'])\n",
    "search_query(search, query, columns=['title', 'description'])"
   ]
  },
  {
   "cell_type": "code",
   "execution_count": 21,
   "id": "2eb8f677",
   "metadata": {
    "ExecuteTime": {
     "end_time": "2023-07-02T09:23:40.556023Z",
     "start_time": "2023-07-02T09:23:40.549017Z"
    }
   },
   "outputs": [
    {
     "name": "stdout",
     "output_type": "stream",
     "text": [
      "title: 西游记\n",
      "description: 由明朝作家吴承恩创作，讲述了孙悟空、猪八戒、沙僧等人与唐僧师徒四人西天取经的故事。小说通过描绘师徒四人在取经路上所遭遇的种种艰难险阻，反映了人性的善恶、道德观念和宽容精神，成为中国文学的经典之作。\n"
     ]
    }
   ],
   "source": [
    "# 至少匹配到 '西游记' 中两个字的时候输出，可以看到这里有正常的结果输出\n",
    "query = MultiMatch(query='西游记', fields=['title'], minimum_should_match=2)\n",
    "search_query(search, query, columns=['title', 'description'])"
   ]
  },
  {
   "cell_type": "code",
   "execution_count": 22,
   "id": "0ddafe28",
   "metadata": {
    "ExecuteTime": {
     "end_time": "2023-07-02T09:23:51.793025Z",
     "start_time": "2023-07-02T09:23:51.787020Z"
    }
   },
   "outputs": [],
   "source": [
    "# 匹配到 '西游记' 中4个字的时候输出，此时无结果输出\n",
    "query = MultiMatch(query='西游记', fields=['title'], minimum_should_match=4)\n",
    "search_query(search, query, columns=['title', 'description'])"
   ]
  },
  {
   "cell_type": "markdown",
   "id": "a7640777",
   "metadata": {},
   "source": [
    "------------"
   ]
  }
 ],
 "metadata": {
  "kernelspec": {
   "display_name": "Python 3 (ipykernel)",
   "language": "python",
   "name": "python3"
  },
  "language_info": {
   "codemirror_mode": {
    "name": "ipython",
    "version": 3
   },
   "file_extension": ".py",
   "mimetype": "text/x-python",
   "name": "python",
   "nbconvert_exporter": "python",
   "pygments_lexer": "ipython3",
   "version": "3.10.11"
  },
  "nbTranslate": {
   "displayLangs": [
    "*"
   ],
   "hotkey": "alt-t",
   "langInMainMenu": true,
   "sourceLang": "en",
   "targetLang": "fr",
   "useGoogleTranslate": true
  },
  "toc": {
   "base_numbering": 1,
   "nav_menu": {},
   "number_sections": true,
   "sideBar": true,
   "skip_h1_title": false,
   "title_cell": "Table of Contents",
   "title_sidebar": "Contents",
   "toc_cell": false,
   "toc_position": {
    "height": "calc(100% - 180px)",
    "left": "10px",
    "top": "150px",
    "width": "165px"
   },
   "toc_section_display": true,
   "toc_window_display": false
  }
 },
 "nbformat": 4,
 "nbformat_minor": 5
}
