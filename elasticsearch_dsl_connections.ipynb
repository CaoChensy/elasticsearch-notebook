{
 "cells": [
  {
   "cell_type": "markdown",
   "id": "9b19108a",
   "metadata": {},
   "source": [
    "```python\n",
    "!pip install elasticsearch\n",
    "!pip install elasticsearch-dsl\n",
    "```"
   ]
  },
  {
   "cell_type": "code",
   "execution_count": 1,
   "id": "d5e841f3",
   "metadata": {
    "ExecuteTime": {
     "end_time": "2023-06-25T12:43:42.356749Z",
     "start_time": "2023-06-25T12:43:38.085019Z"
    }
   },
   "outputs": [
    {
     "name": "stdout",
     "output_type": "stream",
     "text": [
      "Name: elasticsearch\n",
      "Version: 7.17.9\n",
      "Summary: Python client for Elasticsearch\n",
      "Home-page: https://github.com/elastic/elasticsearch-py\n",
      "Author: Honza Král, Nick Lang\n",
      "Author-email: honza.kral@gmail.com, nick@nicklang.com\n",
      "License: Apache-2.0\n",
      "Location: c:\\users\\chens\\appdata\\local\\programs\\python\\python310\\lib\\site-packages\n",
      "Requires: certifi, urllib3\n",
      "Required-by: elasticsearch-dsl\n"
     ]
    }
   ],
   "source": [
    "!pip show elasticsearch"
   ]
  },
  {
   "cell_type": "code",
   "execution_count": 2,
   "id": "21824830",
   "metadata": {
    "ExecuteTime": {
     "end_time": "2023-06-25T12:43:50.631244Z",
     "start_time": "2023-06-25T12:43:48.504211Z"
    }
   },
   "outputs": [
    {
     "name": "stdout",
     "output_type": "stream",
     "text": [
      "Name: elasticsearch-dsl\n",
      "Version: 7.4.1\n",
      "Summary: Python client for Elasticsearch\n",
      "Home-page: https://github.com/elasticsearch/elasticsearch-dsl-py\n",
      "Author: Honza Král\n",
      "Author-email: honza.kral@gmail.com\n",
      "License: Apache-2.0\n",
      "Location: c:\\users\\chens\\appdata\\local\\programs\\python\\python310\\lib\\site-packages\n",
      "Requires: elasticsearch, python-dateutil, six\n",
      "Required-by: \n"
     ]
    }
   ],
   "source": [
    "!pip show elasticsearch_dsl"
   ]
  },
  {
   "cell_type": "markdown",
   "id": "76d9f5d5",
   "metadata": {},
   "source": [
    "# 简介`elasticsearch-dsl`"
   ]
  },
  {
   "cell_type": "markdown",
   "id": "18ac035e",
   "metadata": {},
   "source": [
    "> `elasticsearch_dsl`是一个基于`Elasticsearch`的`Python`工具库，它提供了一些高级的查询和聚合功能，可以帮助用户更轻松地与`Elasticsearch`进行交互。"
   ]
  },
  {
   "cell_type": "markdown",
   "id": "fb98963d",
   "metadata": {},
   "source": [
    "**`elasticsearch_dsl_py`的主要特点：**"
   ]
  },
  {
   "cell_type": "markdown",
   "id": "9d945757",
   "metadata": {},
   "source": [
    "1. 面向对象：`elasticsearch_dsl`是一个面向对象的Python工具库，可以使用Python类来表示`Elasticsearch`文档和查询。这使得代码更加易于理解和维护。\n",
    "\n",
    "1. 高级查询：`elasticsearch_dsl`提供了多种高级查询功能，包括全文搜索、前缀搜索、正则表达式搜索、模糊搜索、范围搜索等。这些查询可以轻松地构建复杂的查询语句，从而更好地满足用户的搜索需求。\n",
    "\n",
    "1. 聚合功能：`elasticsearch_dsl`还提供了多种聚合功能，包括分组、过滤、统计、排序等。这些聚合可以帮助用户更好地理解他们的数据，并从中发现有用的信息。\n",
    "\n",
    "1. 易于使用：`elasticsearch_dsl`提供了一个简单易用的API，使得用户可以轻松地与Elasticsearch进行交互。用户可以使用Python类和方法来构建查询和聚合，从而更加灵活地控制查询和聚合的行为。\n",
    "\n",
    "1. 高级扩展：`elasticsearch_dsl`还支持多种高级扩展功能，包括多语言支持、地理位置搜索、复合查询、搜索建议等。"
   ]
  },
  {
   "cell_type": "markdown",
   "id": "708fcefa",
   "metadata": {},
   "source": [
    "# 连接`connections`"
   ]
  },
  {
   "cell_type": "markdown",
   "id": "a17e5393",
   "metadata": {},
   "source": [
    "## Default connection"
   ]
  },
  {
   "cell_type": "markdown",
   "id": "9974a2e7",
   "metadata": {},
   "source": [
    "默认连接`connections.create_connection()`方法："
   ]
  },
  {
   "cell_type": "markdown",
   "id": "db360a4b",
   "metadata": {},
   "source": [
    "```python\n",
    "        from elasticsearch_dsl import connections\n",
    "\n",
    "        connections.create_connection(hosts=['localhost'], timeout=20)\n",
    "```"
   ]
  },
  {
   "cell_type": "markdown",
   "id": "8d17c3fa",
   "metadata": {},
   "source": [
    "同时还可以通过`alias`给连接设置别名，后续可以通过别名来引用该连接，默认别名为`default`："
   ]
  },
  {
   "cell_type": "markdown",
   "id": "19e1195a",
   "metadata": {},
   "source": [
    "```python\n",
    "        from elasticsearch_dsl import connections\n",
    "\n",
    "        connections.create_connection(\n",
    "            alias='my_connection', hosts=['localhost'], timeout=20)\n",
    "```"
   ]
  },
  {
   "cell_type": "markdown",
   "id": "f520651f",
   "metadata": {},
   "source": [
    "## Multiple clusters"
   ]
  },
  {
   "cell_type": "markdown",
   "id": "fb66b83b",
   "metadata": {},
   "source": [
    "可以通过`configure`定义多个指向不同集群的连接："
   ]
  },
  {
   "cell_type": "markdown",
   "id": "79f14233",
   "metadata": {},
   "source": [
    "```python\n",
    "        from elasticsearch_dsl import connections\n",
    "\n",
    "        connections.configure(\n",
    "            default={'hosts': 'localhost'},\n",
    "            dev={\n",
    "                'hosts': ['esdev1.example.com:9200'],\n",
    "                'sniff_on_start': True\n",
    "            }\n",
    "        )\n",
    "```"
   ]
  },
  {
   "cell_type": "markdown",
   "id": "cfd23293",
   "metadata": {},
   "source": [
    "还可以通过`add_connection`方法手动添加连接。"
   ]
  },
  {
   "cell_type": "markdown",
   "id": "cad07ff9",
   "metadata": {},
   "source": [
    "## Using aliases"
   ]
  },
  {
   "cell_type": "markdown",
   "id": "c08c8938",
   "metadata": {},
   "source": [
    "下面的例子展示了如何使用连接别名。"
   ]
  },
  {
   "cell_type": "markdown",
   "id": "6b744b00",
   "metadata": {},
   "source": [
    "```python\n",
    "        s = Search(using='my_connection')\n",
    "```"
   ]
  },
  {
   "cell_type": "markdown",
   "id": "062beb8b",
   "metadata": {},
   "source": [
    "### Manual"
   ]
  },
  {
   "cell_type": "markdown",
   "id": "3aeac5b3",
   "metadata": {},
   "source": [
    "如果你不想提供一个全局的连接，你可以通过使用`using`参数传递一个`elasticsearch.Elasticsearch`的实例做为连接，如下："
   ]
  },
  {
   "cell_type": "markdown",
   "id": "c2396d75",
   "metadata": {},
   "source": [
    "```python\n",
    "        from elasticsearch import Elasticsearch\n",
    "    \n",
    "        hosts = 'http://localhost:9200'\n",
    "        client = Elasticsearch(hosts=hosts)\n",
    "        s = Search(using=client)\n",
    "```"
   ]
  },
  {
   "cell_type": "markdown",
   "id": "509d44ec",
   "metadata": {},
   "source": [
    "你还可以通过下面的方式来覆盖已经关联的连接。"
   ]
  },
  {
   "cell_type": "markdown",
   "id": "4d3c4090",
   "metadata": {},
   "source": [
    "```python\n",
    "        s = s.using(Elasticsearch('otherhost:9200'))\n",
    "```"
   ]
  },
  {
   "cell_type": "markdown",
   "id": "cc546705",
   "metadata": {},
   "source": [
    "-----"
   ]
  }
 ],
 "metadata": {
  "kernelspec": {
   "display_name": "Python 3 (ipykernel)",
   "language": "python",
   "name": "python3"
  },
  "language_info": {
   "codemirror_mode": {
    "name": "ipython",
    "version": 3
   },
   "file_extension": ".py",
   "mimetype": "text/x-python",
   "name": "python",
   "nbconvert_exporter": "python",
   "pygments_lexer": "ipython3",
   "version": "3.10.11"
  },
  "nbTranslate": {
   "displayLangs": [
    "*"
   ],
   "hotkey": "alt-t",
   "langInMainMenu": true,
   "sourceLang": "en",
   "targetLang": "fr",
   "useGoogleTranslate": true
  },
  "toc": {
   "base_numbering": 1,
   "nav_menu": {},
   "number_sections": true,
   "sideBar": true,
   "skip_h1_title": false,
   "title_cell": "Table of Contents",
   "title_sidebar": "Contents",
   "toc_cell": false,
   "toc_position": {},
   "toc_section_display": true,
   "toc_window_display": false
  }
 },
 "nbformat": 4,
 "nbformat_minor": 5
}
