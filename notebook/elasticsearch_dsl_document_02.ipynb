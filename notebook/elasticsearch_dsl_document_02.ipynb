{
 "cells": [
  {
   "cell_type": "markdown",
   "id": "141fc464",
   "metadata": {},
   "source": [
    "# Document"
   ]
  },
  {
   "cell_type": "markdown",
   "id": "4f88cdb9",
   "metadata": {},
   "source": [
    "> `Document`对象是`elasticsearch_dsl`中的一个类，用于表示`Elasticsearch`中的文档。它的参数可以包括文档中的`字段`、`类型`和`属性`等信息。"
   ]
  },
  {
   "cell_type": "code",
   "execution_count": null,
   "id": "3db2f102",
   "metadata": {},
   "outputs": [],
   "source": [
    "from elasticsearch_dsl import (\n",
    "    connections, Index, Document, Text, Integer, Boolean, Keyword)"
   ]
  },
  {
   "cell_type": "code",
   "execution_count": null,
   "id": "9a4b4aad",
   "metadata": {},
   "outputs": [],
   "source": [
    "# 连接到 Elasticsearch\n",
    "connection = connections.create_connection(hosts=[\"localhost\"])"
   ]
  },
  {
   "cell_type": "markdown",
   "id": "c519244a",
   "metadata": {},
   "source": [
    "# 创建`Document`"
   ]
  },
  {
   "cell_type": "markdown",
   "id": "6a0fae60",
   "metadata": {},
   "source": [
    "以下是一个示例，演示如何使用`Document`对象创建一个`Elasticsearch`文档："
   ]
  },
  {
   "cell_type": "code",
   "execution_count": null,
   "id": "b3b378ac",
   "metadata": {},
   "outputs": [],
   "source": [
    "# 定义索引和映射\n",
    "class Books(Document):\n",
    "    title = Text()\n",
    "    description = Text()\n",
    "    category = Keyword()\n",
    "    price = Integer()\n",
    "    in_stock = Boolean()\n",
    "\n",
    "    class Index:\n",
    "        name = \"books\""
   ]
  },
  {
   "cell_type": "code",
   "execution_count": null,
   "id": "3f8fda9e",
   "metadata": {},
   "outputs": [],
   "source": [
    "# 如果存在则删除已经创建的索引\n",
    "if Index('books').exists():\n",
    "    Index(\"books\").delete()"
   ]
  },
  {
   "cell_type": "markdown",
   "id": "ff5540ab",
   "metadata": {},
   "source": [
    "在这个示例中，我们定义了一个名为`Books`的`Document`类，它具有`title、description、category、price和in_stock`五个字段。其中，\n",
    "\n",
    "1. `Text`类型：`title、description`\n",
    "1. `Integer`类型: `price`\n",
    "1. `Keyword`类型: `category`\n",
    "1. `Boolean`类型: `in_stock`"
   ]
  },
  {
   "cell_type": "markdown",
   "id": "270fde4a",
   "metadata": {},
   "source": [
    "# 读取一些数据构建这个文档"
   ]
  },
  {
   "cell_type": "code",
   "execution_count": null,
   "id": "1c22f69b",
   "metadata": {},
   "outputs": [],
   "source": [
    "import pandas as pd\n",
    "\n",
    "df_books = pd.read_csv('./data/books.csv', encoding='gbk')\n",
    "df_books"
   ]
  },
  {
   "cell_type": "markdown",
   "id": "875b5ec5",
   "metadata": {},
   "source": [
    "## 构建文档"
   ]
  },
  {
   "cell_type": "markdown",
   "id": "ac2843e0",
   "metadata": {},
   "source": [
    "实例化`Books`，并设置了`title, description, category, price, in_stock`5个字段的值。"
   ]
  },
  {
   "cell_type": "code",
   "execution_count": null,
   "id": "2812f6c4",
   "metadata": {},
   "outputs": [],
   "source": [
    "data = df_books.iloc[0, :]\n",
    "\n",
    "book = Books(\n",
    "    title=data.title, description=data.description, \n",
    "    category=data.category, price=data.price, in_stock=data.in_stock)"
   ]
  },
  {
   "cell_type": "markdown",
   "id": "4319cd78",
   "metadata": {},
   "source": [
    "## 批量保存"
   ]
  },
  {
   "cell_type": "markdown",
   "id": "ff3e303e",
   "metadata": {},
   "source": [
    "然后调用`.save()`方法将这个文档保存到`Elasticsearch`，下面写了一个`for-loop`，将全部数据保存到`book`index。"
   ]
  },
  {
   "cell_type": "code",
   "execution_count": null,
   "id": "dbb76217",
   "metadata": {},
   "outputs": [],
   "source": [
    "for row_no, row in df_books.iterrows():\n",
    "    book = Books(\n",
    "        title=row.title, description=row.description, \n",
    "        category=row.category, price=row.price, in_stock=row.in_stock)\n",
    "    book.save()"
   ]
  },
  {
   "cell_type": "markdown",
   "id": "12c7debf",
   "metadata": {},
   "source": [
    "# 补充"
   ]
  },
  {
   "cell_type": "markdown",
   "id": "9bbfc132",
   "metadata": {},
   "source": [
    "## 创建`Documnet`时设定分词器"
   ]
  },
  {
   "cell_type": "code",
   "execution_count": 1,
   "id": "353a6fdf",
   "metadata": {},
   "outputs": [],
   "source": [
    "from elasticsearch_dsl import connections, Index, Text, analyzer, tokenizer, serializer, Document\n",
    "\n",
    "# 连接到 Elasticsearch\n",
    "connection = connections.create_connection(hosts=[\"localhost\"])"
   ]
  },
  {
   "cell_type": "code",
   "execution_count": 8,
   "id": "5c356df1",
   "metadata": {},
   "outputs": [],
   "source": [
    "# 定义分析器和分词器\n",
    "tokenizer_ik = tokenizer('ik_smart')\n",
    "analyzer_ik = analyzer('ik_smart', tokenizer=tokenizer_ik)\n",
    "\n",
    "# 定义索引\n",
    "index_name = 'ik_index'\n",
    "ik_index = Index(index_name)\n",
    "\n",
    "# 如果存在则删除已经创建的索引\n",
    "if Index(index_name).exists():\n",
    "    Index(index_name).delete()"
   ]
  },
  {
   "cell_type": "code",
   "execution_count": 9,
   "id": "b33b2e60",
   "metadata": {},
   "outputs": [
    {
     "data": {
      "text/plain": [
       "{'acknowledged': True, 'shards_acknowledged': True, 'index': 'ik_index'}"
      ]
     },
     "execution_count": 9,
     "metadata": {},
     "output_type": "execute_result"
    }
   ],
   "source": [
    "# 定义映射\n",
    "@ik_index.document\n",
    "class MyDocument(Document):\n",
    "    title = Text(analyzer=analyzer_ik, search_analyzer=analyzer_ik)\n",
    "    content = Text(analyzer=analyzer_ik, search_analyzer=analyzer_ik)\n",
    "\n",
    "    class Index:\n",
    "        name = \"ik_index\"\n",
    "        settings = {\n",
    "            \"analysis\": {\n",
    "                \"analyzer\": {\n",
    "                    \"ik_smart\": {\n",
    "                        \"tokenizer\": \"ik_smart\"\n",
    "                    }\n",
    "                },\n",
    "                \"search_analyzer\": {\n",
    "                    \"ik_smart\": {\n",
    "                        \"tokenizer\": \"ik_smart\"\n",
    "                    }\n",
    "                },\n",
    "            }\n",
    "        }\n",
    "\n",
    "# 创建索引并将映射与索引关联\n",
    "ik_index.create()"
   ]
  },
  {
   "cell_type": "code",
   "execution_count": 4,
   "id": "cf5ec01e",
   "metadata": {},
   "outputs": [
    {
     "data": {
      "text/plain": [
       "{'ik_index': {'mappings': {'properties': {'content': {'type': 'text',\n",
       "     'analyzer': 'ik_smart'},\n",
       "    'title': {'type': 'text', 'analyzer': 'ik_smart'}}}}}"
      ]
     },
     "execution_count": 4,
     "metadata": {},
     "output_type": "execute_result"
    }
   ],
   "source": [
    "# 查看mapping\n",
    "ik_index.get_mapping()"
   ]
  },
  {
   "cell_type": "code",
   "execution_count": 5,
   "id": "2160d234",
   "metadata": {},
   "outputs": [
    {
     "data": {
      "text/plain": [
       "{'ik_index': {'settings': {'index': {'routing': {'allocation': {'include': {'_tier_preference': 'data_content'}}},\n",
       "    'number_of_shards': '1',\n",
       "    'provided_name': 'ik_index',\n",
       "    'creation_date': '1694076692690',\n",
       "    'analysis': {'analyzer': {'ik_smart': {'type': 'custom',\n",
       "       'tokenizer': 'ik_smart'}}},\n",
       "    'number_of_replicas': '1',\n",
       "    'uuid': 'e78ga8soQB2XlfZrIOG_QQ',\n",
       "    'version': {'created': '8070099'}}}}}"
      ]
     },
     "execution_count": 5,
     "metadata": {},
     "output_type": "execute_result"
    }
   ],
   "source": [
    "# 查看setting\n",
    "ik_index.get_settings()"
   ]
  },
  {
   "cell_type": "markdown",
   "id": "3c7295be",
   "metadata": {},
   "source": [
    "# kibana查看"
   ]
  },
  {
   "cell_type": "markdown",
   "id": "bd2b71a6",
   "metadata": {},
   "source": [
    "## 索引管理"
   ]
  },
  {
   "cell_type": "markdown",
   "id": "da9607a9",
   "metadata": {},
   "source": [
    "**在索引管理中可以看到Index：books**"
   ]
  },
  {
   "cell_type": "markdown",
   "id": "a7498a83",
   "metadata": {},
   "source": [
    "<center>\n",
    "    <img src='./img/doc_01.png'>\n",
    "</center>"
   ]
  },
  {
   "cell_type": "markdown",
   "id": "2c1878d5",
   "metadata": {},
   "source": [
    "## 创建数据视图"
   ]
  },
  {
   "cell_type": "markdown",
   "id": "e6945007",
   "metadata": {},
   "source": [
    "**在数据视图中创建数据视图**"
   ]
  },
  {
   "cell_type": "markdown",
   "id": "33382f80",
   "metadata": {},
   "source": [
    "<center>\n",
    "    <img src='./img/doc_02.png'>\n",
    "</center>"
   ]
  },
  {
   "cell_type": "markdown",
   "id": "bb8524c0",
   "metadata": {},
   "source": [
    "## Discover"
   ]
  },
  {
   "cell_type": "markdown",
   "id": "c4d5199a",
   "metadata": {},
   "source": [
    "**在Discover中切换到books，进行数据查看与索引**"
   ]
  },
  {
   "cell_type": "markdown",
   "id": "fc11c57d",
   "metadata": {},
   "source": [
    "<center>\n",
    "    <img src='./img/doc_03.png'>\n",
    "</center>"
   ]
  },
  {
   "cell_type": "markdown",
   "id": "56f6d5b6",
   "metadata": {},
   "source": [
    "------"
   ]
  }
 ],
 "metadata": {
  "kernelspec": {
   "display_name": "Python 3 (ipykernel)",
   "language": "python",
   "name": "python3"
  },
  "language_info": {
   "codemirror_mode": {
    "name": "ipython",
    "version": 3
   },
   "file_extension": ".py",
   "mimetype": "text/x-python",
   "name": "python",
   "nbconvert_exporter": "python",
   "pygments_lexer": "ipython3",
   "version": "3.10.11"
  },
  "nbTranslate": {
   "displayLangs": [
    "*"
   ],
   "hotkey": "alt-t",
   "langInMainMenu": true,
   "sourceLang": "en",
   "targetLang": "fr",
   "useGoogleTranslate": true
  },
  "toc": {
   "base_numbering": 1,
   "nav_menu": {},
   "number_sections": true,
   "sideBar": true,
   "skip_h1_title": false,
   "title_cell": "Table of Contents",
   "title_sidebar": "Contents",
   "toc_cell": false,
   "toc_position": {},
   "toc_section_display": true,
   "toc_window_display": false
  }
 },
 "nbformat": 4,
 "nbformat_minor": 5
}
