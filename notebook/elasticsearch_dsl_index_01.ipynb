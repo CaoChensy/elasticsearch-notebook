{
 "cells": [
  {
   "cell_type": "markdown",
   "id": "9ed9650e",
   "metadata": {},
   "source": [
    "# Index"
   ]
  },
  {
   "cell_type": "markdown",
   "id": "fd28a84d",
   "metadata": {},
   "source": [
    "**Elasticsearch中的index可以理解为类似于数据库中的表的概念，但是两者并不完全相同。**"
   ]
  },
  {
   "cell_type": "markdown",
   "id": "86305155",
   "metadata": {},
   "source": [
    "1. 在`Elasticsearch`中，`Index`是指一个包含了相关文档的逻辑容器。这些文档具有相同的数据结构，例如相同的字段和数据类型。每个文档都有一个唯一的`ID`来标识它。`Elasticsearch`使用`index`来组织、存储和检索文档数据。\n",
    "2. 与数据库中的表不同，Elasticsearch中的index可以跨越多个物理节点进行分布式存储和处理。此外，Elasticsearch中的index还具有高可用性、易于扩展和自动分片等特性，这些特性使得Elasticsearch非常适合处理大规模数据和高并发访问的场景。\n",
    "3. 另外，Elasticsearch中的index也可以看作是一种搜索引擎的概念，每个index可以包含多个document，每个document有多个field，可以使用Elasticsearch提供的搜索API进行全文搜索、聚合、过滤等操作。因此，Elasticsearch中的index不仅仅是一个数据容器，更是一个强大的搜索引擎。"
   ]
  },
  {
   "cell_type": "markdown",
   "id": "d3426352",
   "metadata": {},
   "source": [
    "在创建`Index`时，需要指定`Index`的名称，并且可以定义一些`Index`的配置参数，例如分片数、副本数、分词器等等。创建`Index`后，可以向其中添加文档，也可以对其中的文档进行搜索、更新或删除操作。\n",
    "\n",
    "**`Elasticsearch`的`Index`具有以下特点：**\n",
    "\n",
    "1. 可以包含多个类型的文档，但是在7.0版本中已经移除了多类型的支持。\n",
    "1. 可以包含多个分片和副本，以实现水平扩展和高可用性。\n",
    "1. 可以定义`Mappings`来指定文档结构和字段类型。\n",
    "1. 可以使用不同的分词器对文档进行分词。\n",
    "1. 可以使用复杂的查询语句进行搜索，例如布尔查询、范围查询、模糊查询等等。\n",
    "1. 可以使用聚合来对搜索结果进行统计和分组。\n",
    "\n",
    "**在`Elasticsearch`中，Index是非常重要的概念，它直接决定了数据的组织方式和查询方式。正确地设计和使用Index可以大大提高搜索性能和用户体验。**"
   ]
  },
  {
   "cell_type": "markdown",
   "id": "b5e924f5",
   "metadata": {},
   "source": [
    "# `Python-ElasticSearch`"
   ]
  },
  {
   "cell_type": "markdown",
   "id": "80bc4d37",
   "metadata": {},
   "source": [
    "    ```python\n",
    "    !pip install elasticsearch\n",
    "    !pip install elasticsearch-dsl\n",
    "    ```"
   ]
  },
  {
   "cell_type": "markdown",
   "id": "1dd3ffc7",
   "metadata": {},
   "source": [
    "# 操作`Index`"
   ]
  },
  {
   "cell_type": "code",
   "execution_count": 1,
   "id": "333d974f",
   "metadata": {
    "ExecuteTime": {
     "end_time": "2023-06-25T12:49:32.344576Z",
     "start_time": "2023-06-25T12:49:31.846185Z"
    }
   },
   "outputs": [],
   "source": [
    "from elasticsearch_dsl import connections, Index\n",
    "\n",
    "# 连接到 Elasticsearch\n",
    "connection = connections.create_connection(hosts=[\"localhost\"])"
   ]
  },
  {
   "cell_type": "code",
   "execution_count": 2,
   "id": "9601fd60",
   "metadata": {
    "ExecuteTime": {
     "end_time": "2023-06-25T12:49:47.382164Z",
     "start_time": "2023-06-25T12:49:47.379162Z"
    }
   },
   "outputs": [],
   "source": [
    "index = Index('books')"
   ]
  },
  {
   "cell_type": "markdown",
   "id": "97e1f6af",
   "metadata": {},
   "source": [
    "## `.create()`"
   ]
  },
  {
   "cell_type": "code",
   "execution_count": 4,
   "id": "c64a0a74",
   "metadata": {
    "ExecuteTime": {
     "end_time": "2023-06-25T12:50:16.433318Z",
     "start_time": "2023-06-25T12:50:16.027496Z"
    }
   },
   "outputs": [
    {
     "data": {
      "text/plain": [
       "{'acknowledged': True, 'shards_acknowledged': True, 'index': 'books'}"
      ]
     },
     "execution_count": 4,
     "metadata": {},
     "output_type": "execute_result"
    }
   ],
   "source": [
    "index.create()"
   ]
  },
  {
   "cell_type": "markdown",
   "id": "614db46b",
   "metadata": {
    "heading_collapsed": true
   },
   "source": [
    "### info"
   ]
  },
  {
   "cell_type": "markdown",
   "id": "f127fd14",
   "metadata": {
    "hidden": true
   },
   "source": [
    "> 打开: [http://localhost:9200/books/](http://localhost:9200/books/)，显示以下内容：\n",
    "\n",
    "```json\n",
    "        {\n",
    "            books: {\n",
    "            aliases: { },\n",
    "            mappings: { },\n",
    "            settings: {\n",
    "                index: {\n",
    "                routing: {\n",
    "                allocation: {\n",
    "                include: {\n",
    "                        _tier_preference: \"data_content\"\n",
    "                    }\n",
    "                }\n",
    "            },\n",
    "            number_of_shards: \"1\",\n",
    "            provided_name: \"books\",\n",
    "            creation_date: \"1686734038157\",\n",
    "            number_of_replicas: \"1\",\n",
    "            uuid: \"llCS-mrfRbu8TMuBMVdqcg\",\n",
    "            version: {\n",
    "                    created: \"8070099\"\n",
    "                        }\n",
    "                    }\n",
    "                }\n",
    "            }\n",
    "        }\n",
    "```"
   ]
  },
  {
   "cell_type": "markdown",
   "id": "4d20bf54",
   "metadata": {},
   "source": [
    "## `.exists()`"
   ]
  },
  {
   "cell_type": "code",
   "execution_count": 5,
   "id": "abca4fbc",
   "metadata": {
    "ExecuteTime": {
     "end_time": "2023-06-25T12:50:40.985521Z",
     "start_time": "2023-06-25T12:50:40.979516Z"
    }
   },
   "outputs": [
    {
     "data": {
      "text/plain": [
       "True"
      ]
     },
     "execution_count": 5,
     "metadata": {},
     "output_type": "execute_result"
    }
   ],
   "source": [
    "# 查询index是否存在\n",
    "index.exists()"
   ]
  },
  {
   "cell_type": "markdown",
   "id": "42e20e60",
   "metadata": {},
   "source": [
    "## `.delete()`"
   ]
  },
  {
   "cell_type": "code",
   "execution_count": null,
   "id": "fd5d32f8",
   "metadata": {
    "ExecuteTime": {
     "end_time": "2023-06-25T12:49:57.698179Z",
     "start_time": "2023-06-25T12:49:57.563532Z"
    }
   },
   "outputs": [],
   "source": [
    "# 删除index\n",
    "index.delete()"
   ]
  },
  {
   "cell_type": "markdown",
   "id": "6af15512",
   "metadata": {},
   "source": [
    "## 查看参数"
   ]
  },
  {
   "cell_type": "markdown",
   "id": "dd66511c",
   "metadata": {},
   "source": [
    "### 字段信息"
   ]
  },
  {
   "cell_type": "code",
   "execution_count": 6,
   "id": "e6f86528",
   "metadata": {
    "ExecuteTime": {
     "end_time": "2023-06-25T12:50:56.378525Z",
     "start_time": "2023-06-25T12:50:56.370519Z"
    }
   },
   "outputs": [
    {
     "data": {
      "text/plain": [
       "{'books': {'mappings': {}}}"
      ]
     },
     "execution_count": 6,
     "metadata": {},
     "output_type": "execute_result"
    }
   ],
   "source": [
    "index.get_mapping()"
   ]
  },
  {
   "cell_type": "markdown",
   "id": "178dd6a3",
   "metadata": {},
   "source": [
    "### 设置信息"
   ]
  },
  {
   "cell_type": "code",
   "execution_count": 7,
   "id": "363cd542",
   "metadata": {
    "ExecuteTime": {
     "end_time": "2023-06-25T12:51:12.225786Z",
     "start_time": "2023-06-25T12:51:12.218780Z"
    }
   },
   "outputs": [
    {
     "data": {
      "text/plain": [
       "{'books': {'settings': {'index': {'routing': {'allocation': {'include': {'_tier_preference': 'data_content'}}},\n",
       "    'number_of_shards': '1',\n",
       "    'provided_name': 'books',\n",
       "    'creation_date': '1687697416035',\n",
       "    'number_of_replicas': '1',\n",
       "    'uuid': 'h3oaTUbsR26x7GVBlU5Ilw',\n",
       "    'version': {'created': '8070099'}}}}}"
      ]
     },
     "execution_count": 7,
     "metadata": {},
     "output_type": "execute_result"
    }
   ],
   "source": [
    "index.get_settings()"
   ]
  },
  {
   "cell_type": "markdown",
   "id": "aadd3bea",
   "metadata": {},
   "source": [
    "> *其他功能后续再补充*"
   ]
  },
  {
   "cell_type": "markdown",
   "id": "c4abe83a",
   "metadata": {},
   "source": [
    "-----"
   ]
  }
 ],
 "metadata": {
  "kernelspec": {
   "display_name": "Python 3 (ipykernel)",
   "language": "python",
   "name": "python3"
  },
  "language_info": {
   "codemirror_mode": {
    "name": "ipython",
    "version": 3
   },
   "file_extension": ".py",
   "mimetype": "text/x-python",
   "name": "python",
   "nbconvert_exporter": "python",
   "pygments_lexer": "ipython3",
   "version": "3.10.11"
  },
  "nbTranslate": {
   "displayLangs": [
    "*"
   ],
   "hotkey": "alt-t",
   "langInMainMenu": true,
   "sourceLang": "en",
   "targetLang": "fr",
   "useGoogleTranslate": true
  },
  "toc": {
   "base_numbering": 1,
   "nav_menu": {},
   "number_sections": true,
   "sideBar": true,
   "skip_h1_title": false,
   "title_cell": "Table of Contents",
   "title_sidebar": "Contents",
   "toc_cell": false,
   "toc_position": {},
   "toc_section_display": true,
   "toc_window_display": false
  }
 },
 "nbformat": 4,
 "nbformat_minor": 5
}
