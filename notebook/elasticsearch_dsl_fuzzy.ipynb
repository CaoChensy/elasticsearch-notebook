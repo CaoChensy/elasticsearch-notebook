{
 "cells": [
  {
   "cell_type": "markdown",
   "id": "9780a9fa",
   "metadata": {},
   "source": [
    "# Fuzzy"
   ]
  },
  {
   "cell_type": "markdown",
   "id": "347a6b6c",
   "metadata": {},
   "source": [
    "**模糊查询**\n",
    "\n",
    "> 在 `Elasticsearch DSL for Python` 中，`Fuzzy` 是一种模糊匹配的查询方式。它可以匹配与查询项相似但不完全相同的文档。\n",
    "\n",
    "使用 `Elasticsearch DSL for Python` 中的 Fuzzy 查询，可以通过设置 `fuzziness` 参数来指定查询项与文档之间允许的最大编辑距离。除此之外，还可以设置其他参数，例如 `prefix_length`、`max_expansions` 等。\n",
    "\n",
    "以下是一个示例，展示如何使用 `Fuzzy` 查询："
   ]
  },
  {
   "cell_type": "code",
   "execution_count": 1,
   "id": "069012f1",
   "metadata": {
    "ExecuteTime": {
     "end_time": "2023-07-02T09:28:52.914633Z",
     "start_time": "2023-07-02T09:28:52.683423Z"
    }
   },
   "outputs": [],
   "source": [
    "from dsl_utils import *\n",
    "from elasticsearch_dsl import Search, Q, connections\n",
    "from elasticsearch_dsl.query import Fuzzy"
   ]
  },
  {
   "cell_type": "code",
   "execution_count": 2,
   "id": "7c3d5b4d",
   "metadata": {
    "ExecuteTime": {
     "end_time": "2023-07-02T09:28:53.069447Z",
     "start_time": "2023-07-02T09:28:53.066443Z"
    }
   },
   "outputs": [],
   "source": [
    "# 连接到 Elasticsearch\n",
    "connections.create_connection(hosts=['localhost'])\n",
    "\n",
    "# 创建一个查询对象\n",
    "search = Search(index='books')"
   ]
  },
  {
   "cell_type": "markdown",
   "id": "e5ba723f",
   "metadata": {},
   "source": [
    "> `Fuzziness` 参数用于指定模糊匹配的程度。它可以控制查询项与文档之间允许的最大`编辑距离`，从而使得查询可以匹配与查询项相似但不完全相同的文档。\n",
    "\n",
    "`Fuzziness` 参数可以是一个数字（表示编辑距离），也可以是一个字符串（表示模糊匹配的类型）。以下是一些常用的 `Fuzziness` 参数及其含义：\n",
    "\n",
    "1. `0`：精确匹配。只有当查询项与文档完全相同时才匹配。\n",
    "1. `1`：允许一个字符的编辑距离。例如，如果查询项为 pattern，则可以匹配 `patern、patton、paternn` 等。\n",
    "1. `2`：允许两个字符的编辑距离。例如，如果查询项为 pattern，则可以匹配 `patrn、patton、paternn、patrorn` 等。\n",
    "1. `AUTO`：根据查询项的长度自动选择编辑距离。例如，如果查询项长度为 2，则编辑距离为 1；如果查询项长度为 3 或 4，则编辑距离为 2；如果查询项长度大于 4，则编辑距离为 3。\n",
    "1. 除了以上常用的 `Fuzziness` 参数外，还可以使用其他的参数，例如 `MULTIPLY、ADD` 等。"
   ]
  },
  {
   "cell_type": "markdown",
   "id": "9603a646",
   "metadata": {},
   "source": [
    "> 编辑距离\n",
    "\n",
    "`编辑距离（Edit Distance）`，又称 `Levenshtein` 距离，是衡量两个字符串之间相似度的一种度量方法。它定义为将一个字符串转换成另一个字符串所需要的最少编辑操作次数。编辑操作包括插入（insert）、删除（delete）和替换（replace）字符三种操作。\n",
    "\n",
    "例如，将字符串 \"kitten\" 转换成字符串 \"sitting\"，需要进行三次编辑操作：将 \"k\" 替换成 \"s\"、将 \"e\" 删除、将 \"n\" 替换成 \"g\"，因此它们之间的编辑距离为 3。\n",
    "\n",
    "编辑距离可以用来衡量两个字符串之间的相似度。它常用于自然语言处理、拼写检查、模式匹配等领域。在 `Elasticsearch` 中，编辑距离被用作模糊匹配的一种度量方式，用于计算查询项与文档之间的相似度。\n",
    "\n",
    "需要注意的是，计算两个字符串之间的编辑距离是一种比较复杂的计算方法，时间复杂度为 $O(n^2)$ 或 $O(nm)$，其中 $n$ 和 $m$ 分别表示两个字符串的长度。因此，在实际应用中，应该注意控制字符串的长度，避免计算复杂度过高。"
   ]
  },
  {
   "cell_type": "code",
   "execution_count": 3,
   "id": "6d522cf3",
   "metadata": {
    "ExecuteTime": {
     "end_time": "2023-07-02T09:29:24.312751Z",
     "start_time": "2023-07-02T09:29:24.290731Z"
    }
   },
   "outputs": [
    {
     "name": "stdout",
     "output_type": "stream",
     "text": [
      "title: Python\n"
     ]
    }
   ],
   "source": [
    "# 完全匹配\n",
    "query = Fuzzy(title={'value': 'python', 'fuzziness': 0})\n",
    "search_query(search, query, columns=['title'])"
   ]
  },
  {
   "cell_type": "code",
   "execution_count": 4,
   "id": "19af723a",
   "metadata": {
    "ExecuteTime": {
     "end_time": "2023-07-02T09:29:36.472876Z",
     "start_time": "2023-07-02T09:29:36.466871Z"
    }
   },
   "outputs": [],
   "source": [
    "# 大写情况下，完全匹配，不输出内容\n",
    "query = Fuzzy(title={'value': 'Python', 'fuzziness': 0})\n",
    "search_query(search, query, columns=['title'])"
   ]
  },
  {
   "cell_type": "code",
   "execution_count": 5,
   "id": "8e4d8381",
   "metadata": {
    "ExecuteTime": {
     "end_time": "2023-07-02T09:30:02.109079Z",
     "start_time": "2023-07-02T09:30:02.099070Z"
    }
   },
   "outputs": [
    {
     "name": "stdout",
     "output_type": "stream",
     "text": [
      "title: Python\n"
     ]
    }
   ],
   "source": [
    "# 'fuzziness' 参数指定为 1，可以输出内容\n",
    "query = Fuzzy(title={'value': 'python', 'fuzziness': 1})\n",
    "search_query(search, query, columns=['title'])"
   ]
  },
  {
   "cell_type": "code",
   "execution_count": 6,
   "id": "1a370847",
   "metadata": {
    "ExecuteTime": {
     "end_time": "2023-07-02T09:30:10.332563Z",
     "start_time": "2023-07-02T09:30:10.322554Z"
    }
   },
   "outputs": [
    {
     "name": "stdout",
     "output_type": "stream",
     "text": [
      "title: Python\n"
     ]
    }
   ],
   "source": [
    "# 'fuzziness' 参数指定为 2，可以输出内容\n",
    "query = Fuzzy(title={'value': 'pthn', 'fuzziness': 2})\n",
    "search_query(search, query, columns=['title'])"
   ]
  },
  {
   "cell_type": "code",
   "execution_count": 7,
   "id": "2dff801d",
   "metadata": {
    "ExecuteTime": {
     "end_time": "2023-07-02T09:30:18.235722Z",
     "start_time": "2023-07-02T09:30:18.226716Z"
    }
   },
   "outputs": [
    {
     "name": "stdout",
     "output_type": "stream",
     "text": [
      "title: 西游记\n"
     ]
    }
   ],
   "source": [
    "# 中文模糊匹配\n",
    "query = Fuzzy(title={'value': '游', 'fuzziness': 0})\n",
    "search_query(search, query, columns=['title'])"
   ]
  },
  {
   "cell_type": "code",
   "execution_count": null,
   "id": "794d23bb",
   "metadata": {
    "ExecuteTime": {
     "end_time": "2023-06-25T08:36:38.709199Z",
     "start_time": "2023-06-25T08:36:38.662450Z"
    }
   },
   "outputs": [],
   "source": [
    "# 中文模糊匹配\n",
    "query = Fuzzy(title={'value': '西游', 'fuzziness': 1})\n",
    "search_query(search, query, columns=['title'])"
   ]
  },
  {
   "cell_type": "code",
   "execution_count": null,
   "id": "276914ae",
   "metadata": {
    "ExecuteTime": {
     "end_time": "2023-06-25T08:36:42.374190Z",
     "start_time": "2023-06-25T08:36:42.322386Z"
    }
   },
   "outputs": [],
   "source": [
    "# 中文模糊匹配\n",
    "query = Fuzzy(title={'value': '西游', 'fuzziness': 2})\n",
    "search_query(search, query, columns=['title'])"
   ]
  },
  {
   "cell_type": "code",
   "execution_count": null,
   "id": "7b723956",
   "metadata": {
    "ExecuteTime": {
     "end_time": "2023-06-25T08:36:43.810447Z",
     "start_time": "2023-06-25T08:36:43.790499Z"
    }
   },
   "outputs": [],
   "source": [
    "# 中文模糊匹配\n",
    "query = Fuzzy(title={'value': '西', 'fuzziness': 'auto'})\n",
    "search_query(search, query, columns=['title'])"
   ]
  },
  {
   "cell_type": "markdown",
   "id": "43164511",
   "metadata": {},
   "source": [
    "`Fuzzy` 查询比起其他查询方式会更耗费资源，因此需要谨慎使用。如果可以使用其他查询方式，最好避免使用 `Fuzzy` 查询。"
   ]
  },
  {
   "cell_type": "markdown",
   "id": "5b0433b6",
   "metadata": {},
   "source": [
    "-----"
   ]
  }
 ],
 "metadata": {
  "kernelspec": {
   "display_name": "Python 3 (ipykernel)",
   "language": "python",
   "name": "python3"
  },
  "language_info": {
   "codemirror_mode": {
    "name": "ipython",
    "version": 3
   },
   "file_extension": ".py",
   "mimetype": "text/x-python",
   "name": "python",
   "nbconvert_exporter": "python",
   "pygments_lexer": "ipython3",
   "version": "3.10.11"
  },
  "nbTranslate": {
   "displayLangs": [
    "*"
   ],
   "hotkey": "alt-t",
   "langInMainMenu": true,
   "sourceLang": "en",
   "targetLang": "fr",
   "useGoogleTranslate": true
  },
  "toc": {
   "base_numbering": 1,
   "nav_menu": {},
   "number_sections": true,
   "sideBar": true,
   "skip_h1_title": false,
   "title_cell": "Table of Contents",
   "title_sidebar": "Contents",
   "toc_cell": false,
   "toc_position": {},
   "toc_section_display": true,
   "toc_window_display": false
  }
 },
 "nbformat": 4,
 "nbformat_minor": 5
}
