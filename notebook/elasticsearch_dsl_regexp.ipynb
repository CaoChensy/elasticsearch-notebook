{
 "cells": [
  {
   "cell_type": "markdown",
   "id": "3c27e9b6",
   "metadata": {},
   "source": [
    "# 正则表达式`Regexp`"
   ]
  },
  {
   "cell_type": "code",
   "execution_count": 1,
   "id": "043ea54f",
   "metadata": {
    "ExecuteTime": {
     "end_time": "2023-07-02T09:24:42.340036Z",
     "start_time": "2023-07-02T09:24:42.107826Z"
    }
   },
   "outputs": [],
   "source": [
    "from dsl_utils import *\n",
    "from elasticsearch_dsl import Q, Search, connections\n",
    "from elasticsearch_dsl.query import Regexp, Query"
   ]
  },
  {
   "cell_type": "markdown",
   "id": "41f94ec0",
   "metadata": {},
   "source": [
    "> Regexp查询是Elasticsearch中的一种查询方式，它允许使用正则表达式模式匹配文档中的词项。与其他类型的查询不同，Regexp查询不仅匹配完整的词项，还可以匹配部分词项，因此在某些情况下可以更加灵活和精确地匹配文档。\n",
    "\n",
    "以下是一个使用`Regexp`查询的示例代码："
   ]
  },
  {
   "cell_type": "code",
   "execution_count": 2,
   "id": "119be200",
   "metadata": {
    "ExecuteTime": {
     "end_time": "2023-07-02T09:24:46.101954Z",
     "start_time": "2023-07-02T09:24:46.098949Z"
    }
   },
   "outputs": [],
   "source": [
    "# 连接到 Elasticsearch\n",
    "connections.create_connection(hosts=['localhost'])\n",
    "\n",
    "# 创建一个查询对象\n",
    "search = Search(index='books')"
   ]
  },
  {
   "cell_type": "code",
   "execution_count": 3,
   "id": "9c7f134e",
   "metadata": {
    "ExecuteTime": {
     "end_time": "2023-07-02T09:25:17.258396Z",
     "start_time": "2023-07-02T09:25:17.243382Z"
    }
   },
   "outputs": [
    {
     "name": "stdout",
     "output_type": "stream",
     "text": [
      "title: 西游记\n"
     ]
    }
   ],
   "source": [
    "query = Regexp(title='记|西')\n",
    "search_query(search, query, columns=['title'])"
   ]
  },
  {
   "cell_type": "markdown",
   "id": "85a05617",
   "metadata": {},
   "source": [
    "> 注意：**ES文档写入时由于对字段指定了`normalizer`，字段内容都会被做小写处理**"
   ]
  },
  {
   "cell_type": "code",
   "execution_count": 5,
   "id": "5cfb4892",
   "metadata": {
    "ExecuteTime": {
     "end_time": "2023-07-02T09:25:53.098204Z",
     "start_time": "2023-07-02T09:25:53.091196Z"
    }
   },
   "outputs": [],
   "source": [
    "# 大写情况下匹配不到内容\n",
    "query = Regexp(title='Pyth.*?')\n",
    "search_query(search, query, columns=['title'])"
   ]
  },
  {
   "cell_type": "code",
   "execution_count": 6,
   "id": "e309318a",
   "metadata": {
    "ExecuteTime": {
     "end_time": "2023-07-02T09:26:15.426667Z",
     "start_time": "2023-07-02T09:26:15.419659Z"
    }
   },
   "outputs": [
    {
     "name": "stdout",
     "output_type": "stream",
     "text": [
      "title: Python\n"
     ]
    }
   ],
   "source": [
    "# 小写情况可以匹配\n",
    "query = Regexp(title='pyth.*?')\n",
    "search_query(search, query, columns=['title'])"
   ]
  },
  {
   "cell_type": "markdown",
   "id": "b7f455b7",
   "metadata": {},
   "source": [
    "`Regexp`查询支持多种正则表达式模式，例如`.*`表示匹配任意字符，而`\\d`表示匹配数字字符。您可以根据具体需求选择适合的正则表达式模式。"
   ]
  },
  {
   "cell_type": "markdown",
   "id": "1b3b0ca0",
   "metadata": {},
   "source": [
    "需要注意的是，在执行`Regexp`查询时，由于需要对文档中的所有词项进行正则表达式匹配，因此查询的性能可能会受到影响。因此，建议仅在必要时使用`Regexp`查询，或者在查询前尽可能缩小查询范围，以提高查询性能。"
   ]
  },
  {
   "cell_type": "markdown",
   "id": "ac4c983c",
   "metadata": {},
   "source": [
    "----"
   ]
  }
 ],
 "metadata": {
  "kernelspec": {
   "display_name": "Python 3 (ipykernel)",
   "language": "python",
   "name": "python3"
  },
  "language_info": {
   "codemirror_mode": {
    "name": "ipython",
    "version": 3
   },
   "file_extension": ".py",
   "mimetype": "text/x-python",
   "name": "python",
   "nbconvert_exporter": "python",
   "pygments_lexer": "ipython3",
   "version": "3.10.11"
  },
  "nbTranslate": {
   "displayLangs": [
    "*"
   ],
   "hotkey": "alt-t",
   "langInMainMenu": true,
   "sourceLang": "en",
   "targetLang": "fr",
   "useGoogleTranslate": true
  },
  "toc": {
   "base_numbering": 1,
   "nav_menu": {},
   "number_sections": true,
   "sideBar": true,
   "skip_h1_title": false,
   "title_cell": "Table of Contents",
   "title_sidebar": "Contents",
   "toc_cell": false,
   "toc_position": {},
   "toc_section_display": true,
   "toc_window_display": false
  }
 },
 "nbformat": 4,
 "nbformat_minor": 5
}
