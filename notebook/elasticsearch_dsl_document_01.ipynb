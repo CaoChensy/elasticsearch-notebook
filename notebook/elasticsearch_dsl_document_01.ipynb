{
 "cells": [
  {
   "cell_type": "markdown",
   "id": "141fc464",
   "metadata": {},
   "source": [
    "# Document"
   ]
  },
  {
   "cell_type": "markdown",
   "id": "4f88cdb9",
   "metadata": {},
   "source": [
    "> `Document`对象是`elasticsearch_dsl`中的一个类，用于表示`Elasticsearch`中的文档。它的参数可以包括文档中的`字段`、`类型`和`属性`等信息。"
   ]
  },
  {
   "cell_type": "code",
   "execution_count": 1,
   "id": "3db2f102",
   "metadata": {
    "ExecuteTime": {
     "end_time": "2023-06-25T12:52:20.893107Z",
     "start_time": "2023-06-25T12:52:20.666902Z"
    }
   },
   "outputs": [],
   "source": [
    "from elasticsearch_dsl import (\n",
    "    connections, Index, Document, Text, Integer, Boolean, Keyword)"
   ]
  },
  {
   "cell_type": "code",
   "execution_count": 2,
   "id": "9a4b4aad",
   "metadata": {
    "ExecuteTime": {
     "end_time": "2023-06-25T12:52:23.421626Z",
     "start_time": "2023-06-25T12:52:23.418623Z"
    }
   },
   "outputs": [],
   "source": [
    "# 连接到 Elasticsearch\n",
    "connection = connections.create_connection(hosts=[\"localhost\"])"
   ]
  },
  {
   "cell_type": "markdown",
   "id": "c519244a",
   "metadata": {},
   "source": [
    "# 创建`Document`"
   ]
  },
  {
   "cell_type": "markdown",
   "id": "6a0fae60",
   "metadata": {},
   "source": [
    "以下是一个示例，演示如何使用`Document`对象创建一个`Elasticsearch`文档："
   ]
  },
  {
   "cell_type": "code",
   "execution_count": 3,
   "id": "b3b378ac",
   "metadata": {
    "ExecuteTime": {
     "end_time": "2023-06-25T12:53:26.425123Z",
     "start_time": "2023-06-25T12:53:26.422121Z"
    }
   },
   "outputs": [],
   "source": [
    "# 定义索引和映射\n",
    "class Books(Document):\n",
    "    title = Text()\n",
    "    description = Text()\n",
    "    category = Keyword()\n",
    "    price = Integer()\n",
    "    in_stock = Boolean()\n",
    "\n",
    "    class Index:\n",
    "        name = \"books\""
   ]
  },
  {
   "cell_type": "code",
   "execution_count": 4,
   "id": "3f8fda9e",
   "metadata": {
    "ExecuteTime": {
     "end_time": "2023-06-25T12:53:29.295143Z",
     "start_time": "2023-06-25T12:53:29.179083Z"
    }
   },
   "outputs": [],
   "source": [
    "# 如果存在则删除已经创建的索引\n",
    "if Index('books').exists():\n",
    "    Index(\"books\").delete()"
   ]
  },
  {
   "cell_type": "markdown",
   "id": "ff5540ab",
   "metadata": {},
   "source": [
    "在这个示例中，我们定义了一个名为`Books`的`Document`类，它具有`title、description、category、price和in_stock`五个字段。其中，\n",
    "\n",
    "1. `Text`类型：`title、description`\n",
    "1. `Integer`类型: `price`\n",
    "1. `Keyword`类型: `category`\n",
    "1. `Boolean`类型: `in_stock`"
   ]
  },
  {
   "cell_type": "markdown",
   "id": "270fde4a",
   "metadata": {},
   "source": [
    "# 读取一些数据构建这个文档"
   ]
  },
  {
   "cell_type": "code",
   "execution_count": 5,
   "id": "1c22f69b",
   "metadata": {
    "ExecuteTime": {
     "end_time": "2023-06-25T12:53:45.849429Z",
     "start_time": "2023-06-25T12:53:44.065133Z"
    }
   },
   "outputs": [
    {
     "data": {
      "text/html": [
       "<div>\n",
       "<style scoped>\n",
       "    .dataframe tbody tr th:only-of-type {\n",
       "        vertical-align: middle;\n",
       "    }\n",
       "\n",
       "    .dataframe tbody tr th {\n",
       "        vertical-align: top;\n",
       "    }\n",
       "\n",
       "    .dataframe thead th {\n",
       "        text-align: right;\n",
       "    }\n",
       "</style>\n",
       "<table border=\"1\" class=\"dataframe\">\n",
       "  <thead>\n",
       "    <tr style=\"text-align: right;\">\n",
       "      <th></th>\n",
       "      <th>title</th>\n",
       "      <th>description</th>\n",
       "      <th>category</th>\n",
       "      <th>price</th>\n",
       "      <th>in_stock</th>\n",
       "    </tr>\n",
       "  </thead>\n",
       "  <tbody>\n",
       "    <tr>\n",
       "      <th>0</th>\n",
       "      <td>西游记</td>\n",
       "      <td>由明朝作家吴承恩创作，讲述了孙悟空、猪八戒、沙僧等人与唐僧师徒四人西天取经的故事。小说通过描...</td>\n",
       "      <td>小说</td>\n",
       "      <td>10</td>\n",
       "      <td>False</td>\n",
       "    </tr>\n",
       "    <tr>\n",
       "      <th>1</th>\n",
       "      <td>红楼梦</td>\n",
       "      <td>由清朝作家曹雪芹创作，被誉为中国古代小说的巅峰之作。小说描绘了贾宝玉、林黛玉等人的生活，以及...</td>\n",
       "      <td>小说</td>\n",
       "      <td>20</td>\n",
       "      <td>True</td>\n",
       "    </tr>\n",
       "    <tr>\n",
       "      <th>2</th>\n",
       "      <td>水浒传</td>\n",
       "      <td>由明朝作家施耐庵创作，讲述了宋朝末年一群落难英雄在梁山泊起义反抗统治者的故事。小说通过塑造众...</td>\n",
       "      <td>小说</td>\n",
       "      <td>45</td>\n",
       "      <td>False</td>\n",
       "    </tr>\n",
       "    <tr>\n",
       "      <th>3</th>\n",
       "      <td>三国演义</td>\n",
       "      <td>由明朝作家罗贯中创作，讲述了三国时期的历史故事。小说通过描绘曹操、刘备、孙权等历史人物的生活...</td>\n",
       "      <td>小说</td>\n",
       "      <td>30</td>\n",
       "      <td>True</td>\n",
       "    </tr>\n",
       "    <tr>\n",
       "      <th>4</th>\n",
       "      <td>创意者的突破</td>\n",
       "      <td>（\"The Innovators: How a Group of Hackers, Geni...</td>\n",
       "      <td>传记</td>\n",
       "      <td>10</td>\n",
       "      <td>False</td>\n",
       "    </tr>\n",
       "    <tr>\n",
       "      <th>5</th>\n",
       "      <td>追风筝的人</td>\n",
       "      <td>（\"The Kite Runner\"）：由卡勒德·胡赛尼（Khaled Hosseini）所...</td>\n",
       "      <td>传记</td>\n",
       "      <td>20</td>\n",
       "      <td>True</td>\n",
       "    </tr>\n",
       "    <tr>\n",
       "      <th>6</th>\n",
       "      <td>马拉拉的故事</td>\n",
       "      <td>（\"I Am Malala: The Girl Who Stood Up for Educa...</td>\n",
       "      <td>传记</td>\n",
       "      <td>45</td>\n",
       "      <td>False</td>\n",
       "    </tr>\n",
       "    <tr>\n",
       "      <th>7</th>\n",
       "      <td>爱因斯坦传</td>\n",
       "      <td>（\"Einstein: His Life and Universe\"）：由沃尔特·艾萨克森所...</td>\n",
       "      <td>传记</td>\n",
       "      <td>35</td>\n",
       "      <td>True</td>\n",
       "    </tr>\n",
       "    <tr>\n",
       "      <th>8</th>\n",
       "      <td>Python</td>\n",
       "      <td>Python elastic search</td>\n",
       "      <td>工具</td>\n",
       "      <td>47</td>\n",
       "      <td>True</td>\n",
       "    </tr>\n",
       "    <tr>\n",
       "      <th>9</th>\n",
       "      <td>Term</td>\n",
       "      <td>Term-context</td>\n",
       "      <td>test</td>\n",
       "      <td>5</td>\n",
       "      <td>False</td>\n",
       "    </tr>\n",
       "  </tbody>\n",
       "</table>\n",
       "</div>"
      ],
      "text/plain": [
       "    title                                        description category  price  \\\n",
       "0     西游记  由明朝作家吴承恩创作，讲述了孙悟空、猪八戒、沙僧等人与唐僧师徒四人西天取经的故事。小说通过描...       小说     10   \n",
       "1     红楼梦  由清朝作家曹雪芹创作，被誉为中国古代小说的巅峰之作。小说描绘了贾宝玉、林黛玉等人的生活，以及...       小说     20   \n",
       "2     水浒传  由明朝作家施耐庵创作，讲述了宋朝末年一群落难英雄在梁山泊起义反抗统治者的故事。小说通过塑造众...       小说     45   \n",
       "3    三国演义  由明朝作家罗贯中创作，讲述了三国时期的历史故事。小说通过描绘曹操、刘备、孙权等历史人物的生活...       小说     30   \n",
       "4  创意者的突破  （\"The Innovators: How a Group of Hackers, Geni...       传记     10   \n",
       "5   追风筝的人  （\"The Kite Runner\"）：由卡勒德·胡赛尼（Khaled Hosseini）所...       传记     20   \n",
       "6  马拉拉的故事  （\"I Am Malala: The Girl Who Stood Up for Educa...       传记     45   \n",
       "7   爱因斯坦传  （\"Einstein: His Life and Universe\"）：由沃尔特·艾萨克森所...       传记     35   \n",
       "8  Python                              Python elastic search       工具     47   \n",
       "9    Term                                       Term-context     test      5   \n",
       "\n",
       "   in_stock  \n",
       "0     False  \n",
       "1      True  \n",
       "2     False  \n",
       "3      True  \n",
       "4     False  \n",
       "5      True  \n",
       "6     False  \n",
       "7      True  \n",
       "8      True  \n",
       "9     False  "
      ]
     },
     "execution_count": 5,
     "metadata": {},
     "output_type": "execute_result"
    }
   ],
   "source": [
    "import pandas as pd\n",
    "\n",
    "df_books = pd.read_csv('./data/books.csv', encoding='gbk')\n",
    "df_books"
   ]
  },
  {
   "cell_type": "markdown",
   "id": "875b5ec5",
   "metadata": {},
   "source": [
    "## 构建文档"
   ]
  },
  {
   "cell_type": "markdown",
   "id": "ac2843e0",
   "metadata": {},
   "source": [
    "实例化`Books`，并设置了`title, description, category, price, in_stock`5个字段的值。"
   ]
  },
  {
   "cell_type": "code",
   "execution_count": 7,
   "id": "2812f6c4",
   "metadata": {
    "ExecuteTime": {
     "end_time": "2023-06-25T12:54:15.222553Z",
     "start_time": "2023-06-25T12:54:15.218549Z"
    }
   },
   "outputs": [
    {
     "name": "stdout",
     "output_type": "stream",
     "text": [
      "title                                                        西游记\n",
      "description    由明朝作家吴承恩创作，讲述了孙悟空、猪八戒、沙僧等人与唐僧师徒四人西天取经的故事。小说通过描...\n",
      "category                                                      小说\n",
      "price                                                         10\n",
      "in_stock                                                   False\n",
      "Name: 0, dtype: object\n"
     ]
    }
   ],
   "source": [
    "data = df_books.iloc[0, :]\n",
    "print(data)\n",
    "book = Books(\n",
    "    title=data.title, description=data.description, \n",
    "    category=data.category, price=data.price, in_stock=data.in_stock)"
   ]
  },
  {
   "cell_type": "markdown",
   "id": "4319cd78",
   "metadata": {},
   "source": [
    "## 批量保存"
   ]
  },
  {
   "cell_type": "markdown",
   "id": "ff3e303e",
   "metadata": {},
   "source": [
    "然后调用`.save()`方法将这个文档保存到`Elasticsearch`，下面写了一个`for-loop`，将全部数据保存到`book`index。"
   ]
  },
  {
   "cell_type": "code",
   "execution_count": 8,
   "id": "dbb76217",
   "metadata": {
    "ExecuteTime": {
     "end_time": "2023-06-25T12:54:34.321694Z",
     "start_time": "2023-06-25T12:54:33.627001Z"
    }
   },
   "outputs": [],
   "source": [
    "for row_no, row in df_books.iterrows():\n",
    "    book = Books(\n",
    "        title=row.title, description=row.description, \n",
    "        category=row.category, price=row.price, in_stock=row.in_stock)\n",
    "    book.save()"
   ]
  },
  {
   "cell_type": "markdown",
   "id": "56f6d5b6",
   "metadata": {},
   "source": [
    "------"
   ]
  }
 ],
 "metadata": {
  "kernelspec": {
   "display_name": "Python 3 (ipykernel)",
   "language": "python",
   "name": "python3"
  },
  "language_info": {
   "codemirror_mode": {
    "name": "ipython",
    "version": 3
   },
   "file_extension": ".py",
   "mimetype": "text/x-python",
   "name": "python",
   "nbconvert_exporter": "python",
   "pygments_lexer": "ipython3",
   "version": "3.10.11"
  },
  "nbTranslate": {
   "displayLangs": [
    "*"
   ],
   "hotkey": "alt-t",
   "langInMainMenu": true,
   "sourceLang": "en",
   "targetLang": "fr",
   "useGoogleTranslate": true
  },
  "toc": {
   "base_numbering": 1,
   "nav_menu": {},
   "number_sections": true,
   "sideBar": true,
   "skip_h1_title": false,
   "title_cell": "Table of Contents",
   "title_sidebar": "Contents",
   "toc_cell": false,
   "toc_position": {},
   "toc_section_display": true,
   "toc_window_display": false
  }
 },
 "nbformat": 4,
 "nbformat_minor": 5
}
