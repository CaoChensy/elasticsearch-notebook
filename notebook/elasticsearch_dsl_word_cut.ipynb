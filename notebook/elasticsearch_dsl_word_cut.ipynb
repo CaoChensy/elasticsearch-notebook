{
 "cells": [
  {
   "cell_type": "markdown",
   "id": "f5c6bf75",
   "metadata": {},
   "source": [
    "# 分词"
   ]
  },
  {
   "cell_type": "markdown",
   "id": "825bfb11",
   "metadata": {},
   "source": [
    "中文分词技术指的是将中文文本按照一定的规则切分成一个一个的词语的方法和技术。由于中文没有像英文那样的明确的词与词之间的分隔符，因此中文分词技术在中文信息处理领域中非常重要，是自然语言处理的基础。\n",
    "\n",
    "> 中文分词技术可以分为基于词典的分词和基于统计的分词两种方法。\n",
    "\n",
    "1. 基于词典的分词方法是将文本中的每个字符与一个词典中的词进行匹配，匹配成功的字符组成一个词语。这种方法的优点是速度快、准确率高，但缺点是无法处理未登记在词典中的新词。\n",
    "2. 基于统计的分词方法则是通过对大量文本进行分析，建立语言模型，利用统计学方法预测每个字符是否可以组成一个词语。这种方法的优点是可以处理未登记在词典中的新词，但缺点是需要大量的语料库训练和计算，而且准确率可能受到语料库的质量和数量的影响。\n",
    "\n",
    "中文分词技术在搜索引擎、自然语言处理、机器翻译、信息检索等领域都有广泛的应用，是中文信息处理中不可或缺的基础技术。"
   ]
  },
  {
   "cell_type": "markdown",
   "id": "a375b6b1",
   "metadata": {},
   "source": [
    "# IK"
   ]
  },
  {
   "cell_type": "markdown",
   "id": "ddef9f33",
   "metadata": {},
   "source": [
    "## Install"
   ]
  },
  {
   "cell_type": "markdown",
   "id": "f15d39ea",
   "metadata": {},
   "source": [
    "1. 先在改地址下载`IK`，注意`ElasticSearch`和`IK`插件版本的对应。: [elasticsearch-analysis-ik](https://github.com/medcl/elasticsearch-analysis-ik)\n",
    "2. 将文件解压到，`ik`文件夹需要自己创建：\n",
    "    ```path\n",
    "    \\elasticsearch-8.7.0\\plugins\\ik\n",
    "    ```\n",
    "3. 安装配置好之后需要重启`ES`服务。\n",
    "\n",
    "\n",
    "> 其他参考：ES[分析插件](https://www.elastic.co/guide/en/elasticsearch/plugins/current/analysis.html)\n",
    "\n",
    "> Appendix\n",
    "\n",
    "1. 设置所有索引的默认分词器为`ik`分词：在`ElasticSearch`的配置文件`config/elasticsearch.yml`中的最后一行添加参数`index.analysis.analyzer.default.type: ik`。\n",
    "2. 也可以通过设置`mapping`来使用`ik`分词。"
   ]
  },
  {
   "cell_type": "markdown",
   "id": "3f353a45",
   "metadata": {},
   "source": [
    "## IK分词介绍"
   ]
  },
  {
   "cell_type": "markdown",
   "id": "8867f823",
   "metadata": {},
   "source": [
    "`IK`分词器的两种分词模式：\n",
    "\n",
    "1. `ik_max_word`: 会将文本做最细粒度的拆分，比如会将`中华人民共和国国歌`拆分为`中华人民共和国 / 中华人民 / 中华 / 华人 / 人民共和国 / 人民 / 人 / 民 / 共和国 / 共和 / 和 / 国国 / 国歌`，会穷尽各种可能的组合；\n",
    "2. `ik_smart`: 会做最粗粒度的拆分，比如会将`中华人民共和国国歌`拆分为`中华人民共和国 / 国歌`。"
   ]
  },
  {
   "cell_type": "markdown",
   "id": "f74a2c5d",
   "metadata": {},
   "source": [
    "## 验证安装"
   ]
  },
  {
   "cell_type": "code",
   "execution_count": 2,
   "id": "59216f61",
   "metadata": {
    "ExecuteTime": {
     "end_time": "2023-07-02T09:51:30.810312Z",
     "start_time": "2023-07-02T09:51:30.731240Z"
    }
   },
   "outputs": [],
   "source": [
    "import requests\n",
    "\n",
    "def es_ik_words(text, url=None, analyzer='ik_max_word'):\n",
    "    if not url:\n",
    "        url = \"http://localhost:9200/_analyze\"\n",
    "    data = {\"analyzer\": analyzer, \"text\": text}\n",
    "    response = requests.post(url, json=data)\n",
    "    tokens = [token[\"token\"] for token in response.json()[\"tokens\"]]\n",
    "    return tokens"
   ]
  },
  {
   "cell_type": "markdown",
   "id": "3d7e0614",
   "metadata": {},
   "source": [
    "### ES默认的分词方式"
   ]
  },
  {
   "cell_type": "markdown",
   "id": "69e01c98",
   "metadata": {},
   "source": [
    "#### standard"
   ]
  },
  {
   "cell_type": "markdown",
   "id": "47ecbb57",
   "metadata": {},
   "source": [
    "> `standard` 是默认的分析器。它提供了基本语法的标记化（基于 Unicode 文本分割算法），适用于大多数语言。分词方式：区分中英文，英文按照空格切分同时大写转小写；中文按照单个词分词。"
   ]
  },
  {
   "cell_type": "code",
   "execution_count": 3,
   "id": "e2d45515",
   "metadata": {
    "ExecuteTime": {
     "end_time": "2023-07-02T09:51:33.780959Z",
     "start_time": "2023-07-02T09:51:33.761941Z"
    }
   },
   "outputs": [
    {
     "data": {
      "text/plain": [
       "['你', '好', '我', '来', '自', '浙', '江', '省', '杭', '州', '市', '西', '湖', '区']"
      ]
     },
     "execution_count": 3,
     "metadata": {},
     "output_type": "execute_result"
    }
   ],
   "source": [
    "es_ik_words(text='你好，我来自浙江省杭州市西湖区。', analyzer='standard')"
   ]
  },
  {
   "cell_type": "code",
   "execution_count": 4,
   "id": "20dff66c",
   "metadata": {
    "ExecuteTime": {
     "end_time": "2023-07-02T09:51:59.323671Z",
     "start_time": "2023-07-02T09:51:59.315664Z"
    }
   },
   "outputs": [
    {
     "data": {
      "text/plain": [
       "['this', 'is', 'a', 'test']"
      ]
     },
     "execution_count": 4,
     "metadata": {},
     "output_type": "execute_result"
    }
   ],
   "source": [
    "es_ik_words(text='This is a test.', analyzer='standard')"
   ]
  },
  {
   "cell_type": "markdown",
   "id": "39b37418",
   "metadata": {},
   "source": [
    "#### Simple Analyzer"
   ]
  },
  {
   "cell_type": "markdown",
   "id": "144aca74",
   "metadata": {},
   "source": [
    "> simple 分析器当它遇到只要不是字母的字符，就将文本解析成term，而且所有的 term 都是小写的。\n",
    "【分词方式】 先按照空格分词，英文大写转小写，不是英文不分词。"
   ]
  },
  {
   "cell_type": "code",
   "execution_count": 5,
   "id": "03830880",
   "metadata": {
    "ExecuteTime": {
     "end_time": "2023-07-02T09:52:10.516455Z",
     "start_time": "2023-07-02T09:52:10.507448Z"
    }
   },
   "outputs": [
    {
     "data": {
      "text/plain": [
       "['你好', '我来自浙江省杭州市西湖区']"
      ]
     },
     "execution_count": 5,
     "metadata": {},
     "output_type": "execute_result"
    }
   ],
   "source": [
    "es_ik_words(text='你好，我来自浙江省杭州市西湖区。', analyzer='simple')"
   ]
  },
  {
   "cell_type": "code",
   "execution_count": 6,
   "id": "4bb6f8f0",
   "metadata": {
    "ExecuteTime": {
     "end_time": "2023-07-02T09:52:19.683989Z",
     "start_time": "2023-07-02T09:52:19.674981Z"
    }
   },
   "outputs": [
    {
     "data": {
      "text/plain": [
       "['this', 'is', 'a', 'test']"
      ]
     },
     "execution_count": 6,
     "metadata": {},
     "output_type": "execute_result"
    }
   ],
   "source": [
    "es_ik_words(text='This is a test.', analyzer='simple')"
   ]
  },
  {
   "cell_type": "markdown",
   "id": "ac275573",
   "metadata": {},
   "source": [
    "#### Whitespace Analyzer"
   ]
  },
  {
   "cell_type": "markdown",
   "id": "fc517ebc",
   "metadata": {},
   "source": [
    ">【分词方式】 按空格分词，英文不区分大小写，中文不再分词"
   ]
  },
  {
   "cell_type": "code",
   "execution_count": 7,
   "id": "53df30ef",
   "metadata": {
    "ExecuteTime": {
     "end_time": "2023-07-02T09:52:38.940554Z",
     "start_time": "2023-07-02T09:52:38.931545Z"
    }
   },
   "outputs": [
    {
     "data": {
      "text/plain": [
       "['你好，我来自浙江省杭州市西湖区。']"
      ]
     },
     "execution_count": 7,
     "metadata": {},
     "output_type": "execute_result"
    }
   ],
   "source": [
    "es_ik_words(text='你好，我来自浙江省杭州市西湖区。', analyzer='whitespace')"
   ]
  },
  {
   "cell_type": "code",
   "execution_count": 8,
   "id": "ea084c19",
   "metadata": {
    "ExecuteTime": {
     "end_time": "2023-07-02T09:52:54.788390Z",
     "start_time": "2023-07-02T09:52:54.779382Z"
    }
   },
   "outputs": [
    {
     "data": {
      "text/plain": [
       "['This', 'is', 'a', 'test.']"
      ]
     },
     "execution_count": 8,
     "metadata": {},
     "output_type": "execute_result"
    }
   ],
   "source": [
    "es_ik_words(text='This is a test.', analyzer='whitespace')"
   ]
  },
  {
   "cell_type": "markdown",
   "id": "6eb99f0d",
   "metadata": {},
   "source": [
    "### IK"
   ]
  },
  {
   "cell_type": "markdown",
   "id": "11250577",
   "metadata": {},
   "source": [
    "#### ik_max_word"
   ]
  },
  {
   "cell_type": "code",
   "execution_count": 9,
   "id": "f7e9b592",
   "metadata": {
    "ExecuteTime": {
     "end_time": "2023-07-02T09:53:11.324082Z",
     "start_time": "2023-07-02T09:53:11.315072Z"
    }
   },
   "outputs": [
    {
     "data": {
      "text/plain": [
       "['你好', '我', '来自', '浙江省', '浙江', '省', '杭州市', '杭州', '市', '西湖区', '西湖', '湖区']"
      ]
     },
     "execution_count": 9,
     "metadata": {},
     "output_type": "execute_result"
    }
   ],
   "source": [
    "es_ik_words(text='你好，我来自浙江省杭州市西湖区。', analyzer='ik_max_word')"
   ]
  },
  {
   "cell_type": "markdown",
   "id": "4cc81760",
   "metadata": {},
   "source": [
    "#### ik_smart"
   ]
  },
  {
   "cell_type": "code",
   "execution_count": 10,
   "id": "100793f4",
   "metadata": {
    "ExecuteTime": {
     "end_time": "2023-07-02T09:53:40.827313Z",
     "start_time": "2023-07-02T09:53:40.819306Z"
    }
   },
   "outputs": [
    {
     "data": {
      "text/plain": [
       "['你好', '我', '来自', '浙江省', '杭州市', '西湖区']"
      ]
     },
     "execution_count": 10,
     "metadata": {},
     "output_type": "execute_result"
    }
   ],
   "source": [
    "es_ik_words(text='你好，我来自浙江省杭州市西湖区。', analyzer='ik_smart')"
   ]
  },
  {
   "cell_type": "code",
   "execution_count": 11,
   "id": "9182629b",
   "metadata": {
    "ExecuteTime": {
     "end_time": "2023-07-02T09:53:55.717901Z",
     "start_time": "2023-07-02T09:53:55.706892Z"
    }
   },
   "outputs": [
    {
     "data": {
      "text/plain": [
       "'由 / 清朝 / 作家 / 曹雪芹 / 创作 / 被誉为 / 中国古代 / 小说 / 的 / 巅峰 / 之作 / 小说 / 描绘 / 了 / 贾宝玉 / 林黛玉 / 等人 / 的 / 生活 / 以及 / 他们 / 所处 / 的 / 大观园 / 通过 / 描绘 / 人物 / 的 / 情感 / 和 / 性格 / 反映 / 了 / 封建社会 / 的 / 种种 / 矛盾 / 和 / 不幸 / 小说 / 以其 / 深刻 / 的 / 思想性 / 细腻 / 的 / 描写 / 和 / 独特 / 的 / 艺术风格 / 而 / 闻名于世'"
      ]
     },
     "execution_count": 11,
     "metadata": {},
     "output_type": "execute_result"
    }
   ],
   "source": [
    "text = '''\n",
    "由清朝作家曹雪芹创作，被誉为中国古代小说的巅峰之作。\n",
    "小说描绘了贾宝玉、林黛玉等人的生活，以及他们所处的大观园，\n",
    "通过描绘人物的情感和性格，反映了封建社会的种种矛盾和不幸。\n",
    "小说以其深刻的思想性、细腻的描写和独特的艺术风格而闻名于世。\n",
    "'''\n",
    "\n",
    "' / '.join(es_ik_words(text=text, analyzer='ik_smart'))"
   ]
  },
  {
   "cell_type": "markdown",
   "id": "fd1ca31a",
   "metadata": {},
   "source": [
    "## 分词效果对比"
   ]
  },
  {
   "cell_type": "markdown",
   "id": "8ff211a5",
   "metadata": {},
   "source": [
    "### 默认文档创建Index并导入数据"
   ]
  },
  {
   "cell_type": "code",
   "execution_count": 12,
   "id": "541c5fb1",
   "metadata": {
    "ExecuteTime": {
     "end_time": "2023-07-02T09:54:34.299563Z",
     "start_time": "2023-07-02T09:54:32.531687Z"
    }
   },
   "outputs": [
    {
     "data": {
      "text/plain": [
       "<Elasticsearch([{'host': 'localhost'}])>"
      ]
     },
     "execution_count": 12,
     "metadata": {},
     "output_type": "execute_result"
    }
   ],
   "source": [
    "import pandas as pd\n",
    "from elasticsearch_dsl import (\n",
    "    connections, tokenizer, analyzer,\n",
    "    Index, Document, Text, Integer, Boolean, Keyword)\n",
    "\n",
    "# 创建 Elasticsearch 连接\n",
    "connections.create_connection(hosts=[\"localhost\"])"
   ]
  },
  {
   "cell_type": "code",
   "execution_count": 13,
   "id": "d870454c",
   "metadata": {
    "ExecuteTime": {
     "end_time": "2023-07-02T09:54:57.952008Z",
     "start_time": "2023-07-02T09:54:57.340507Z"
    }
   },
   "outputs": [],
   "source": [
    "# 指定要创建的索引名称\n",
    "index_name = \"books_normal\"\n",
    "\n",
    "# 如果存在则删除已经创建的索引\n",
    "if Index(index_name).exists():\n",
    "    Index(index_name).delete()\n",
    "\n",
    "# 定义索引和映射\n",
    "class Books(Document):\n",
    "    title = Text()\n",
    "    description = Text()\n",
    "    category = Keyword()\n",
    "    price = Integer()\n",
    "    in_stock = Boolean()\n",
    "\n",
    "    class Index:\n",
    "        name = index_name\n",
    "        \n",
    "# 创建索引并将映射与索引关联\n",
    "Books.init()"
   ]
  },
  {
   "cell_type": "code",
   "execution_count": 14,
   "id": "03f52133",
   "metadata": {
    "ExecuteTime": {
     "end_time": "2023-07-02T09:54:58.148139Z",
     "start_time": "2023-07-02T09:54:57.953008Z"
    }
   },
   "outputs": [],
   "source": [
    "# 导入数据\n",
    "df_books = pd.read_csv('./data/books.csv', encoding='gbk')\n",
    "for row_no, row in df_books.iterrows():\n",
    "    book = Books(\n",
    "        title=row.title, description=row.description, \n",
    "        category=row.category, price=row.price, in_stock=row.in_stock)\n",
    "    book.save()"
   ]
  },
  {
   "cell_type": "code",
   "execution_count": 15,
   "id": "941e8533",
   "metadata": {
    "ExecuteTime": {
     "end_time": "2023-07-02T09:54:59.915773Z",
     "start_time": "2023-07-02T09:54:59.906764Z"
    }
   },
   "outputs": [
    {
     "data": {
      "text/plain": [
       "{'books_normal': {'mappings': {'properties': {'category': {'type': 'keyword'},\n",
       "    'description': {'type': 'text'},\n",
       "    'in_stock': {'type': 'boolean'},\n",
       "    'price': {'type': 'integer'},\n",
       "    'title': {'type': 'text'}}}}}"
      ]
     },
     "execution_count": 15,
     "metadata": {},
     "output_type": "execute_result"
    }
   ],
   "source": [
    "ik_index = Index(index_name)\n",
    "# get_mapping\n",
    "ik_index.get_mapping()"
   ]
  },
  {
   "cell_type": "code",
   "execution_count": 16,
   "id": "461c12fa",
   "metadata": {
    "ExecuteTime": {
     "end_time": "2023-07-02T09:55:19.361852Z",
     "start_time": "2023-07-02T09:55:19.354845Z"
    }
   },
   "outputs": [
    {
     "data": {
      "text/plain": [
       "{'books_normal': {'settings': {'index': {'routing': {'allocation': {'include': {'_tier_preference': 'data_content'}}},\n",
       "    'number_of_shards': '1',\n",
       "    'provided_name': 'books_normal',\n",
       "    'creation_date': '1688291697496',\n",
       "    'number_of_replicas': '1',\n",
       "    'uuid': 'xn5B80lZQreO_As_i77oDQ',\n",
       "    'version': {'created': '8070099'}}}}}"
      ]
     },
     "execution_count": 16,
     "metadata": {},
     "output_type": "execute_result"
    }
   ],
   "source": [
    "# get_mapping\n",
    "ik_index.get_settings()"
   ]
  },
  {
   "cell_type": "markdown",
   "id": "2411ecf0",
   "metadata": {},
   "source": [
    "### IK分词创建Index并导入数据"
   ]
  },
  {
   "cell_type": "code",
   "execution_count": 17,
   "id": "73424d35",
   "metadata": {
    "ExecuteTime": {
     "end_time": "2023-07-02T09:55:33.759039Z",
     "start_time": "2023-07-02T09:55:33.755035Z"
    }
   },
   "outputs": [
    {
     "data": {
      "text/plain": [
       "<Elasticsearch([{'host': 'localhost'}])>"
      ]
     },
     "execution_count": 17,
     "metadata": {},
     "output_type": "execute_result"
    }
   ],
   "source": [
    "import pandas as pd\n",
    "from elasticsearch_dsl import (\n",
    "    connections, tokenizer, analyzer,\n",
    "    Index, Document, Text, Integer, Boolean, Keyword)\n",
    "\n",
    "# 创建 Elasticsearch 连接\n",
    "connections.create_connection(hosts=[\"localhost\"])"
   ]
  },
  {
   "cell_type": "code",
   "execution_count": 18,
   "id": "03e13416",
   "metadata": {
    "ExecuteTime": {
     "end_time": "2023-07-02T09:56:29.935658Z",
     "start_time": "2023-07-02T09:56:29.283009Z"
    }
   },
   "outputs": [],
   "source": [
    "# 指定要创建的索引名称\n",
    "index_name = \"books_ik\"\n",
    "\n",
    "# 定义分析器和分词器\n",
    "ik_tokenizer = tokenizer('ik_smart')\n",
    "ik_analyzer = analyzer('ik_smart', tokenizer=ik_tokenizer)\n",
    "\n",
    "# 如果存在则删除已经创建的索引\n",
    "if Index(index_name).exists():\n",
    "    Index(index_name).delete()\n",
    "\n",
    "# 定义索引和映射\n",
    "class Books(Document):\n",
    "    title = Text(analyzer='ik_smart', search_analyzer=ik_analyzer)\n",
    "    description = Text(analyzer='ik_smart', search_analyzer=ik_analyzer)\n",
    "    category = Keyword()\n",
    "    price = Integer()\n",
    "    in_stock = Boolean()\n",
    "\n",
    "    class Index:\n",
    "        name = index_name\n",
    "        settings = {\n",
    "            \"analysis\": {\n",
    "                \"analyzer\": {\n",
    "                    \"ik_smart\": {\n",
    "                        \"tokenizer\": \"ik_smart\"\n",
    "                    }\n",
    "                },\n",
    "                \"search_analyzer\": {\n",
    "                    \"ik_smart\": {\n",
    "                        \"tokenizer\": \"ik_smart\"\n",
    "                    }\n",
    "                },\n",
    "            }\n",
    "        }\n",
    "        \n",
    "# 创建索引并将映射与索引关联\n",
    "Books.init()"
   ]
  },
  {
   "cell_type": "code",
   "execution_count": 19,
   "id": "48103ad3",
   "metadata": {
    "ExecuteTime": {
     "end_time": "2023-07-02T09:56:31.669137Z",
     "start_time": "2023-07-02T09:56:31.506301Z"
    }
   },
   "outputs": [],
   "source": [
    "# 导入数据\n",
    "df_books = pd.read_csv('./data/books.csv', encoding='gbk')\n",
    "for row_no, row in df_books.iterrows():\n",
    "    book = Books(\n",
    "        title=row.title, description=row.description, \n",
    "        category=row.category, price=row.price, in_stock=row.in_stock)\n",
    "    book.save()"
   ]
  },
  {
   "cell_type": "code",
   "execution_count": 20,
   "id": "e06dace4",
   "metadata": {
    "ExecuteTime": {
     "end_time": "2023-07-02T09:56:33.408453Z",
     "start_time": "2023-07-02T09:56:33.402447Z"
    }
   },
   "outputs": [
    {
     "data": {
      "text/plain": [
       "{'books_ik': {'mappings': {'properties': {'category': {'type': 'keyword'},\n",
       "    'description': {'type': 'text', 'analyzer': 'ik_smart'},\n",
       "    'in_stock': {'type': 'boolean'},\n",
       "    'price': {'type': 'integer'},\n",
       "    'title': {'type': 'text', 'analyzer': 'ik_smart'}}}}}"
      ]
     },
     "execution_count": 20,
     "metadata": {},
     "output_type": "execute_result"
    }
   ],
   "source": [
    "ik_index = Index(index_name)\n",
    "# get_mapping\n",
    "ik_index.get_mapping()"
   ]
  },
  {
   "cell_type": "code",
   "execution_count": 21,
   "id": "d9757adb",
   "metadata": {
    "ExecuteTime": {
     "end_time": "2023-07-02T09:56:50.435033Z",
     "start_time": "2023-07-02T09:56:50.428027Z"
    }
   },
   "outputs": [
    {
     "data": {
      "text/plain": [
       "{'books_ik': {'settings': {'index': {'routing': {'allocation': {'include': {'_tier_preference': 'data_content'}}},\n",
       "    'number_of_shards': '1',\n",
       "    'provided_name': 'books_ik',\n",
       "    'creation_date': '1688291789433',\n",
       "    'analysis': {'analyzer': {'ik_smart': {'type': 'custom',\n",
       "       'tokenizer': 'ik_smart'}}},\n",
       "    'number_of_replicas': '1',\n",
       "    'uuid': '96YZrZysQo-KLoFr8R0Jjw',\n",
       "    'version': {'created': '8070099'}}}}}"
      ]
     },
     "execution_count": 21,
     "metadata": {},
     "output_type": "execute_result"
    }
   ],
   "source": [
    "# get_mapping\n",
    "ik_index.get_settings()"
   ]
  },
  {
   "cell_type": "markdown",
   "id": "3c1cb06f",
   "metadata": {},
   "source": [
    "### `IK`分词查询与默认分词查询对比"
   ]
  },
  {
   "cell_type": "code",
   "execution_count": 23,
   "id": "7a6cdb37",
   "metadata": {
    "ExecuteTime": {
     "end_time": "2023-07-02T09:57:43.113828Z",
     "start_time": "2023-07-02T09:57:43.105821Z"
    }
   },
   "outputs": [],
   "source": [
    "from dsl_utils import *\n",
    "from elasticsearch_dsl import Search\n",
    "from elasticsearch_dsl.query import MatchPhrase\n",
    "\n",
    "# 创建一个查询对象\n",
    "search = Search(index='books_ik')\n",
    "# 创建一个 MatchPhrase 查询\n",
    "query = MatchPhrase(description='曹芹')\n",
    "search_query(search, query, columns=['title', 'description'])"
   ]
  },
  {
   "cell_type": "code",
   "execution_count": 24,
   "id": "0f0edac3",
   "metadata": {
    "ExecuteTime": {
     "end_time": "2023-07-02T09:57:49.865798Z",
     "start_time": "2023-07-02T09:57:49.858792Z"
    }
   },
   "outputs": [],
   "source": [
    "# 创建一个 MatchPhrase 查询\n",
    "query = MatchPhrase(description='曹雪')\n",
    "search_query(search, query, columns=['title', 'description'])"
   ]
  },
  {
   "cell_type": "code",
   "execution_count": 25,
   "id": "c9097ef9",
   "metadata": {
    "ExecuteTime": {
     "end_time": "2023-07-02T09:57:55.298755Z",
     "start_time": "2023-07-02T09:57:55.290747Z"
    }
   },
   "outputs": [
    {
     "name": "stdout",
     "output_type": "stream",
     "text": [
      "title: 红楼梦\n",
      "description: 由清朝作家曹雪芹创作，被誉为中国古代小说的巅峰之作。小说描绘了贾宝玉、林黛玉等人的生活，以及他们所处的大观园，通过描绘人物的情感和性格，反映了封建社会的种种矛盾和不幸。小说以其深刻的思想性、细腻的描写和独特的艺术风格而闻名于世。\n"
     ]
    }
   ],
   "source": [
    "# 创建一个 MatchPhrase 查询\n",
    "query = MatchPhrase(description='曹雪芹')\n",
    "search_query(search, query, columns=['title', 'description'])"
   ]
  },
  {
   "cell_type": "markdown",
   "id": "adaa1768",
   "metadata": {},
   "source": [
    "**以下为默认效果**"
   ]
  },
  {
   "cell_type": "code",
   "execution_count": 27,
   "id": "cf076cb3",
   "metadata": {
    "ExecuteTime": {
     "end_time": "2023-07-02T09:58:06.889462Z",
     "start_time": "2023-07-02T09:58:06.883456Z"
    }
   },
   "outputs": [],
   "source": [
    "# 创建一个查询对象\n",
    "search = Search(index='books_normal')\n",
    "# 创建一个 MatchPhrase 查询\n",
    "query = MatchPhrase(description='曹芹')\n",
    "search_query(search, query, columns=['title', 'description'])"
   ]
  },
  {
   "cell_type": "code",
   "execution_count": 28,
   "id": "a2fa2e48",
   "metadata": {
    "ExecuteTime": {
     "end_time": "2023-07-02T09:58:15.658005Z",
     "start_time": "2023-07-02T09:58:15.650999Z"
    }
   },
   "outputs": [
    {
     "name": "stdout",
     "output_type": "stream",
     "text": [
      "title: 红楼梦\n",
      "description: 由清朝作家曹雪芹创作，被誉为中国古代小说的巅峰之作。小说描绘了贾宝玉、林黛玉等人的生活，以及他们所处的大观园，通过描绘人物的情感和性格，反映了封建社会的种种矛盾和不幸。小说以其深刻的思想性、细腻的描写和独特的艺术风格而闻名于世。\n"
     ]
    }
   ],
   "source": [
    "# 创建一个 MatchPhrase 查询\n",
    "query = MatchPhrase(description='曹雪')\n",
    "search_query(search, query, columns=['title', 'description'])"
   ]
  },
  {
   "cell_type": "code",
   "execution_count": 29,
   "id": "832eae4f",
   "metadata": {
    "ExecuteTime": {
     "end_time": "2023-07-02T09:58:21.482789Z",
     "start_time": "2023-07-02T09:58:21.474782Z"
    }
   },
   "outputs": [
    {
     "name": "stdout",
     "output_type": "stream",
     "text": [
      "title: 红楼梦\n",
      "description: 由清朝作家曹雪芹创作，被誉为中国古代小说的巅峰之作。小说描绘了贾宝玉、林黛玉等人的生活，以及他们所处的大观园，通过描绘人物的情感和性格，反映了封建社会的种种矛盾和不幸。小说以其深刻的思想性、细腻的描写和独特的艺术风格而闻名于世。\n"
     ]
    }
   ],
   "source": [
    "# 创建一个 MatchPhrase 查询\n",
    "query = MatchPhrase(description='曹雪芹')\n",
    "search_query(search, query, columns=['title', 'description'])"
   ]
  },
  {
   "cell_type": "markdown",
   "id": "68a3d507",
   "metadata": {},
   "source": [
    "# jieba分词"
   ]
  },
  {
   "cell_type": "markdown",
   "id": "ed44dd4b",
   "metadata": {
    "ExecuteTime": {
     "end_time": "2023-06-25T08:14:34.187606Z",
     "start_time": "2023-06-25T08:14:34.155798Z"
    }
   },
   "source": [
    "*目前，`jieba`分词最高支持到`ES`版本为`7.7`，这里就不展示了。*"
   ]
  },
  {
   "cell_type": "markdown",
   "id": "2ef24052",
   "metadata": {},
   "source": [
    "# 参考"
   ]
  },
  {
   "cell_type": "markdown",
   "id": "91c7d1dd",
   "metadata": {},
   "source": [
    "- [medcl/elasticsearch-analysis-ik](https://github.com/medcl/elasticsearch-analysis-ik)\n",
    "- [elasticsearch怎么查看使用的分词器？](https://www.zhihu.com/question/512654810)\n",
    "- [Elasticsearch7.X集成jieba分词插件](https://blog.csdn.net/weixin_42326851/article/details/124615116)\n",
    "- [ElasticSearch-IK分词使用踩坑总结](https://www.jianshu.com/p/f178e59ffaf2)\n",
    "- [ES中文分词-IK分词](https://zhuanlan.zhihu.com/p/357625669)\n"
   ]
  },
  {
   "cell_type": "markdown",
   "id": "840dafa4",
   "metadata": {},
   "source": [
    "-----"
   ]
  }
 ],
 "metadata": {
  "kernelspec": {
   "display_name": "Python 3 (ipykernel)",
   "language": "python",
   "name": "python3"
  },
  "language_info": {
   "codemirror_mode": {
    "name": "ipython",
    "version": 3
   },
   "file_extension": ".py",
   "mimetype": "text/x-python",
   "name": "python",
   "nbconvert_exporter": "python",
   "pygments_lexer": "ipython3",
   "version": "3.10.11"
  },
  "nbTranslate": {
   "displayLangs": [
    "*"
   ],
   "hotkey": "alt-t",
   "langInMainMenu": true,
   "sourceLang": "en",
   "targetLang": "fr",
   "useGoogleTranslate": true
  },
  "toc": {
   "base_numbering": 1,
   "nav_menu": {},
   "number_sections": true,
   "sideBar": true,
   "skip_h1_title": false,
   "title_cell": "Table of Contents",
   "title_sidebar": "Contents",
   "toc_cell": false,
   "toc_position": {},
   "toc_section_display": true,
   "toc_window_display": false
  }
 },
 "nbformat": 4,
 "nbformat_minor": 5
}
