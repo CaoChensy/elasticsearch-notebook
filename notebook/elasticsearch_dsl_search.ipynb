{
 "cells": [
  {
   "cell_type": "markdown",
   "id": "9979a89b",
   "metadata": {},
   "source": [
    "# Search"
   ]
  },
  {
   "cell_type": "markdown",
   "id": "9eba3a4c",
   "metadata": {},
   "source": [
    "> `Search`是`elasticsearch_dsl`中的一个查询类型，它用于构建和执行`Elasticsearch`搜索查询。"
   ]
  },
  {
   "cell_type": "markdown",
   "id": "610166fe",
   "metadata": {},
   "source": [
    "使用`elasticsearch_dsl`的`Search`对象，可以轻松地构不同的查询类型，如`Match、Term、Range`等。除了查询类型之外，`Search`对象还支持聚合、排序、分页、过滤器等功能。\n",
    "\n",
    "以下是一个使用`Search`对象执行查询的示例代码："
   ]
  },
  {
   "cell_type": "code",
   "execution_count": 1,
   "id": "4a7a3eec",
   "metadata": {
    "ExecuteTime": {
     "end_time": "2023-07-02T09:08:07.682633Z",
     "start_time": "2023-07-02T09:08:07.203209Z"
    }
   },
   "outputs": [
    {
     "data": {
      "text/plain": [
       "<Elasticsearch([{'host': 'localhost'}])>"
      ]
     },
     "execution_count": 1,
     "metadata": {},
     "output_type": "execute_result"
    }
   ],
   "source": [
    "from elasticsearch_dsl import Search, Q, connections\n",
    "\n",
    "# 连接到 Elasticsearch\n",
    "connections.create_connection(hosts=['localhost'])"
   ]
  },
  {
   "cell_type": "code",
   "execution_count": 2,
   "id": "6751a848",
   "metadata": {
    "ExecuteTime": {
     "end_time": "2023-07-02T09:08:24.846503Z",
     "start_time": "2023-07-02T09:08:24.843501Z"
    }
   },
   "outputs": [],
   "source": [
    "# 创建一个查询对象\n",
    "search = Search(index='books')"
   ]
  },
  {
   "cell_type": "code",
   "execution_count": 3,
   "id": "702db744",
   "metadata": {
    "ExecuteTime": {
     "end_time": "2023-07-02T09:08:48.981681Z",
     "start_time": "2023-07-02T09:08:48.979680Z"
    }
   },
   "outputs": [],
   "source": [
    "# 添加一个Match查询\n",
    "query = Q('match', title='西游')\n",
    "s = search.query(query)"
   ]
  },
  {
   "cell_type": "code",
   "execution_count": 4,
   "id": "869f992b",
   "metadata": {
    "ExecuteTime": {
     "end_time": "2023-07-02T09:08:52.909521Z",
     "start_time": "2023-07-02T09:08:52.858473Z"
    }
   },
   "outputs": [],
   "source": [
    "# 执行查询\n",
    "response = s.execute()"
   ]
  },
  {
   "cell_type": "code",
   "execution_count": 5,
   "id": "efeed99f",
   "metadata": {
    "ExecuteTime": {
     "end_time": "2023-07-02T09:08:58.229990Z",
     "start_time": "2023-07-02T09:08:58.226987Z"
    }
   },
   "outputs": [
    {
     "data": {
      "text/plain": [
       "<Response: [<Hit(books/iGee8ogByMkpvdhqz2I0): {'title': '西游记', 'description': '由明朝作家吴承恩创作，讲述了孙悟空、猪八戒、沙僧等人与...}>]>"
      ]
     },
     "execution_count": 5,
     "metadata": {},
     "output_type": "execute_result"
    }
   ],
   "source": [
    "response"
   ]
  },
  {
   "cell_type": "code",
   "execution_count": 6,
   "id": "93165e5c",
   "metadata": {
    "ExecuteTime": {
     "end_time": "2023-07-02T09:09:07.646414Z",
     "start_time": "2023-07-02T09:09:07.642410Z"
    }
   },
   "outputs": [
    {
     "name": "stdout",
     "output_type": "stream",
     "text": [
      "title: 西游记\n",
      "description: 由明朝作家吴承恩创作，讲述了孙悟空、猪八戒、沙僧等人与唐僧师徒四人西天取经的故事。小说通过描绘师徒四人在取经路上所遭遇的种种艰难险阻，反映了人性的善恶、道德观念和宽容精神，成为中国文学的经典之作。\n"
     ]
    }
   ],
   "source": [
    "# 遍历搜索结果\n",
    "for hit in response.hits:\n",
    "    print(f'title: {hit.title}')\n",
    "    print(f'description: {hit.description}')"
   ]
  },
  {
   "cell_type": "markdown",
   "id": "816d3d8f",
   "metadata": {},
   "source": [
    "在上面的示例中，我们首先创建了一个Search对象，然后添加了一个Match查询，然后执行查询，并遍历结果并打印标题和描述。"
   ]
  },
  {
   "cell_type": "markdown",
   "id": "dfc08fe2",
   "metadata": {},
   "source": [
    "# MultiSearch"
   ]
  },
  {
   "cell_type": "markdown",
   "id": "24610b6b",
   "metadata": {},
   "source": [
    "可以通过MultiSearch类同时执行多个搜索："
   ]
  },
  {
   "cell_type": "code",
   "execution_count": 7,
   "id": "f9a79d19",
   "metadata": {
    "ExecuteTime": {
     "end_time": "2023-07-02T09:09:18.869722Z",
     "start_time": "2023-07-02T09:09:18.866719Z"
    }
   },
   "outputs": [],
   "source": [
    "from elasticsearch_dsl import MultiSearch, Search"
   ]
  },
  {
   "cell_type": "code",
   "execution_count": 8,
   "id": "dda62d08",
   "metadata": {
    "ExecuteTime": {
     "end_time": "2023-07-02T09:09:23.669465Z",
     "start_time": "2023-07-02T09:09:23.667464Z"
    }
   },
   "outputs": [],
   "source": [
    "ms = MultiSearch(index='books')"
   ]
  },
  {
   "cell_type": "code",
   "execution_count": 9,
   "id": "f06f2784",
   "metadata": {
    "ExecuteTime": {
     "end_time": "2023-07-02T09:09:33.173263Z",
     "start_time": "2023-07-02T09:09:33.170260Z"
    }
   },
   "outputs": [],
   "source": [
    "# 创建第一个查询\n",
    "s1 = Search()\n",
    "s1 = s1.query('match', title='西游')\n",
    "\n",
    "# 将第一个查询添加到MultiSearch对象中\n",
    "ms = ms.add(s1)"
   ]
  },
  {
   "cell_type": "code",
   "execution_count": 10,
   "id": "876e84da",
   "metadata": {
    "ExecuteTime": {
     "end_time": "2023-07-02T09:09:47.118086Z",
     "start_time": "2023-07-02T09:09:47.115084Z"
    }
   },
   "outputs": [],
   "source": [
    "# 创建第二个查询\n",
    "s2 = Search()\n",
    "s2 = s2.query('match', title='水浒')\n",
    "\n",
    "# 将第二个查询添加到MultiSearch对象中\n",
    "ms = ms.add(s2)"
   ]
  },
  {
   "cell_type": "code",
   "execution_count": 12,
   "id": "8bbdde54",
   "metadata": {
    "ExecuteTime": {
     "end_time": "2023-07-02T09:10:12.957058Z",
     "start_time": "2023-07-02T09:10:12.955057Z"
    }
   },
   "outputs": [
    {
     "name": "stdout",
     "output_type": "stream",
     "text": [
      "西游记\n",
      "由明朝作家吴承恩创作，讲述了孙悟空、猪八戒、沙僧等人与唐僧师徒四人西天取经的故事。小说通过描绘师徒四人在取经路上所遭遇的种种艰难险阻，反映了人性的善恶、道德观念和宽容精神，成为中国文学的经典之作。\n",
      "水浒传\n",
      "由明朝作家施耐庵创作，讲述了宋朝末年一群落难英雄在梁山泊起义反抗统治者的故事。小说通过塑造众多英雄人物，描绘了人物的性格和命运，反映了封建社会的黑暗和人民的反抗精神，被称为中国古代小说的代表作之一。\n"
     ]
    }
   ],
   "source": [
    "# 执行多个查询\n",
    "responses = ms.execute()\n",
    "\n",
    "# 遍历每个查询的结果\n",
    "for response in responses:\n",
    "    for hit in response.hits:\n",
    "        print(hit.title)\n",
    "        print(hit.description)"
   ]
  },
  {
   "cell_type": "markdown",
   "id": "fa510b9b",
   "metadata": {},
   "source": [
    "**在后面的例子中将展示更复杂的查询情况**"
   ]
  },
  {
   "cell_type": "markdown",
   "id": "705d69fe",
   "metadata": {},
   "source": [
    "-----"
   ]
  }
 ],
 "metadata": {
  "kernelspec": {
   "display_name": "Python 3 (ipykernel)",
   "language": "python",
   "name": "python3"
  },
  "language_info": {
   "codemirror_mode": {
    "name": "ipython",
    "version": 3
   },
   "file_extension": ".py",
   "mimetype": "text/x-python",
   "name": "python",
   "nbconvert_exporter": "python",
   "pygments_lexer": "ipython3",
   "version": "3.10.11"
  },
  "nbTranslate": {
   "displayLangs": [
    "*"
   ],
   "hotkey": "alt-t",
   "langInMainMenu": true,
   "sourceLang": "en",
   "targetLang": "fr",
   "useGoogleTranslate": true
  },
  "toc": {
   "base_numbering": 1,
   "nav_menu": {},
   "number_sections": true,
   "sideBar": true,
   "skip_h1_title": false,
   "title_cell": "Table of Contents",
   "title_sidebar": "Contents",
   "toc_cell": false,
   "toc_position": {},
   "toc_section_display": true,
   "toc_window_display": false
  }
 },
 "nbformat": 4,
 "nbformat_minor": 5
}
