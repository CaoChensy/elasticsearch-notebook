{
 "cells": [
  {
   "cell_type": "markdown",
   "id": "e458d200",
   "metadata": {},
   "source": [
    "# Query"
   ]
  },
  {
   "cell_type": "markdown",
   "id": "194b82dc",
   "metadata": {},
   "source": [
    "你可以使用快捷方式`Q`通过命名参数或者原始`dict`类型数据来构建查询实例。\n",
    "\n",
    "> 以下的`query`形式与上面的查询形式相同"
   ]
  },
  {
   "cell_type": "code",
   "execution_count": 1,
   "id": "fe68d250",
   "metadata": {
    "ExecuteTime": {
     "end_time": "2023-07-02T09:33:04.863182Z",
     "start_time": "2023-07-02T09:33:04.627445Z"
    }
   },
   "outputs": [],
   "source": [
    "from elasticsearch_dsl import Q\n",
    "from elasticsearch_dsl.query import *"
   ]
  },
  {
   "cell_type": "markdown",
   "id": "3ab3f439",
   "metadata": {},
   "source": [
    "## match"
   ]
  },
  {
   "cell_type": "code",
   "execution_count": 2,
   "id": "094ed855",
   "metadata": {
    "ExecuteTime": {
     "end_time": "2023-07-02T09:33:19.521510Z",
     "start_time": "2023-07-02T09:33:19.516505Z"
    }
   },
   "outputs": [
    {
     "data": {
      "text/plain": [
       "Match(title='python')"
      ]
     },
     "execution_count": 2,
     "metadata": {},
     "output_type": "execute_result"
    }
   ],
   "source": [
    "query = Q('match', title='python')\n",
    "query"
   ]
  },
  {
   "cell_type": "code",
   "execution_count": 3,
   "id": "4daf92f2",
   "metadata": {
    "ExecuteTime": {
     "end_time": "2023-07-02T09:33:24.687193Z",
     "start_time": "2023-07-02T09:33:24.683189Z"
    }
   },
   "outputs": [
    {
     "data": {
      "text/plain": [
       "Match(title='西游')"
      ]
     },
     "execution_count": 3,
     "metadata": {},
     "output_type": "execute_result"
    }
   ],
   "source": [
    "query = Match(title='西游')\n",
    "query"
   ]
  },
  {
   "cell_type": "markdown",
   "id": "42cacadf",
   "metadata": {},
   "source": [
    "## match_all"
   ]
  },
  {
   "cell_type": "code",
   "execution_count": 4,
   "id": "8718efc8",
   "metadata": {
    "ExecuteTime": {
     "end_time": "2023-07-02T09:33:32.679411Z",
     "start_time": "2023-07-02T09:33:32.675409Z"
    }
   },
   "outputs": [
    {
     "data": {
      "text/plain": [
       "MatchAll()"
      ]
     },
     "execution_count": 4,
     "metadata": {},
     "output_type": "execute_result"
    }
   ],
   "source": [
    "query = Q('match_all')\n",
    "query"
   ]
  },
  {
   "cell_type": "code",
   "execution_count": 5,
   "id": "e2407c79",
   "metadata": {
    "ExecuteTime": {
     "end_time": "2023-07-02T09:33:34.470390Z",
     "start_time": "2023-07-02T09:33:34.467388Z"
    }
   },
   "outputs": [
    {
     "data": {
      "text/plain": [
       "MatchAll()"
      ]
     },
     "execution_count": 5,
     "metadata": {},
     "output_type": "execute_result"
    }
   ],
   "source": [
    "query = MatchAll()\n",
    "query"
   ]
  },
  {
   "cell_type": "markdown",
   "id": "437a4f98",
   "metadata": {},
   "source": [
    "## MatchPhrase"
   ]
  },
  {
   "cell_type": "code",
   "execution_count": 6,
   "id": "498c7e97",
   "metadata": {
    "ExecuteTime": {
     "end_time": "2023-07-02T09:33:43.063245Z",
     "start_time": "2023-07-02T09:33:43.059242Z"
    }
   },
   "outputs": [
    {
     "data": {
      "text/plain": [
       "MatchPhrase(title='西游')"
      ]
     },
     "execution_count": 6,
     "metadata": {},
     "output_type": "execute_result"
    }
   ],
   "source": [
    "query = Q('match_phrase', title='西游')\n",
    "query"
   ]
  },
  {
   "cell_type": "code",
   "execution_count": 7,
   "id": "44b186b0",
   "metadata": {
    "ExecuteTime": {
     "end_time": "2023-07-02T09:33:46.032090Z",
     "start_time": "2023-07-02T09:33:46.027086Z"
    }
   },
   "outputs": [
    {
     "data": {
      "text/plain": [
       "MatchPhrase(title='西游')"
      ]
     },
     "execution_count": 7,
     "metadata": {},
     "output_type": "execute_result"
    }
   ],
   "source": [
    "query = MatchPhrase(title='西游')\n",
    "query"
   ]
  },
  {
   "cell_type": "markdown",
   "id": "95e2b735",
   "metadata": {},
   "source": [
    "## MatchPhrasePrefix"
   ]
  },
  {
   "cell_type": "code",
   "execution_count": 8,
   "id": "804785dc",
   "metadata": {
    "ExecuteTime": {
     "end_time": "2023-07-02T09:33:46.693675Z",
     "start_time": "2023-07-02T09:33:46.690671Z"
    }
   },
   "outputs": [
    {
     "data": {
      "text/plain": [
       "MatchPhrasePrefix(description='Py')"
      ]
     },
     "execution_count": 8,
     "metadata": {},
     "output_type": "execute_result"
    }
   ],
   "source": [
    "query = Q('match_phrase_prefix', description='Py')\n",
    "query"
   ]
  },
  {
   "cell_type": "code",
   "execution_count": 9,
   "id": "0a486d19",
   "metadata": {
    "ExecuteTime": {
     "end_time": "2023-07-02T09:33:47.663243Z",
     "start_time": "2023-07-02T09:33:47.659240Z"
    }
   },
   "outputs": [
    {
     "data": {
      "text/plain": [
       "MatchPhrasePrefix(description='Py')"
      ]
     },
     "execution_count": 9,
     "metadata": {},
     "output_type": "execute_result"
    }
   ],
   "source": [
    "query = MatchPhrasePrefix(description='Py')\n",
    "query"
   ]
  },
  {
   "cell_type": "markdown",
   "id": "d43f1ff8",
   "metadata": {},
   "source": [
    "## MatchNone"
   ]
  },
  {
   "cell_type": "code",
   "execution_count": 10,
   "id": "77988c14",
   "metadata": {
    "ExecuteTime": {
     "end_time": "2023-07-02T09:33:50.670077Z",
     "start_time": "2023-07-02T09:33:50.667075Z"
    }
   },
   "outputs": [
    {
     "data": {
      "text/plain": [
       "MatchNone()"
      ]
     },
     "execution_count": 10,
     "metadata": {},
     "output_type": "execute_result"
    }
   ],
   "source": [
    "query = Q('match_none')\n",
    "query"
   ]
  },
  {
   "cell_type": "code",
   "execution_count": 11,
   "id": "e7c123ce",
   "metadata": {
    "ExecuteTime": {
     "end_time": "2023-07-02T09:33:51.015052Z",
     "start_time": "2023-07-02T09:33:51.011049Z"
    }
   },
   "outputs": [
    {
     "data": {
      "text/plain": [
       "MatchNone()"
      ]
     },
     "execution_count": 11,
     "metadata": {},
     "output_type": "execute_result"
    }
   ],
   "source": [
    "query = MatchNone()\n",
    "query"
   ]
  },
  {
   "cell_type": "markdown",
   "id": "5cea2498",
   "metadata": {},
   "source": [
    "## MultiMatch"
   ]
  },
  {
   "cell_type": "code",
   "execution_count": 12,
   "id": "1463d791",
   "metadata": {
    "ExecuteTime": {
     "end_time": "2023-07-02T09:33:51.678241Z",
     "start_time": "2023-07-02T09:33:51.674238Z"
    }
   },
   "outputs": [
    {
     "data": {
      "text/plain": [
       "MultiMatch(fields=['title', 'description'], query='西游记')"
      ]
     },
     "execution_count": 12,
     "metadata": {},
     "output_type": "execute_result"
    }
   ],
   "source": [
    "query = Q('multi_match', query='西游记', fields=['title', 'description'])\n",
    "query"
   ]
  },
  {
   "cell_type": "code",
   "execution_count": 13,
   "id": "9a8c68ab",
   "metadata": {
    "ExecuteTime": {
     "end_time": "2023-07-02T09:33:51.966669Z",
     "start_time": "2023-07-02T09:33:51.963667Z"
    }
   },
   "outputs": [
    {
     "data": {
      "text/plain": [
       "MultiMatch(fields=['title', 'description'], query='西游记')"
      ]
     },
     "execution_count": 13,
     "metadata": {},
     "output_type": "execute_result"
    }
   ],
   "source": [
    "query = MultiMatch(query='西游记', fields=['title', 'description'])\n",
    "query"
   ]
  },
  {
   "cell_type": "markdown",
   "id": "1d7ec1e2",
   "metadata": {},
   "source": [
    "# Query.delete"
   ]
  },
  {
   "cell_type": "markdown",
   "id": "5e724607",
   "metadata": {},
   "source": [
    "> 可以通过调用`Search`对象上的`delete`方法而不是`execute`来实现删除匹配查询到的文档，如下：\n",
    "```python\n",
    "        s = Search(index='i').query(\"match\", title=\"python\")\n",
    "        response = s.delete()\n",
    "```"
   ]
  },
  {
   "cell_type": "markdown",
   "id": "c5280add",
   "metadata": {},
   "source": [
    "# Dotted fields"
   ]
  },
  {
   "cell_type": "markdown",
   "id": "b637f51d",
   "metadata": {},
   "source": [
    "有时候你想要引用一个在其他字段中的字段，例如多字段`title.keyword`或者在一个`json`文档中的`address.city`。为了方便，`Q`允许你使用双下划线`__`代替关键词参数中的`.`。\n",
    "\n",
    "```python\n",
    "    s = Search()\n",
    "    s = s.query('match', address__city='prague')\n",
    "```\n",
    "\n",
    "除此之外，如果你愿意，也可以随时使用`python`的`kwarg`解析功能。\n",
    "\n",
    "```python\n",
    "    s = Search()\n",
    "    s = s.query('match', **{'address.city': 'prague'})\n",
    "```"
   ]
  },
  {
   "cell_type": "markdown",
   "id": "334b7ff3",
   "metadata": {},
   "source": [
    "# Query combination"
   ]
  },
  {
   "cell_type": "markdown",
   "id": "d6587fd4",
   "metadata": {},
   "source": [
    "查询对象可以通过逻辑运算符组合起来："
   ]
  },
  {
   "cell_type": "markdown",
   "id": "c7d42aca",
   "metadata": {},
   "source": [
    "## 或"
   ]
  },
  {
   "cell_type": "code",
   "execution_count": 15,
   "id": "681b1ead",
   "metadata": {
    "ExecuteTime": {
     "end_time": "2023-07-02T09:35:38.446957Z",
     "start_time": "2023-07-02T09:35:38.442954Z"
    }
   },
   "outputs": [
    {
     "data": {
      "text/plain": [
       "Bool(should=[Match(title='python'), Match(title='django')])"
      ]
     },
     "execution_count": 15,
     "metadata": {},
     "output_type": "execute_result"
    }
   ],
   "source": [
    "Q(\"match\", title='python') | Q(\"match\", title='django')"
   ]
  },
  {
   "cell_type": "markdown",
   "id": "21befb9b",
   "metadata": {},
   "source": [
    "当调用`.query()`方法多次时，内部会使用`&`操作符：\n",
    "```python\n",
    "    s = s.query().query()\n",
    "    print(s.to_dict())\n",
    "```"
   ]
  },
  {
   "cell_type": "markdown",
   "id": "524662ec",
   "metadata": {},
   "source": [
    "## 且"
   ]
  },
  {
   "cell_type": "code",
   "execution_count": 14,
   "id": "cb583a4e",
   "metadata": {
    "ExecuteTime": {
     "end_time": "2023-07-02T09:35:36.150983Z",
     "start_time": "2023-07-02T09:35:36.147980Z"
    }
   },
   "outputs": [
    {
     "data": {
      "text/plain": [
       "Bool(must=[Match(title='python'), Match(title='django')])"
      ]
     },
     "execution_count": 14,
     "metadata": {},
     "output_type": "execute_result"
    }
   ],
   "source": [
    "Q(\"match\", title='python') & Q(\"match\", title='django')"
   ]
  },
  {
   "cell_type": "markdown",
   "id": "34ed5f63",
   "metadata": {},
   "source": [
    "## 非"
   ]
  },
  {
   "cell_type": "code",
   "execution_count": null,
   "id": "82478037",
   "metadata": {},
   "outputs": [],
   "source": [
    "~Q(\"match\", title=\"python\")"
   ]
  },
  {
   "cell_type": "markdown",
   "id": "e65d918e",
   "metadata": {},
   "source": [
    "## 复合运算"
   ]
  },
  {
   "cell_type": "markdown",
   "id": "c889d6eb",
   "metadata": {},
   "source": [
    "如果你想要精确控制查询的格式，可以通过Q直接构造组合查询："
   ]
  },
  {
   "cell_type": "markdown",
   "id": "09d827e8",
   "metadata": {},
   "source": [
    "```python\n",
    "    q = Q('bool',\n",
    "        must=[Q('match', title='python')],\n",
    "        should=[Q(...), Q(...)],\n",
    "        minimum_should_match=1\n",
    "    )\n",
    "    s = Search().query(q)\n",
    "```"
   ]
  },
  {
   "cell_type": "markdown",
   "id": "a7640777",
   "metadata": {},
   "source": [
    "------------"
   ]
  }
 ],
 "metadata": {
  "kernelspec": {
   "display_name": "Python 3 (ipykernel)",
   "language": "python",
   "name": "python3"
  },
  "language_info": {
   "codemirror_mode": {
    "name": "ipython",
    "version": 3
   },
   "file_extension": ".py",
   "mimetype": "text/x-python",
   "name": "python",
   "nbconvert_exporter": "python",
   "pygments_lexer": "ipython3",
   "version": "3.10.11"
  },
  "nbTranslate": {
   "displayLangs": [
    "*"
   ],
   "hotkey": "alt-t",
   "langInMainMenu": true,
   "sourceLang": "en",
   "targetLang": "fr",
   "useGoogleTranslate": true
  },
  "toc": {
   "base_numbering": 1,
   "nav_menu": {},
   "number_sections": true,
   "sideBar": true,
   "skip_h1_title": false,
   "title_cell": "Table of Contents",
   "title_sidebar": "Contents",
   "toc_cell": false,
   "toc_position": {},
   "toc_section_display": true,
   "toc_window_display": false
  }
 },
 "nbformat": 4,
 "nbformat_minor": 5
}
