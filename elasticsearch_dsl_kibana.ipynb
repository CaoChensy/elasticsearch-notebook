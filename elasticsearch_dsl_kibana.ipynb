{
 "cells": [
  {
   "cell_type": "markdown",
   "id": "eab27bbd",
   "metadata": {},
   "source": [
    "> `Kibana` 是为 `Elasticsearch` 设计的开源分析和可视化平台。"
   ]
  },
  {
   "cell_type": "markdown",
   "id": "141fc464",
   "metadata": {},
   "source": [
    "# Download"
   ]
  },
  {
   "cell_type": "markdown",
   "id": "7b67d45a",
   "metadata": {
    "ExecuteTime": {
     "end_time": "2023-06-25T03:53:04.464320Z",
     "start_time": "2023-06-25T03:53:04.443826Z"
    }
   },
   "source": [
    "1. 下载[官网](https://www.elastic.co/cn/kibana/)安装文件`kibana-8.7.0-windows-x86_64.zip`。"
   ]
  },
  {
   "cell_type": "markdown",
   "id": "ccfcb20a",
   "metadata": {},
   "source": [
    "# Install"
   ]
  },
  {
   "cell_type": "markdown",
   "id": "bc32bc50",
   "metadata": {
    "ExecuteTime": {
     "end_time": "2023-06-25T03:53:23.933689Z",
     "start_time": "2023-06-25T03:53:23.920173Z"
    }
   },
   "source": [
    "1. 解压`kibana-8.7.0-windows-x86_64.zip`。\n",
    "1. 参考[配置文件示例](https://www.elastic.co/guide/cn/kibana/current/settings.html)进行配置。\n",
    "\t- 配置文件路径`kibana-8.7.0\\config\\kibana.yml`\n",
    "\n",
    "    ```text\n",
    "    server.port: 5601                        # kibana的端口\n",
    "    server.host: \"localhost\"                   # kibana的地址\n",
    "    elasticsearch.hosts: [\"http://localhost:9200\"]     # ElasticSearch的地址 \n",
    "    i18n.locale: \"zh-CN\"                      # 中文设置\n",
    "    ```\n",
    "1. 打开地址`http://localhost:5601`，如果正常访问则安装成功。"
   ]
  },
  {
   "cell_type": "markdown",
   "id": "3c7295be",
   "metadata": {},
   "source": [
    "# kibana查看"
   ]
  },
  {
   "cell_type": "markdown",
   "id": "bd2b71a6",
   "metadata": {},
   "source": [
    "## 索引管理"
   ]
  },
  {
   "cell_type": "markdown",
   "id": "da9607a9",
   "metadata": {},
   "source": [
    "**在索引管理中可以看到Index：books**"
   ]
  },
  {
   "cell_type": "markdown",
   "id": "a7498a83",
   "metadata": {},
   "source": [
    "<center>\n",
    "    <img src='./img/doc_01.png'>\n",
    "</center>"
   ]
  },
  {
   "cell_type": "markdown",
   "id": "2c1878d5",
   "metadata": {},
   "source": [
    "## 创建数据视图"
   ]
  },
  {
   "cell_type": "markdown",
   "id": "e6945007",
   "metadata": {},
   "source": [
    "**在数据视图中创建数据视图**"
   ]
  },
  {
   "cell_type": "markdown",
   "id": "33382f80",
   "metadata": {},
   "source": [
    "<center>\n",
    "    <img src='./img/doc_02.png'>\n",
    "</center>"
   ]
  },
  {
   "cell_type": "markdown",
   "id": "bb8524c0",
   "metadata": {},
   "source": [
    "## Discover"
   ]
  },
  {
   "cell_type": "markdown",
   "id": "c4d5199a",
   "metadata": {},
   "source": [
    "**在Discover中切换到books，进行数据查看与索引**"
   ]
  },
  {
   "cell_type": "markdown",
   "id": "fc11c57d",
   "metadata": {},
   "source": [
    "<center>\n",
    "    <img src='./img/doc_03.png'>\n",
    "</center>"
   ]
  },
  {
   "cell_type": "markdown",
   "id": "e1677a5b",
   "metadata": {},
   "source": [
    "# End"
   ]
  },
  {
   "cell_type": "markdown",
   "id": "56f6d5b6",
   "metadata": {},
   "source": [
    "------"
   ]
  }
 ],
 "metadata": {
  "kernelspec": {
   "display_name": "Python 3 (ipykernel)",
   "language": "python",
   "name": "python3"
  },
  "language_info": {
   "codemirror_mode": {
    "name": "ipython",
    "version": 3
   },
   "file_extension": ".py",
   "mimetype": "text/x-python",
   "name": "python",
   "nbconvert_exporter": "python",
   "pygments_lexer": "ipython3",
   "version": "3.10.11"
  },
  "nbTranslate": {
   "displayLangs": [
    "*"
   ],
   "hotkey": "alt-t",
   "langInMainMenu": true,
   "sourceLang": "en",
   "targetLang": "fr",
   "useGoogleTranslate": true
  },
  "toc": {
   "base_numbering": 1,
   "nav_menu": {},
   "number_sections": true,
   "sideBar": true,
   "skip_h1_title": false,
   "title_cell": "Table of Contents",
   "title_sidebar": "Contents",
   "toc_cell": false,
   "toc_position": {},
   "toc_section_display": true,
   "toc_window_display": false
  }
 },
 "nbformat": 4,
 "nbformat_minor": 5
}
