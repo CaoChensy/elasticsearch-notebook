{
 "cells": [
  {
   "cell_type": "markdown",
   "id": "32be2217",
   "metadata": {},
   "source": [
    "# elasticsearch install"
   ]
  },
  {
   "cell_type": "markdown",
   "id": "bc9f20b2",
   "metadata": {},
   "source": [
    "## 安装"
   ]
  },
  {
   "cell_type": "markdown",
   "id": "64511ec4",
   "metadata": {},
   "source": [
    "> 需要提前安装Java8\n",
    "\n",
    "1. 下载地址[java8](https://www.java.com/download/ie_manual.jsp)\n",
    "2. 按照`jre-8u371-windows-x64.exe`安装引导完成安装。\n",
    "3. 检查安装，检查`java`版本，在`CMD`中输入`java -version`。\n",
    "\n",
    "    ```text\n",
    "    >>> java -version\n",
    "    java version \"1.8.0_371\"\n",
    "    Java(TM) SE Runtime Environment (build 1.8.0_371-b11)\n",
    "    Java HotSpot(TM) 64-Bit Server VM (build 25.371-b11, mixed mode)\n",
    "    ```"
   ]
  },
  {
   "cell_type": "markdown",
   "id": "9d5506d4",
   "metadata": {},
   "source": [
    "> 安装ElasticSearch\n",
    "\n",
    "1. 从这个地址下载 `ElasticSearch` [下载地址](https://www.elastic.co/cn/downloads/elasticsearch)\n",
    "2. 将`elasticsearch-8.7.0-windows-x86_64.zip`解压\n",
    "3. 找到`elasticsearch-8.7.0\\config\\elasticsearch.yml`配置文件，修改以下参数：\n",
    "\n",
    "    ```text\n",
    "    xpack.security.enabled: false\n",
    "    xpack.security.http.ssl:\n",
    "      enabled: false\n",
    "    ```\n",
    "4. 找到`C:\\data\\软件\\kibana-8.7.0\\bin`的`kibana.bat`文件，执行该文件。\n",
    "5. 打开地址：`localhost:9200`，显示以下信息：\n",
    "\n",
    "    ```josn\n",
    "    {\n",
    "        name: \"DESKTOP-EQRLQBR\",\n",
    "        cluster_name: \"elasticsearch\",\n",
    "        cluster_uuid: \"xvA1JJvESsK2TM-VsOly7g\",\n",
    "        version: {\n",
    "            number: \"8.7.0\",\n",
    "            build_flavor: \"default\",\n",
    "            build_type: \"zip\",\n",
    "            build_hash: \"c01029875a091076ed42cdb3a41c10b1a9a5a20f\",\n",
    "            build_date: \"2023-05-23T17:16:07.179039820Z\",\n",
    "            build_snapshot: false,\n",
    "            lucene_version: \"9.6.0\",\n",
    "            minimum_wire_compatibility_version: \"7.17.0\",\n",
    "            minimum_index_compatibility_version: \"7.0.0\"\n",
    "        },\n",
    "        tagline: \"You Know, for Search\"\n",
    "    }\n",
    "    ```"
   ]
  },
  {
   "cell_type": "markdown",
   "id": "48fd050a",
   "metadata": {},
   "source": [
    "## 基本概念"
   ]
  },
  {
   "cell_type": "markdown",
   "id": "8e709889",
   "metadata": {},
   "source": [
    "### `Index`"
   ]
  },
  {
   "cell_type": "markdown",
   "id": "f492ecc3",
   "metadata": {},
   "source": [
    "> Elasticsearch中的index可以理解为类似于数据库中的表的概念，但是两者并不完全相同。\n",
    "\n",
    "在Elasticsearch中，一个index是一个包含了一组相关文档的逻辑容器。这些文档具有相同的数据结构，例如相同的字段和数据类型。每个文档都有一个唯一的ID来标识它。Elasticsearch使用index来组织、存储和检索文档数据。\n",
    "\n",
    "与数据库中的表不同，Elasticsearch中的index可以跨越多个物理节点进行分布式存储和处理。此外，Elasticsearch中的index还具有高可用性、易于扩展和自动分片等特性，这些特性使得Elasticsearch非常适合处理大规模数据和高并发访问的场景。\n",
    "\n",
    "另外，Elasticsearch中的index也可以看作是一种搜索引擎的概念，每个index可以包含多个document，每个document有多个field，可以使用Elasticsearch提供的搜索API进行全文搜索、聚合、过滤等操作。因此，Elasticsearch中的index不仅仅是一个数据容器，更是一个强大的搜索引擎。"
   ]
  },
  {
   "cell_type": "markdown",
   "id": "b5e924f5",
   "metadata": {},
   "source": [
    "## `Python-ElasticSearch`"
   ]
  },
  {
   "cell_type": "markdown",
   "id": "80bc4d37",
   "metadata": {},
   "source": [
    "    ```python\n",
    "    !pip install elasticsearch\n",
    "    !pip install elasticsearch-dsl\n",
    "    ```"
   ]
  },
  {
   "cell_type": "markdown",
   "id": "3d603de4",
   "metadata": {},
   "source": [
    "# kibana"
   ]
  },
  {
   "cell_type": "markdown",
   "id": "d635ff2f",
   "metadata": {},
   "source": [
    "> Kibana 是为 Elasticsearch设计的开源分析和可视化平台。"
   ]
  },
  {
   "cell_type": "markdown",
   "id": "c6cc1897",
   "metadata": {},
   "source": [
    "## 安装"
   ]
  },
  {
   "cell_type": "markdown",
   "id": "881c18b0",
   "metadata": {},
   "source": [
    "1. 下载[官网](https://www.elastic.co/cn/kibana/)安装文件`kibana-7.8.0-windows-x86_64.zip`。\n",
    "2. 解压`kibana-7.8.0-windows-x86_64.zip`。\n",
    "3. 参考[配置文件示例](https://www.elastic.co/guide/cn/kibana/current/settings.html)进行配置。\n",
    "\t- 配置文件路径`kibana-7.8.0\\config\\kibana.yml`\n",
    "\n",
    "    ```text\n",
    "    server.port: 5601\n",
    "    server.host: \"localhost\"\n",
    "    elasticsearch.hosts: [\"http://localhost:9200\"]\n",
    "    i18n.locale: \"zh-CN\"\n",
    "    ```\n",
    "4. 打开地址`http://localhost:5601`，如果正常访问则安装成功。"
   ]
  },
  {
   "cell_type": "markdown",
   "id": "9976afcc",
   "metadata": {},
   "source": [
    "## 配置`index`"
   ]
  },
  {
   "cell_type": "markdown",
   "id": "21be6f7d",
   "metadata": {},
   "source": [
    "<img src='./img/kibana_1.png' width='380px'>\n",
    "\n",
    "<img src='./img/kibana_2.png' width='680px'>\n",
    "\n",
    "<img src='./img/kibana_3.png' width='680px'>\n",
    "\n",
    "----"
   ]
  },
  {
   "cell_type": "markdown",
   "id": "0f6e5b47",
   "metadata": {},
   "source": [
    "# 参考"
   ]
  },
  {
   "cell_type": "markdown",
   "id": "e8cd7ebd",
   "metadata": {},
   "source": [
    "- [elasticsearch-py](https://elasticsearch-py.readthedocs.io/en/v8.8.0/index.html)\n",
    "- [Elasticsearch DSL](https://elasticsearch-dsl.readthedocs.io/en/latest/index.html#)\n",
    "- [Elasticsearch DSL GitHub](https://github.com/elastic/elasticsearch-dsl-py)"
   ]
  },
  {
   "cell_type": "markdown",
   "id": "e096b75e",
   "metadata": {},
   "source": [
    "----"
   ]
  }
 ],
 "metadata": {
  "kernelspec": {
   "display_name": "Python 3 (ipykernel)",
   "language": "python",
   "name": "python3"
  },
  "language_info": {
   "codemirror_mode": {
    "name": "ipython",
    "version": 3
   },
   "file_extension": ".py",
   "mimetype": "text/x-python",
   "name": "python",
   "nbconvert_exporter": "python",
   "pygments_lexer": "ipython3",
   "version": "3.10.11"
  },
  "nbTranslate": {
   "displayLangs": [
    "*"
   ],
   "hotkey": "alt-t",
   "langInMainMenu": true,
   "sourceLang": "en",
   "targetLang": "fr",
   "useGoogleTranslate": true
  },
  "toc": {
   "base_numbering": 1,
   "nav_menu": {},
   "number_sections": true,
   "sideBar": true,
   "skip_h1_title": false,
   "title_cell": "Table of Contents",
   "title_sidebar": "Contents",
   "toc_cell": false,
   "toc_position": {},
   "toc_section_display": true,
   "toc_window_display": false
  }
 },
 "nbformat": 4,
 "nbformat_minor": 5
}
